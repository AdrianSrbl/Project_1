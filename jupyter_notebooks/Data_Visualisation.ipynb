{
  "cells": [
    {
      "cell_type": "markdown",
      "metadata": {
        "id": "9uWZXH9LwoQg"
      },
      "source": [
        "---"
      ]
    },
    {
      "cell_type": "markdown",
      "metadata": {
        "id": "cqP-UeN-z3i2"
      },
      "source": [
        "# Change working directory"
      ]
    },
    {
      "cell_type": "code",
      "execution_count": 2,
      "metadata": {
        "id": "wZfF_j-Bz3i4",
        "outputId": "66943449-1436-4c3d-85c7-b85f9f78349b"
      },
      "outputs": [
        {
          "data": {
            "text/plain": [
              "'d:\\\\VS-projects\\\\my_first_project\\\\Project_1\\\\jupyter_notebooks'"
            ]
          },
          "execution_count": 2,
          "metadata": {},
          "output_type": "execute_result"
        }
      ],
      "source": [
        "import os\n",
        "current_dir = os.getcwd()\n",
        "current_dir"
      ]
    },
    {
      "cell_type": "markdown",
      "metadata": {
        "id": "9MWW8E7lz3i7"
      },
      "source": [
        "We want to make the parent of the current directory the new current directory\n",
        "* os.path.dirname() gets the parent directory\n",
        "* os.chir() defines the new current directory"
      ]
    },
    {
      "cell_type": "code",
      "execution_count": 3,
      "metadata": {
        "id": "TwHsQRWjz3i9",
        "outputId": "86849db3-cd2f-4cc5-ebb8-2d0caafa1a2c"
      },
      "outputs": [
        {
          "name": "stdout",
          "output_type": "stream",
          "text": [
            "You set a new current directory\n"
          ]
        }
      ],
      "source": [
        "os.chdir(os.path.dirname(current_dir))\n",
        "print(\"You set a new current directory\")"
      ]
    },
    {
      "cell_type": "markdown",
      "metadata": {
        "id": "M_xPk_Ijz3i-"
      },
      "source": [
        "Confirm the new current directory"
      ]
    },
    {
      "cell_type": "code",
      "execution_count": 4,
      "metadata": {
        "id": "vz3S-_kjz3jA",
        "outputId": "00b79ae4-75d0-4a96-d193-ac9ef9847ea2"
      },
      "outputs": [
        {
          "data": {
            "text/plain": [
              "'d:\\\\VS-projects\\\\my_first_project\\\\Project_1'"
            ]
          },
          "execution_count": 4,
          "metadata": {},
          "output_type": "execute_result"
        }
      ],
      "source": [
        "current_dir = os.getcwd()\n",
        "current_dir"
      ]
    },
    {
      "cell_type": "markdown",
      "metadata": {
        "id": "-mavJ8DibrcQ"
      },
      "source": [
        "# Section 1"
      ]
    },
    {
      "cell_type": "markdown",
      "metadata": {},
      "source": [
        "Section 1 content"
      ]
    },
    {
      "cell_type": "markdown",
      "metadata": {},
      "source": [
        "* Importing dataset for visualisation"
      ]
    },
    {
      "cell_type": "code",
      "execution_count": 5,
      "metadata": {},
      "outputs": [
        {
          "data": {
            "text/html": [
              "<div>\n",
              "<style scoped>\n",
              "    .dataframe tbody tr th:only-of-type {\n",
              "        vertical-align: middle;\n",
              "    }\n",
              "\n",
              "    .dataframe tbody tr th {\n",
              "        vertical-align: top;\n",
              "    }\n",
              "\n",
              "    .dataframe thead th {\n",
              "        text-align: right;\n",
              "    }\n",
              "</style>\n",
              "<table border=\"1\" class=\"dataframe\">\n",
              "  <thead>\n",
              "    <tr style=\"text-align: right;\">\n",
              "      <th></th>\n",
              "      <th>work_year</th>\n",
              "      <th>experience_level</th>\n",
              "      <th>job_title</th>\n",
              "      <th>salary_in_usd</th>\n",
              "      <th>remote_ratio</th>\n",
              "      <th>company_location</th>\n",
              "    </tr>\n",
              "  </thead>\n",
              "  <tbody>\n",
              "    <tr>\n",
              "      <th>0</th>\n",
              "      <td>2025</td>\n",
              "      <td>EX</td>\n",
              "      <td>Head of Data</td>\n",
              "      <td>348516</td>\n",
              "      <td>0</td>\n",
              "      <td>US</td>\n",
              "    </tr>\n",
              "    <tr>\n",
              "      <th>1</th>\n",
              "      <td>2025</td>\n",
              "      <td>EX</td>\n",
              "      <td>Head of Data</td>\n",
              "      <td>232344</td>\n",
              "      <td>0</td>\n",
              "      <td>US</td>\n",
              "    </tr>\n",
              "    <tr>\n",
              "      <th>2</th>\n",
              "      <td>2025</td>\n",
              "      <td>SE</td>\n",
              "      <td>Data Scientist</td>\n",
              "      <td>145400</td>\n",
              "      <td>0</td>\n",
              "      <td>US</td>\n",
              "    </tr>\n",
              "    <tr>\n",
              "      <th>3</th>\n",
              "      <td>2025</td>\n",
              "      <td>SE</td>\n",
              "      <td>Data Scientist</td>\n",
              "      <td>81600</td>\n",
              "      <td>0</td>\n",
              "      <td>US</td>\n",
              "    </tr>\n",
              "    <tr>\n",
              "      <th>4</th>\n",
              "      <td>2025</td>\n",
              "      <td>MI</td>\n",
              "      <td>Engineer</td>\n",
              "      <td>160000</td>\n",
              "      <td>100</td>\n",
              "      <td>US</td>\n",
              "    </tr>\n",
              "  </tbody>\n",
              "</table>\n",
              "</div>"
            ],
            "text/plain": [
              "   work_year experience_level       job_title  salary_in_usd  remote_ratio  \\\n",
              "0       2025               EX    Head of Data         348516             0   \n",
              "1       2025               EX    Head of Data         232344             0   \n",
              "2       2025               SE  Data Scientist         145400             0   \n",
              "3       2025               SE  Data Scientist          81600             0   \n",
              "4       2025               MI        Engineer         160000           100   \n",
              "\n",
              "  company_location  \n",
              "0               US  \n",
              "1               US  \n",
              "2               US  \n",
              "3               US  \n",
              "4               US  "
            ]
          },
          "execution_count": 5,
          "metadata": {},
          "output_type": "execute_result"
        }
      ],
      "source": [
        "import numpy as np\n",
        "import pandas as pd\n",
        "import matplotlib.pyplot as plt\n",
        "import seaborn as sns\n",
        "import plotly.express as px\n",
        "df = pd.read_csv('dataset/processed/salaries_processed.csv')\n",
        "df.head()"
      ]
    },
    {
      "cell_type": "markdown",
      "metadata": {
        "id": "uFQo3ycuO-v6"
      },
      "source": [
        "# Section 2"
      ]
    },
    {
      "cell_type": "markdown",
      "metadata": {
        "id": "ZY3l0-AxO93d"
      },
      "source": [
        "---"
      ]
    },
    {
      "cell_type": "markdown",
      "metadata": {},
      "source": [
        "Section 2 data visualisation\n",
        "* Visualising with Matplotlib, Seaborn, and Plotly\n",
        "* Pie Chart with Matplotlib"
      ]
    },
    {
      "cell_type": "code",
      "execution_count": 11,
      "metadata": {},
      "outputs": [
        {
          "data": {
            "image/png": "[encoded data removed]",
            "text/plain": [
              "<Figure size 800x800 with 1 Axes>"
            ]
          },
          "metadata": {},
          "output_type": "display_data"
        }
      ],
      "source": [
        "top_jobs = df['job_title'].value_counts().head(10)\n",
        "plt.figure(figsize=(8,8))\n",
        "plt.pie(top_jobs, labels=top_jobs.index, autopct='%1.1f%%', startangle=140)\n",
        "plt.title('Top 10 Job Titles Distribution')\n",
        "plt.axis('equal')\n",
        "plt.show()"
      ]
    },
    {
      "cell_type": "markdown",
      "metadata": {},
      "source": [
        "The pie chart above displays the distribution of the top 10 most common job titles in the dataset. Each slice represents a job title, and the size of the slice corresponds to the proportion of that job title among the top 10. This visualization helps to quickly identify which job roles are most prevalent in the data and how they compare to each other in terms of frequency."
      ]
    },
    {
      "cell_type": "markdown",
      "metadata": {},
      "source": [
        "Box plot of salary distribution by work year with matplotlib"
      ]
    },
    {
      "cell_type": "code",
      "execution_count": 16,
      "metadata": {},
      "outputs": [
        {
          "data": {
            "text/plain": [
              "<Figure size 1000x600 with 0 Axes>"
            ]
          },
          "metadata": {},
          "output_type": "display_data"
        },
        {
          "data": {
            "image/png": "[encoded data removed]",
            "text/plain": [
              "<Figure size 640x480 with 1 Axes>"
            ]
          },
          "metadata": {},
          "output_type": "display_data"
        }
      ],
      "source": [
        "plt.figure(figsize=(10,6))\n",
        "df.boxplot(column='salary_in_usd', by='work_year', grid=False)\n",
        "plt.title('Salary Distribution by Work Year')\n",
        "plt.suptitle('')\n",
        "plt.xlabel('Work Year')\n",
        "plt.ylabel('Salary in USD')\n",
        "plt.show()"
      ]
    },
    {
      "cell_type": "markdown",
      "metadata": {},
      "source": [
        "The box plot above shows the distribution of salaries (in USD) for each work year. Each box represents the interquartile range (IQR) of salaries for a given year, with the line inside the box indicating the median salary. The whiskers extend to show the range of the data, excluding outliers, which are plotted as individual points. This visualization helps to compare salary distributions across years, identify trends, and spot any significant changes or outliers in the data."
      ]
    },
    {
      "cell_type": "markdown",
      "metadata": {},
      "source": [
        "Line plot of average salary over time with matplotlib\n"
      ]
    },
    {
      "cell_type": "code",
      "execution_count": 15,
      "metadata": {},
      "outputs": [
        {
          "data": {
            "image/png": "[encoded data removed]",
            "text/plain": [
              "<Figure size 1000x600 with 1 Axes>"
            ]
          },
          "metadata": {},
          "output_type": "display_data"
        }
      ],
      "source": [
        "salary_trend = df.groupby('work_year')['salary_in_usd'].mean().reset_index()\n",
        "plt.figure(figsize=(10,6))\n",
        "plt.plot(salary_trend['work_year'], salary_trend['salary_in_usd'], marker='o')\n",
        "plt.title('Average Salary Trend Over Time')\n",
        "plt.xlabel('Year')\n",
        "plt.ylabel('Average Salary (USD)')\n",
        "plt.grid(True)\n",
        "plt.show()"
      ]
    },
    {
      "cell_type": "markdown",
      "metadata": {},
      "source": [
        "The line plot above illustrates the trend of average salaries (in USD) over the years. Each point on the line represents the mean salary for a specific year, and the line connects these points to show how salaries have changed over time. This visualization helps to identify overall trends, such as increases or decreases in average salaries, and can highlight periods of significant change or stability in the data."
      ]
    },
    {
      "cell_type": "markdown",
      "metadata": {},
      "source": [
        "Distribution plot of salaries with seaborn"
      ]
    },
    {
      "cell_type": "code",
      "execution_count": 17,
      "metadata": {},
      "outputs": [
        {
          "data": {
            "image/png": "[encoded data removed]",
            "text/plain": [
              "<Figure size 640x480 with 1 Axes>"
            ]
          },
          "metadata": {},
          "output_type": "display_data"
        }
      ],
      "source": [
        "sns.histplot(df['salary_in_usd'], kde=True, bins=30)\n",
        "plt.title('Distribution of Salaries (USD)')\n",
        "plt.xlabel('Salary in USD')\n",
        "plt.ylabel('Frequency')\n",
        "plt.show()"
      ]
    },
    {
      "cell_type": "markdown",
      "metadata": {},
      "source": [
        "The distribution plot above shows how salaries (in USD) are spread across the dataset. The histogram bars represent the frequency of salaries within specific ranges, while the smooth curve (KDE) estimates the probability density of the data. This visualization helps to identify the most common salary ranges, detect skewness, and spot any outliers or unusual patterns in the salary distribution."
      ]
    },
    {
      "cell_type": "markdown",
      "metadata": {},
      "source": [
        "Smart plot with seaborn"
      ]
    },
    {
      "cell_type": "code",
      "execution_count": 18,
      "metadata": {},
      "outputs": [
        {
          "data": {
            "image/png": "[encoded data removed]",
            "text/plain": [
              "<Figure size 500x500 with 6 Axes>"
            ]
          },
          "metadata": {},
          "output_type": "display_data"
        }
      ],
      "source": [
        "sns.pairplot(df[['salary_in_usd', 'work_year']], diag_kind='kde')\n",
        "plt.suptitle('Pairplot of Salary and Work Year', y=1.02)\n",
        "plt.show()"
      ]
    },
    {
      "cell_type": "markdown",
      "metadata": {},
      "source": [
        "The pairplot above provides a comprehensive view of the relationships between the numerical variables 'salary_in_usd' and 'work_year'. The diagonal plots show the distribution of each variable, while the off-diagonal plots display scatterplots that reveal correlations between variables. This smart plot helps to quickly identify trends, patterns, and potential outliers, making it easier to understand how salary and work year are related in the dataset."
      ]
    },
    {
      "cell_type": "markdown",
      "metadata": {},
      "source": [
        "KDE plot of salaries with seaborn"
      ]
    },
    {
      "cell_type": "code",
      "execution_count": 21,
      "metadata": {},
      "outputs": [
        {
          "data": {
            "image/png": "[encoded data removed]",
            "text/plain": [
              "<Figure size 800x600 with 1 Axes>"
            ]
          },
          "metadata": {},
          "output_type": "display_data"
        }
      ],
      "source": [
        "plt.figure(figsize=(8,6))\n",
        "sns.kdeplot(df['salary_in_usd'], fill=True, color='skyblue')\n",
        "plt.title('Kernel Density Estimate (KDE) of Salaries (USD)')\n",
        "plt.xlabel('Salary in USD')\n",
        "plt.ylabel('Density')\n",
        "plt.show()"
      ]
    },
    {
      "cell_type": "markdown",
      "metadata": {},
      "source": [
        " The KDE plot above visualizes the distribution of salaries (in USD) across the dataset. The shaded area represents the estimated probability density function, showing where salaries are most concentrated. This plot helps to identify the overall shape of the salary distribution, including peaks, skewness, and potential outliers, providing insights into how salaries vary within the dataset."
      ]
    },
    {
      "cell_type": "markdown",
      "metadata": {},
      "source": [
        "Area plot of average salary over time with Plotly"
      ]
    },
    {
      "cell_type": "code",
      "execution_count": 23,
      "metadata": {},
      "outputs": [
        {
          "data": {
            "application/vnd.plotly.v1+json": {
              "config": {
                "plotlyServerURL": "https://plot.ly"
              },
              "data": [
                {
                  "fillpattern": {
                    "shape": ""
                  },
                  "hovertemplate": "Year=%{x}<br>Average Salary (USD)=%{y}<extra></extra>",
                  "legendgroup": "",
                  "line": {
                    "color": "#636efa"
                  },
                  "marker": {
                    "symbol": "circle"
                  },
                  "mode": "lines",
                  "name": "",
                  "orientation": "v",
                  "showlegend": false,
                  "stackgroup": "1",
                  "type": "scatter",
                  "x": [
                    2020,
                    2021,
                    2022,
                    2023,
                    2024,
                    2025
                  ],
                  "xaxis": "x",
                  "y": [
                    102250.86666666667,
                    99922.07339449541,
                    134146.4714027694,
                    153682.16037071796,
                    159589.55776738806,
                    157018.98258516882
                  ],
                  "yaxis": "y"
                }
              ],
              "layout": {
                "legend": {
                  "tracegroupgap": 0
                },
                "template": {
                  "data": {
                    "bar": [
                      {
                        "error_x": {
                          "color": "#2a3f5f"
                        },
                        "error_y": {
                          "color": "#2a3f5f"
                        },
                        "marker": {
                          "line": {
                            "color": "#E5ECF6",
                            "width": 0.5
                          },
                          "pattern": {
                            "fillmode": "overlay",
                            "size": 10,
                            "solidity": 0.2
                          }
                        },
                        "type": "bar"
                      }
                    ],
                    "barpolar": [
                      {
                        "marker": {
                          "line": {
                            "color": "#E5ECF6",
                            "width": 0.5
                          },
                          "pattern": {
                            "fillmode": "overlay",
                            "size": 10,
                            "solidity": 0.2
                          }
                        },
                        "type": "barpolar"
                      }
                    ],
                    "carpet": [
                      {
                        "aaxis": {
                          "endlinecolor": "#2a3f5f",
                          "gridcolor": "white",
                          "linecolor": "white",
                          "minorgridcolor": "white",
                          "startlinecolor": "#2a3f5f"
                        },
                        "baxis": {
                          "endlinecolor": "#2a3f5f",
                          "gridcolor": "white",
                          "linecolor": "white",
                          "minorgridcolor": "white",
                          "startlinecolor": "#2a3f5f"
                        },
                        "type": "carpet"
                      }
                    ],
                    "choropleth": [
                      {
                        "colorbar": {
                          "outlinewidth": 0,
                          "ticks": ""
                        },
                        "type": "choropleth"
                      }
                    ],
                    "contour": [
                      {
                        "colorbar": {
                          "outlinewidth": 0,
                          "ticks": ""
                        },
                        "colorscale": [
                          [
                            0,
                            "#0d0887"
                          ],
                          [
                            0.1111111111111111,
                            "#46039f"
                          ],
                          [
                            0.2222222222222222,
                            "#7201a8"
                          ],
                          [
                            0.3333333333333333,
                            "#9c179e"
                          ],
                          [
                            0.4444444444444444,
                            "#bd3786"
                          ],
                          [
                            0.5555555555555556,
                            "#d8576b"
                          ],
                          [
                            0.6666666666666666,
                            "#ed7953"
                          ],
                          [
                            0.7777777777777778,
                            "#fb9f3a"
                          ],
                          [
                            0.8888888888888888,
                            "#fdca26"
                          ],
                          [
                            1,
                            "#f0f921"
                          ]
                        ],
                        "type": "contour"
                      }
                    ],
                    "contourcarpet": [
                      {
                        "colorbar": {
                          "outlinewidth": 0,
                          "ticks": ""
                        },
                        "type": "contourcarpet"
                      }
                    ],
                    "heatmap": [
                      {
                        "colorbar": {
                          "outlinewidth": 0,
                          "ticks": ""
                        },
                        "colorscale": [
                          [
                            0,
                            "#0d0887"
                          ],
                          [
                            0.1111111111111111,
                            "#46039f"
                          ],
                          [
                            0.2222222222222222,
                            "#7201a8"
                          ],
                          [
                            0.3333333333333333,
                            "#9c179e"
                          ],
                          [
                            0.4444444444444444,
                            "#bd3786"
                          ],
                          [
                            0.5555555555555556,
                            "#d8576b"
                          ],
                          [
                            0.6666666666666666,
                            "#ed7953"
                          ],
                          [
                            0.7777777777777778,
                            "#fb9f3a"
                          ],
                          [
                            0.8888888888888888,
                            "#fdca26"
                          ],
                          [
                            1,
                            "#f0f921"
                          ]
                        ],
                        "type": "heatmap"
                      }
                    ],
                    "heatmapgl": [
                      {
                        "colorbar": {
                          "outlinewidth": 0,
                          "ticks": ""
                        },
                        "colorscale": [
                          [
                            0,
                            "#0d0887"
                          ],
                          [
                            0.1111111111111111,
                            "#46039f"
                          ],
                          [
                            0.2222222222222222,
                            "#7201a8"
                          ],
                          [
                            0.3333333333333333,
                            "#9c179e"
                          ],
                          [
                            0.4444444444444444,
                            "#bd3786"
                          ],
                          [
                            0.5555555555555556,
                            "#d8576b"
                          ],
                          [
                            0.6666666666666666,
                            "#ed7953"
                          ],
                          [
                            0.7777777777777778,
                            "#fb9f3a"
                          ],
                          [
                            0.8888888888888888,
                            "#fdca26"
                          ],
                          [
                            1,
                            "#f0f921"
                          ]
                        ],
                        "type": "heatmapgl"
                      }
                    ],
                    "histogram": [
                      {
                        "marker": {
                          "pattern": {
                            "fillmode": "overlay",
                            "size": 10,
                            "solidity": 0.2
                          }
                        },
                        "type": "histogram"
                      }
                    ],
                    "histogram2d": [
                      {
                        "colorbar": {
                          "outlinewidth": 0,
                          "ticks": ""
                        },
                        "colorscale": [
                          [
                            0,
                            "#0d0887"
                          ],
                          [
                            0.1111111111111111,
                            "#46039f"
                          ],
                          [
                            0.2222222222222222,
                            "#7201a8"
                          ],
                          [
                            0.3333333333333333,
                            "#9c179e"
                          ],
                          [
                            0.4444444444444444,
                            "#bd3786"
                          ],
                          [
                            0.5555555555555556,
                            "#d8576b"
                          ],
                          [
                            0.6666666666666666,
                            "#ed7953"
                          ],
                          [
                            0.7777777777777778,
                            "#fb9f3a"
                          ],
                          [
                            0.8888888888888888,
                            "#fdca26"
                          ],
                          [
                            1,
                            "#f0f921"
                          ]
                        ],
                        "type": "histogram2d"
                      }
                    ],
                    "histogram2dcontour": [
                      {
                        "colorbar": {
                          "outlinewidth": 0,
                          "ticks": ""
                        },
                        "colorscale": [
                          [
                            0,
                            "#0d0887"
                          ],
                          [
                            0.1111111111111111,
                            "#46039f"
                          ],
                          [
                            0.2222222222222222,
                            "#7201a8"
                          ],
                          [
                            0.3333333333333333,
                            "#9c179e"
                          ],
                          [
                            0.4444444444444444,
                            "#bd3786"
                          ],
                          [
                            0.5555555555555556,
                            "#d8576b"
                          ],
                          [
                            0.6666666666666666,
                            "#ed7953"
                          ],
                          [
                            0.7777777777777778,
                            "#fb9f3a"
                          ],
                          [
                            0.8888888888888888,
                            "#fdca26"
                          ],
                          [
                            1,
                            "#f0f921"
                          ]
                        ],
                        "type": "histogram2dcontour"
                      }
                    ],
                    "mesh3d": [
                      {
                        "colorbar": {
                          "outlinewidth": 0,
                          "ticks": ""
                        },
                        "type": "mesh3d"
                      }
                    ],
                    "parcoords": [
                      {
                        "line": {
                          "colorbar": {
                            "outlinewidth": 0,
                            "ticks": ""
                          }
                        },
                        "type": "parcoords"
                      }
                    ],
                    "pie": [
                      {
                        "automargin": true,
                        "type": "pie"
                      }
                    ],
                    "scatter": [
                      {
                        "fillpattern": {
                          "fillmode": "overlay",
                          "size": 10,
                          "solidity": 0.2
                        },
                        "type": "scatter"
                      }
                    ],
                    "scatter3d": [
                      {
                        "line": {
                          "colorbar": {
                            "outlinewidth": 0,
                            "ticks": ""
                          }
                        },
                        "marker": {
                          "colorbar": {
                            "outlinewidth": 0,
                            "ticks": ""
                          }
                        },
                        "type": "scatter3d"
                      }
                    ],
                    "scattercarpet": [
                      {
                        "marker": {
                          "colorbar": {
                            "outlinewidth": 0,
                            "ticks": ""
                          }
                        },
                        "type": "scattercarpet"
                      }
                    ],
                    "scattergeo": [
                      {
                        "marker": {
                          "colorbar": {
                            "outlinewidth": 0,
                            "ticks": ""
                          }
                        },
                        "type": "scattergeo"
                      }
                    ],
                    "scattergl": [
                      {
                        "marker": {
                          "colorbar": {
                            "outlinewidth": 0,
                            "ticks": ""
                          }
                        },
                        "type": "scattergl"
                      }
                    ],
                    "scattermapbox": [
                      {
                        "marker": {
                          "colorbar": {
                            "outlinewidth": 0,
                            "ticks": ""
                          }
                        },
                        "type": "scattermapbox"
                      }
                    ],
                    "scatterpolar": [
                      {
                        "marker": {
                          "colorbar": {
                            "outlinewidth": 0,
                            "ticks": ""
                          }
                        },
                        "type": "scatterpolar"
                      }
                    ],
                    "scatterpolargl": [
                      {
                        "marker": {
                          "colorbar": {
                            "outlinewidth": 0,
                            "ticks": ""
                          }
                        },
                        "type": "scatterpolargl"
                      }
                    ],
                    "scatterternary": [
                      {
                        "marker": {
                          "colorbar": {
                            "outlinewidth": 0,
                            "ticks": ""
                          }
                        },
                        "type": "scatterternary"
                      }
                    ],
                    "surface": [
                      {
                        "colorbar": {
                          "outlinewidth": 0,
                          "ticks": ""
                        },
                        "colorscale": [
                          [
                            0,
                            "#0d0887"
                          ],
                          [
                            0.1111111111111111,
                            "#46039f"
                          ],
                          [
                            0.2222222222222222,
                            "#7201a8"
                          ],
                          [
                            0.3333333333333333,
                            "#9c179e"
                          ],
                          [
                            0.4444444444444444,
                            "#bd3786"
                          ],
                          [
                            0.5555555555555556,
                            "#d8576b"
                          ],
                          [
                            0.6666666666666666,
                            "#ed7953"
                          ],
                          [
                            0.7777777777777778,
                            "#fb9f3a"
                          ],
                          [
                            0.8888888888888888,
                            "#fdca26"
                          ],
                          [
                            1,
                            "#f0f921"
                          ]
                        ],
                        "type": "surface"
                      }
                    ],
                    "table": [
                      {
                        "cells": {
                          "fill": {
                            "color": "#EBF0F8"
                          },
                          "line": {
                            "color": "white"
                          }
                        },
                        "header": {
                          "fill": {
                            "color": "#C8D4E3"
                          },
                          "line": {
                            "color": "white"
                          }
                        },
                        "type": "table"
                      }
                    ]
                  },
                  "layout": {
                    "annotationdefaults": {
                      "arrowcolor": "#2a3f5f",
                      "arrowhead": 0,
                      "arrowwidth": 1
                    },
                    "autotypenumbers": "strict",
                    "coloraxis": {
                      "colorbar": {
                        "outlinewidth": 0,
                        "ticks": ""
                      }
                    },
                    "colorscale": {
                      "diverging": [
                        [
                          0,
                          "#8e0152"
                        ],
                        [
                          0.1,
                          "#c51b7d"
                        ],
                        [
                          0.2,
                          "#de77ae"
                        ],
                        [
                          0.3,
                          "#f1b6da"
                        ],
                        [
                          0.4,
                          "#fde0ef"
                        ],
                        [
                          0.5,
                          "#f7f7f7"
                        ],
                        [
                          0.6,
                          "#e6f5d0"
                        ],
                        [
                          0.7,
                          "#b8e186"
                        ],
                        [
                          0.8,
                          "#7fbc41"
                        ],
                        [
                          0.9,
                          "#4d9221"
                        ],
                        [
                          1,
                          "#276419"
                        ]
                      ],
                      "sequential": [
                        [
                          0,
                          "#0d0887"
                        ],
                        [
                          0.1111111111111111,
                          "#46039f"
                        ],
                        [
                          0.2222222222222222,
                          "#7201a8"
                        ],
                        [
                          0.3333333333333333,
                          "#9c179e"
                        ],
                        [
                          0.4444444444444444,
                          "#bd3786"
                        ],
                        [
                          0.5555555555555556,
                          "#d8576b"
                        ],
                        [
                          0.6666666666666666,
                          "#ed7953"
                        ],
                        [
                          0.7777777777777778,
                          "#fb9f3a"
                        ],
                        [
                          0.8888888888888888,
                          "#fdca26"
                        ],
                        [
                          1,
                          "#f0f921"
                        ]
                      ],
                      "sequentialminus": [
                        [
                          0,
                          "#0d0887"
                        ],
                        [
                          0.1111111111111111,
                          "#46039f"
                        ],
                        [
                          0.2222222222222222,
                          "#7201a8"
                        ],
                        [
                          0.3333333333333333,
                          "#9c179e"
                        ],
                        [
                          0.4444444444444444,
                          "#bd3786"
                        ],
                        [
                          0.5555555555555556,
                          "#d8576b"
                        ],
                        [
                          0.6666666666666666,
                          "#ed7953"
                        ],
                        [
                          0.7777777777777778,
                          "#fb9f3a"
                        ],
                        [
                          0.8888888888888888,
                          "#fdca26"
                        ],
                        [
                          1,
                          "#f0f921"
                        ]
                      ]
                    },
                    "colorway": [
                      "#636efa",
                      "#EF553B",
                      "#00cc96",
                      "#ab63fa",
                      "#FFA15A",
                      "#19d3f3",
                      "#FF6692",
                      "#B6E880",
                      "#FF97FF",
                      "#FECB52"
                    ],
                    "font": {
                      "color": "#2a3f5f"
                    },
                    "geo": {
                      "bgcolor": "white",
                      "lakecolor": "white",
                      "landcolor": "#E5ECF6",
                      "showlakes": true,
                      "showland": true,
                      "subunitcolor": "white"
                    },
                    "hoverlabel": {
                      "align": "left"
                    },
                    "hovermode": "closest",
                    "mapbox": {
                      "style": "light"
                    },
                    "paper_bgcolor": "white",
                    "plot_bgcolor": "#E5ECF6",
                    "polar": {
                      "angularaxis": {
                        "gridcolor": "white",
                        "linecolor": "white",
                        "ticks": ""
                      },
                      "bgcolor": "#E5ECF6",
                      "radialaxis": {
                        "gridcolor": "white",
                        "linecolor": "white",
                        "ticks": ""
                      }
                    },
                    "scene": {
                      "xaxis": {
                        "backgroundcolor": "#E5ECF6",
                        "gridcolor": "white",
                        "gridwidth": 2,
                        "linecolor": "white",
                        "showbackground": true,
                        "ticks": "",
                        "zerolinecolor": "white"
                      },
                      "yaxis": {
                        "backgroundcolor": "#E5ECF6",
                        "gridcolor": "white",
                        "gridwidth": 2,
                        "linecolor": "white",
                        "showbackground": true,
                        "ticks": "",
                        "zerolinecolor": "white"
                      },
                      "zaxis": {
                        "backgroundcolor": "#E5ECF6",
                        "gridcolor": "white",
                        "gridwidth": 2,
                        "linecolor": "white",
                        "showbackground": true,
                        "ticks": "",
                        "zerolinecolor": "white"
                      }
                    },
                    "shapedefaults": {
                      "line": {
                        "color": "#2a3f5f"
                      }
                    },
                    "ternary": {
                      "aaxis": {
                        "gridcolor": "white",
                        "linecolor": "white",
                        "ticks": ""
                      },
                      "baxis": {
                        "gridcolor": "white",
                        "linecolor": "white",
                        "ticks": ""
                      },
                      "bgcolor": "#E5ECF6",
                      "caxis": {
                        "gridcolor": "white",
                        "linecolor": "white",
                        "ticks": ""
                      }
                    },
                    "title": {
                      "x": 0.05
                    },
                    "xaxis": {
                      "automargin": true,
                      "gridcolor": "white",
                      "linecolor": "white",
                      "ticks": "",
                      "title": {
                        "standoff": 15
                      },
                      "zerolinecolor": "white",
                      "zerolinewidth": 2
                    },
                    "yaxis": {
                      "automargin": true,
                      "gridcolor": "white",
                      "linecolor": "white",
                      "ticks": "",
                      "title": {
                        "standoff": 15
                      },
                      "zerolinecolor": "white",
                      "zerolinewidth": 2
                    }
                  }
                },
                "title": {
                  "text": "Average Salary Trend Over Time (Area Plot)"
                },
                "xaxis": {
                  "anchor": "y",
                  "domain": [
                    0,
                    1
                  ],
                  "title": {
                    "text": "Year"
                  }
                },
                "yaxis": {
                  "anchor": "x",
                  "domain": [
                    0,
                    1
                  ],
                  "title": {
                    "text": "Average Salary (USD)"
                  }
                }
              }
            }
          },
          "metadata": {},
          "output_type": "display_data"
        }
      ],
      "source": [
        "salary_trend = df.groupby('work_year')['salary_in_usd'].mean().reset_index()\n",
        "import plotly.express as px\n",
        "fig = px.area(salary_trend, x='work_year', y='salary_in_usd',\n",
        "               title='Average Salary Trend Over Time (Area Plot)',\n",
        "               labels={'work_year': 'Year', 'salary_in_usd': 'Average Salary (USD)'})\n",
        "fig.show()"
      ]
    },
    {
      "cell_type": "markdown",
      "metadata": {},
      "source": [
        "The area plot above illustrates the trend of average salaries over the years. The x-axis represents the years of experience, while the y-axis shows the average salary in USD. The shaded area indicates the range of average salaries, providing a clear visual representation of how salaries have changed over time. This type of visualization is useful for identifying trends, patterns, and potential outliers in the data."
      ]
    },
    {
      "cell_type": "markdown",
      "metadata": {},
      "source": [
        "Treemap of job titles by experience level with Plotly"
      ]
    },
    {
      "cell_type": "code",
      "execution_count": 30,
      "metadata": {},
      "outputs": [
        {
          "data": {
            "application/vnd.plotly.v1+json": {
              "config": {
                "plotlyServerURL": "https://plot.ly"
              },
              "data": [
                {
                  "branchvalues": "total",
                  "customdata": [
                    [
                      1
                    ],
                    [
                      1
                    ],
                    [
                      287
                    ],
                    [
                      1
                    ],
                    [
                      2
                    ],
                    [
                      1
                    ],
                    [
                      1
                    ],
                    [
                      3
                    ],
                    [
                      7
                    ],
                    [
                      2
                    ],
                    [
                      22
                    ],
                    [
                      2
                    ],
                    [
                      103
                    ],
                    [
                      95
                    ],
                    [
                      80
                    ],
                    [
                      58
                    ],
                    [
                      683
                    ],
                    [
                      1192
                    ],
                    [
                      1
                    ],
                    [
                      2
                    ],
                    [
                      4
                    ],
                    [
                      4
                    ],
                    [
                      4
                    ],
                    [
                      1
                    ],
                    [
                      34
                    ],
                    [
                      1
                    ],
                    [
                      2
                    ],
                    [
                      14
                    ],
                    [
                      18
                    ],
                    [
                      9
                    ],
                    [
                      10
                    ],
                    [
                      16
                    ],
                    [
                      4
                    ],
                    [
                      6
                    ],
                    [
                      1
                    ],
                    [
                      3
                    ],
                    [
                      4
                    ],
                    [
                      4
                    ],
                    [
                      3
                    ],
                    [
                      1
                    ],
                    [
                      4
                    ],
                    [
                      11
                    ],
                    [
                      50
                    ],
                    [
                      45
                    ],
                    [
                      10
                    ],
                    [
                      1
                    ],
                    [
                      34
                    ],
                    [
                      93
                    ],
                    [
                      1
                    ],
                    [
                      1
                    ],
                    [
                      4
                    ],
                    [
                      6
                    ],
                    [
                      10
                    ],
                    [
                      16
                    ],
                    [
                      1
                    ],
                    [
                      8
                    ],
                    [
                      2
                    ],
                    [
                      2
                    ],
                    [
                      8
                    ],
                    [
                      2
                    ],
                    [
                      52
                    ],
                    [
                      46
                    ],
                    [
                      4
                    ],
                    [
                      1
                    ],
                    [
                      4
                    ],
                    [
                      6
                    ],
                    [
                      1
                    ],
                    [
                      192
                    ],
                    [
                      13
                    ],
                    [
                      12
                    ],
                    [
                      2
                    ],
                    [
                      6
                    ],
                    [
                      22
                    ],
                    [
                      18
                    ],
                    [
                      3
                    ],
                    [
                      2
                    ],
                    [
                      1
                    ],
                    [
                      1
                    ],
                    [
                      1
                    ],
                    [
                      8
                    ],
                    [
                      22
                    ],
                    [
                      10
                    ],
                    [
                      2
                    ],
                    [
                      1671
                    ],
                    [
                      78
                    ],
                    [
                      906
                    ],
                    [
                      2741
                    ],
                    [
                      1
                    ],
                    [
                      52
                    ],
                    [
                      36
                    ],
                    [
                      714
                    ],
                    [
                      1337
                    ],
                    [
                      1
                    ],
                    [
                      122
                    ],
                    [
                      28
                    ],
                    [
                      12
                    ],
                    [
                      4
                    ],
                    [
                      2
                    ],
                    [
                      16
                    ],
                    [
                      40
                    ],
                    [
                      4
                    ],
                    [
                      18
                    ],
                    [
                      10
                    ],
                    [
                      2
                    ],
                    [
                      5
                    ],
                    [
                      4
                    ],
                    [
                      4
                    ],
                    [
                      1
                    ],
                    [
                      2
                    ],
                    [
                      3
                    ],
                    [
                      7
                    ],
                    [
                      4
                    ],
                    [
                      1
                    ],
                    [
                      1
                    ],
                    [
                      72
                    ],
                    [
                      734
                    ],
                    [
                      1575
                    ],
                    [
                      2
                    ],
                    [
                      8
                    ],
                    [
                      2
                    ],
                    [
                      835
                    ],
                    [
                      4
                    ],
                    [
                      12
                    ],
                    [
                      12
                    ],
                    [
                      22
                    ],
                    [
                      93
                    ],
                    [
                      28
                    ],
                    [
                      1922
                    ],
                    [
                      336
                    ],
                    [
                      2
                    ],
                    [
                      2
                    ],
                    [
                      16
                    ],
                    [
                      22
                    ],
                    [
                      2
                    ],
                    [
                      1
                    ],
                    [
                      1
                    ],
                    [
                      1
                    ],
                    [
                      74
                    ],
                    [
                      42
                    ],
                    [
                      331
                    ],
                    [
                      7
                    ],
                    [
                      1
                    ],
                    [
                      9
                    ],
                    [
                      2
                    ],
                    [
                      1
                    ],
                    [
                      14
                    ],
                    [
                      2
                    ],
                    [
                      150
                    ],
                    [
                      140
                    ],
                    [
                      12
                    ],
                    [
                      46
                    ],
                    [
                      62
                    ],
                    [
                      4
                    ],
                    [
                      6
                    ],
                    [
                      2
                    ],
                    [
                      68
                    ],
                    [
                      315
                    ],
                    [
                      1
                    ],
                    [
                      4
                    ],
                    [
                      4
                    ],
                    [
                      4
                    ],
                    [
                      1
                    ],
                    [
                      2
                    ],
                    [
                      5
                    ],
                    [
                      6
                    ],
                    [
                      4
                    ],
                    [
                      6
                    ],
                    [
                      4
                    ],
                    [
                      2
                    ],
                    [
                      20
                    ],
                    [
                      26
                    ],
                    [
                      2
                    ],
                    [
                      4
                    ],
                    [
                      14
                    ],
                    [
                      66
                    ],
                    [
                      4
                    ],
                    [
                      203
                    ],
                    [
                      10
                    ],
                    [
                      66
                    ],
                    [
                      222
                    ],
                    [
                      5
                    ],
                    [
                      11
                    ],
                    [
                      5
                    ],
                    [
                      1
                    ],
                    [
                      2
                    ],
                    [
                      9
                    ],
                    [
                      4
                    ],
                    [
                      1
                    ],
                    [
                      34
                    ],
                    [
                      90
                    ],
                    [
                      80
                    ],
                    [
                      156
                    ],
                    [
                      233
                    ],
                    [
                      2
                    ],
                    [
                      145
                    ],
                    [
                      286
                    ],
                    [
                      2
                    ],
                    [
                      1
                    ],
                    [
                      1
                    ],
                    [
                      38
                    ],
                    [
                      4
                    ],
                    [
                      215
                    ],
                    [
                      158
                    ],
                    [
                      18
                    ],
                    [
                      14
                    ],
                    [
                      350
                    ],
                    [
                      574
                    ],
                    [
                      2
                    ],
                    [
                      2
                    ],
                    [
                      42
                    ],
                    [
                      30
                    ],
                    [
                      10
                    ],
                    [
                      2
                    ],
                    [
                      10
                    ],
                    [
                      20
                    ],
                    [
                      1
                    ],
                    [
                      2
                    ],
                    [
                      2
                    ],
                    [
                      4
                    ],
                    [
                      2
                    ],
                    [
                      1
                    ],
                    [
                      6
                    ],
                    [
                      10
                    ],
                    [
                      2
                    ],
                    [
                      1
                    ],
                    [
                      2
                    ],
                    [
                      1
                    ],
                    [
                      1
                    ],
                    [
                      4
                    ],
                    [
                      12
                    ],
                    [
                      18
                    ],
                    [
                      18
                    ],
                    [
                      25
                    ],
                    [
                      4
                    ],
                    [
                      8
                    ],
                    [
                      6
                    ],
                    [
                      8
                    ],
                    [
                      88
                    ],
                    [
                      104
                    ],
                    [
                      8
                    ],
                    [
                      8
                    ],
                    [
                      2
                    ],
                    [
                      30
                    ],
                    [
                      48
                    ],
                    [
                      2
                    ],
                    [
                      6
                    ],
                    [
                      10
                    ],
                    [
                      12
                    ],
                    [
                      46
                    ],
                    [
                      106
                    ],
                    [
                      3
                    ],
                    [
                      1
                    ],
                    [
                      1
                    ],
                    [
                      114
                    ],
                    [
                      9
                    ],
                    [
                      472
                    ],
                    [
                      768
                    ],
                    [
                      2
                    ],
                    [
                      4
                    ],
                    [
                      1
                    ],
                    [
                      4
                    ],
                    [
                      1
                    ],
                    [
                      14
                    ],
                    [
                      2
                    ],
                    [
                      2
                    ],
                    [
                      1
                    ],
                    [
                      1
                    ],
                    [
                      1
                    ],
                    [
                      2
                    ],
                    [
                      5
                    ],
                    [
                      2
                    ],
                    [
                      2
                    ],
                    [
                      10
                    ],
                    [
                      16
                    ],
                    [
                      10
                    ],
                    [
                      34
                    ],
                    [
                      2
                    ],
                    [
                      5227
                    ],
                    [
                      110
                    ],
                    [
                      2600
                    ],
                    [
                      5842
                    ],
                    [
                      1
                    ],
                    [
                      1
                    ],
                    [
                      2
                    ],
                    [
                      5
                    ],
                    [
                      2
                    ],
                    [
                      8
                    ],
                    [
                      5
                    ],
                    [
                      27
                    ],
                    [
                      8
                    ],
                    [
                      2
                    ],
                    [
                      4
                    ],
                    [
                      6
                    ],
                    [
                      1
                    ],
                    [
                      2
                    ],
                    [
                      2
                    ],
                    [
                      2
                    ],
                    [
                      3
                    ],
                    [
                      130
                    ],
                    [
                      3
                    ],
                    [
                      6
                    ],
                    [
                      201
                    ],
                    [
                      58
                    ],
                    [
                      8
                    ],
                    [
                      50
                    ],
                    [
                      30
                    ],
                    [
                      2
                    ],
                    [
                      12
                    ],
                    [
                      16
                    ],
                    [
                      55
                    ],
                    [
                      2133
                    ],
                    [
                      4
                    ],
                    [
                      2
                    ],
                    [
                      16
                    ],
                    [
                      12
                    ],
                    [
                      1
                    ],
                    [
                      1
                    ],
                    [
                      1
                    ],
                    [
                      4
                    ],
                    [
                      2
                    ],
                    [
                      90
                    ],
                    [
                      64
                    ],
                    [
                      655
                    ],
                    [
                      577
                    ],
                    [
                      5242
                    ],
                    [
                      9878
                    ],
                    [
                      1
                    ],
                    [
                      12
                    ],
                    [
                      128
                    ],
                    [
                      50
                    ],
                    [
                      172
                    ],
                    [
                      72
                    ],
                    [
                      6
                    ],
                    [
                      44
                    ],
                    [
                      72
                    ],
                    [
                      2
                    ],
                    [
                      2
                    ],
                    [
                      4
                    ],
                    [
                      2
                    ],
                    [
                      4
                    ],
                    [
                      20
                    ],
                    [
                      4
                    ],
                    [
                      122
                    ],
                    [
                      2
                    ],
                    [
                      51
                    ],
                    [
                      16
                    ],
                    [
                      6
                    ],
                    [
                      4
                    ],
                    [
                      52
                    ],
                    [
                      34
                    ],
                    [
                      34
                    ],
                    [
                      74
                    ],
                    [
                      8
                    ],
                    [
                      4
                    ],
                    [
                      2
                    ],
                    [
                      4
                    ],
                    [
                      6
                    ],
                    [
                      10
                    ],
                    [
                      4
                    ],
                    [
                      8
                    ],
                    [
                      48
                    ],
                    [
                      34
                    ],
                    [
                      6
                    ],
                    [
                      12
                    ],
                    [
                      58
                    ],
                    [
                      11
                    ],
                    [
                      8
                    ],
                    [
                      10
                    ],
                    [
                      10
                    ],
                    [
                      4
                    ],
                    [
                      6
                    ],
                    [
                      4
                    ],
                    [
                      6
                    ],
                    [
                      10
                    ],
                    [
                      306
                    ],
                    [
                      10
                    ],
                    [
                      34
                    ],
                    [
                      22
                    ],
                    [
                      56
                    ],
                    [
                      168
                    ],
                    [
                      56
                    ],
                    [
                      130
                    ],
                    [
                      26
                    ],
                    [
                      2
                    ],
                    [
                      2
                    ],
                    [
                      2
                    ],
                    [
                      12
                    ],
                    [
                      2
                    ],
                    [
                      2
                    ],
                    [
                      4
                    ],
                    [
                      60
                    ],
                    [
                      8
                    ],
                    [
                      2
                    ],
                    [
                      2
                    ],
                    [
                      16
                    ],
                    [
                      2
                    ],
                    [
                      186
                    ],
                    [
                      67
                    ],
                    [
                      2
                    ],
                    [
                      20
                    ],
                    [
                      22
                    ],
                    [
                      658
                    ],
                    [
                      373
                    ],
                    [
                      2
                    ],
                    [
                      70
                    ],
                    [
                      138
                    ],
                    [
                      2
                    ],
                    [
                      22
                    ],
                    [
                      22
                    ],
                    [
                      10
                    ],
                    [
                      54
                    ],
                    [
                      42
                    ],
                    [
                      32
                    ],
                    [
                      2
                    ],
                    [
                      16
                    ],
                    [
                      4
                    ],
                    [
                      2
                    ],
                    [
                      38
                    ],
                    [
                      34
                    ],
                    [
                      12
                    ],
                    [
                      2
                    ],
                    [
                      26
                    ],
                    [
                      12
                    ],
                    [
                      4
                    ],
                    [
                      38
                    ],
                    [
                      16
                    ],
                    [
                      4
                    ],
                    [
                      2
                    ],
                    [
                      2
                    ],
                    [
                      8
                    ],
                    [
                      12
                    ],
                    [
                      32
                    ],
                    [
                      2
                    ],
                    [
                      4
                    ],
                    [
                      2
                    ],
                    [
                      8
                    ],
                    [
                      156
                    ],
                    [
                      168
                    ],
                    [
                      16
                    ],
                    [
                      86
                    ],
                    [
                      76
                    ],
                    [
                      87
                    ],
                    [
                      4
                    ],
                    [
                      18
                    ],
                    [
                      60
                    ],
                    [
                      1
                    ],
                    [
                      36
                    ],
                    [
                      32
                    ],
                    [
                      2
                    ],
                    [
                      60
                    ],
                    [
                      12
                    ],
                    [
                      4
                    ],
                    [
                      3
                    ],
                    [
                      2
                    ],
                    [
                      14
                    ],
                    [
                      8
                    ],
                    [
                      6
                    ],
                    [
                      2
                    ],
                    [
                      36
                    ],
                    [
                      8
                    ],
                    [
                      24
                    ],
                    [
                      4
                    ],
                    [
                      2
                    ],
                    [
                      1
                    ],
                    [
                      829
                    ],
                    [
                      285
                    ],
                    [
                      5786
                    ],
                    [
                      11851
                    ],
                    [
                      1
                    ],
                    [
                      1
                    ],
                    [
                      1
                    ],
                    [
                      2
                    ],
                    [
                      2
                    ],
                    [
                      149
                    ],
                    [
                      4
                    ],
                    [
                      628
                    ],
                    [
                      203
                    ],
                    [
                      2
                    ],
                    [
                      4
                    ],
                    [
                      2
                    ],
                    [
                      2
                    ],
                    [
                      66
                    ],
                    [
                      58
                    ],
                    [
                      24
                    ],
                    [
                      2
                    ],
                    [
                      4
                    ],
                    [
                      50
                    ],
                    [
                      14
                    ],
                    [
                      2
                    ],
                    [
                      9
                    ],
                    [
                      14
                    ],
                    [
                      2
                    ],
                    [
                      2
                    ],
                    [
                      6
                    ],
                    [
                      22
                    ],
                    [
                      6
                    ],
                    [
                      2
                    ],
                    [
                      46
                    ],
                    [
                      46
                    ],
                    [
                      4
                    ],
                    [
                      4
                    ],
                    [
                      4
                    ],
                    [
                      40
                    ],
                    [
                      30
                    ],
                    [
                      2
                    ],
                    [
                      6
                    ],
                    [
                      16
                    ],
                    [
                      6
                    ],
                    [
                      2
                    ],
                    [
                      18
                    ],
                    [
                      20
                    ],
                    [
                      2
                    ],
                    [
                      2
                    ],
                    [
                      26
                    ],
                    [
                      12
                    ],
                    [
                      14
                    ],
                    [
                      2
                    ],
                    [
                      4
                    ],
                    [
                      2
                    ],
                    [
                      70
                    ],
                    [
                      144
                    ],
                    [
                      2
                    ],
                    [
                      4
                    ],
                    [
                      6
                    ],
                    [
                      1
                    ],
                    [
                      22
                    ],
                    [
                      2
                    ],
                    [
                      208
                    ],
                    [
                      331
                    ],
                    [
                      4
                    ],
                    [
                      66
                    ],
                    [
                      26
                    ],
                    [
                      424
                    ],
                    [
                      524
                    ],
                    [
                      2
                    ],
                    [
                      12
                    ],
                    [
                      8
                    ],
                    [
                      616
                    ],
                    [
                      168
                    ],
                    [
                      4
                    ],
                    [
                      2
                    ],
                    [
                      6
                    ],
                    [
                      1
                    ],
                    [
                      32
                    ],
                    [
                      6
                    ],
                    [
                      28
                    ],
                    [
                      2
                    ],
                    [
                      28
                    ],
                    [
                      26
                    ],
                    [
                      1
                    ],
                    [
                      6
                    ],
                    [
                      2
                    ],
                    [
                      22
                    ],
                    [
                      2
                    ],
                    [
                      4
                    ],
                    [
                      26
                    ],
                    [
                      20
                    ],
                    [
                      550
                    ],
                    [
                      382
                    ],
                    [
                      3376
                    ],
                    [
                      6696
                    ],
                    [
                      12
                    ],
                    [
                      580
                    ],
                    [
                      310
                    ],
                    [
                      58
                    ],
                    [
                      14
                    ],
                    [
                      84
                    ],
                    [
                      2
                    ],
                    [
                      2
                    ],
                    [
                      1
                    ],
                    [
                      2
                    ],
                    [
                      2
                    ],
                    [
                      2
                    ],
                    [
                      12
                    ],
                    [
                      4
                    ],
                    [
                      1
                    ],
                    [
                      2
                    ],
                    [
                      10
                    ],
                    [
                      10
                    ],
                    [
                      2
                    ],
                    [
                      58
                    ],
                    [
                      76
                    ],
                    [
                      8
                    ],
                    [
                      12
                    ],
                    [
                      60
                    ],
                    [
                      148
                    ],
                    [
                      2
                    ],
                    [
                      22
                    ],
                    [
                      12
                    ],
                    [
                      60
                    ],
                    [
                      2
                    ],
                    [
                      8
                    ],
                    [
                      2
                    ],
                    [
                      4
                    ],
                    [
                      309
                    ],
                    [
                      5
                    ],
                    [
                      18
                    ],
                    [
                      19
                    ],
                    [
                      4
                    ],
                    [
                      1
                    ],
                    [
                      16
                    ],
                    [
                      68
                    ],
                    [
                      40
                    ],
                    [
                      46
                    ],
                    [
                      2
                    ],
                    [
                      2
                    ],
                    [
                      4
                    ],
                    [
                      16
                    ],
                    [
                      1
                    ],
                    [
                      1
                    ],
                    [
                      54
                    ],
                    [
                      8
                    ],
                    [
                      5
                    ],
                    [
                      1
                    ],
                    [
                      1
                    ],
                    [
                      1
                    ],
                    [
                      5
                    ],
                    [
                      2
                    ],
                    [
                      2
                    ],
                    [
                      9
                    ],
                    [
                      106
                    ],
                    [
                      5
                    ],
                    [
                      6
                    ],
                    [
                      12
                    ],
                    [
                      2
                    ],
                    [
                      8
                    ],
                    [
                      38
                    ],
                    [
                      4
                    ],
                    [
                      49
                    ],
                    [
                      144
                    ],
                    [
                      32
                    ],
                    [
                      9
                    ],
                    [
                      27
                    ],
                    [
                      20
                    ],
                    [
                      416
                    ],
                    [
                      76
                    ],
                    [
                      1991
                    ],
                    [
                      6404
                    ],
                    [
                      10
                    ],
                    [
                      31
                    ],
                    [
                      12
                    ],
                    [
                      4
                    ],
                    [
                      10
                    ],
                    [
                      2
                    ],
                    [
                      12
                    ],
                    [
                      2
                    ],
                    [
                      10
                    ],
                    [
                      2
                    ],
                    [
                      6
                    ],
                    [
                      10
                    ],
                    [
                      6
                    ],
                    [
                      8
                    ],
                    [
                      3
                    ],
                    [
                      2
                    ],
                    [
                      6
                    ],
                    [
                      64
                    ],
                    [
                      629
                    ],
                    [
                      19
                    ],
                    [
                      4
                    ],
                    [
                      165
                    ],
                    [
                      349
                    ],
                    [
                      4
                    ],
                    [
                      11
                    ],
                    [
                      2
                    ],
                    [
                      13
                    ],
                    [
                      9
                    ],
                    [
                      2
                    ],
                    [
                      2
                    ],
                    [
                      62
                    ],
                    [
                      132
                    ],
                    [
                      4100
                    ],
                    [
                      3517
                    ],
                    [
                      2
                    ],
                    [
                      8
                    ],
                    [
                      2
                    ],
                    [
                      2
                    ],
                    [
                      1
                    ],
                    [
                      1
                    ],
                    [
                      2
                    ],
                    [
                      6
                    ],
                    [
                      2
                    ],
                    [
                      8
                    ],
                    [
                      2
                    ],
                    [
                      8
                    ],
                    [
                      2
                    ],
                    [
                      202
                    ],
                    [
                      8
                    ],
                    [
                      5
                    ],
                    [
                      10
                    ],
                    [
                      1
                    ],
                    [
                      1
                    ],
                    [
                      1
                    ],
                    [
                      20
                    ],
                    [
                      42
                    ],
                    [
                      172
                    ],
                    [
                      326
                    ],
                    [
                      2
                    ],
                    [
                      6
                    ],
                    [
                      10
                    ],
                    [
                      66
                    ],
                    [
                      12
                    ],
                    [
                      2
                    ],
                    [
                      4
                    ],
                    [
                      10
                    ],
                    [
                      45
                    ],
                    [
                      8
                    ],
                    [
                      2
                    ],
                    [
                      14
                    ],
                    [
                      12
                    ],
                    [
                      14
                    ],
                    [
                      10
                    ],
                    [
                      8
                    ],
                    [
                      2
                    ],
                    [
                      2
                    ],
                    [
                      10
                    ],
                    [
                      2
                    ],
                    [
                      87
                    ],
                    [
                      52
                    ],
                    [
                      10
                    ],
                    [
                      6
                    ],
                    [
                      4
                    ],
                    [
                      12
                    ],
                    [
                      2
                    ],
                    [
                      40
                    ],
                    [
                      1
                    ],
                    [
                      1
                    ],
                    [
                      1
                    ],
                    [
                      3
                    ],
                    [
                      1
                    ],
                    [
                      1
                    ],
                    [
                      8
                    ],
                    [
                      2
                    ],
                    [
                      52
                    ],
                    [
                      3
                    ],
                    [
                      2
                    ],
                    [
                      32
                    ],
                    [
                      36
                    ],
                    [
                      6
                    ],
                    [
                      8
                    ],
                    [
                      60
                    ],
                    [
                      74
                    ],
                    [
                      44
                    ],
                    [
                      124
                    ],
                    [
                      2
                    ],
                    [
                      3
                    ],
                    [
                      1
                    ],
                    [
                      3
                    ],
                    [
                      18
                    ],
                    [
                      184
                    ],
                    [
                      30
                    ],
                    [
                      30
                    ],
                    [
                      930
                    ],
                    [
                      1586
                    ],
                    [
                      2
                    ],
                    [
                      6
                    ],
                    [
                      80
                    ],
                    [
                      53
                    ],
                    [
                      16
                    ],
                    [
                      10
                    ],
                    [
                      4
                    ],
                    [
                      46
                    ],
                    [
                      60
                    ],
                    [
                      2
                    ],
                    [
                      4
                    ],
                    [
                      4
                    ],
                    [
                      4
                    ],
                    [
                      56
                    ],
                    [
                      52
                    ],
                    [
                      49
                    ],
                    [
                      44
                    ],
                    [
                      16
                    ],
                    [
                      10
                    ],
                    [
                      1
                    ],
                    [
                      50
                    ],
                    [
                      46
                    ],
                    [
                      49
                    ],
                    [
                      76
                    ],
                    [
                      1
                    ],
                    [
                      28
                    ],
                    [
                      12
                    ],
                    [
                      1
                    ],
                    [
                      10
                    ],
                    [
                      6
                    ],
                    [
                      86
                    ],
                    [
                      20
                    ],
                    [
                      1
                    ],
                    [
                      4
                    ],
                    [
                      2
                    ],
                    [
                      245
                    ],
                    [
                      4
                    ],
                    [
                      51
                    ],
                    [
                      140
                    ],
                    [
                      63
                    ],
                    [
                      52
                    ],
                    [
                      4
                    ],
                    [
                      16
                    ],
                    [
                      226
                    ],
                    [
                      18
                    ],
                    [
                      1
                    ],
                    [
                      107
                    ],
                    [
                      2
                    ],
                    [
                      633
                    ],
                    [
                      995
                    ],
                    [
                      4
                    ],
                    [
                      8
                    ],
                    [
                      2
                    ],
                    [
                      8
                    ],
                    [
                      2
                    ],
                    [
                      365
                    ],
                    [
                      3
                    ],
                    [
                      1387
                    ],
                    [
                      1705
                    ],
                    [
                      4
                    ],
                    [
                      14
                    ],
                    [
                      2
                    ],
                    [
                      2
                    ],
                    [
                      14
                    ],
                    [
                      2
                    ],
                    [
                      60
                    ],
                    [
                      86
                    ],
                    [
                      3
                    ],
                    [
                      2
                    ],
                    [
                      4
                    ],
                    [
                      2
                    ],
                    [
                      5
                    ],
                    [
                      42
                    ],
                    [
                      42
                    ],
                    [
                      2
                    ],
                    [
                      4
                    ],
                    [
                      6
                    ],
                    [
                      4
                    ],
                    [
                      1
                    ],
                    [
                      1
                    ],
                    [
                      5
                    ],
                    [
                      8
                    ],
                    [
                      8
                    ],
                    [
                      16
                    ],
                    [
                      14
                    ],
                    [
                      2
                    ],
                    [
                      6
                    ],
                    [
                      16
                    ],
                    [
                      40
                    ],
                    [
                      12
                    ],
                    [
                      28
                    ],
                    [
                      16
                    ],
                    [
                      154
                    ],
                    [
                      332
                    ],
                    [
                      4
                    ],
                    [
                      2
                    ],
                    [
                      68
                    ],
                    [
                      1
                    ],
                    [
                      2
                    ],
                    [
                      50
                    ],
                    [
                      10
                    ],
                    [
                      364
                    ],
                    [
                      374
                    ],
                    [
                      4
                    ],
                    [
                      45
                    ],
                    [
                      4
                    ],
                    [
                      274
                    ],
                    [
                      424
                    ],
                    [
                      626
                    ],
                    [
                      162
                    ],
                    [
                      4492
                    ],
                    [
                      11668
                    ],
                    [
                      4
                    ],
                    [
                      6
                    ],
                    [
                      288
                    ],
                    [
                      8
                    ],
                    [
                      4
                    ],
                    [
                      40
                    ],
                    [
                      58
                    ],
                    [
                      8
                    ],
                    [
                      6
                    ],
                    [
                      2
                    ],
                    [
                      16
                    ],
                    [
                      952
                    ],
                    [
                      4
                    ],
                    [
                      14
                    ],
                    [
                      129
                    ],
                    [
                      270
                    ],
                    [
                      1
                    ],
                    [
                      1
                    ],
                    [
                      1
                    ],
                    [
                      3
                    ],
                    [
                      2
                    ],
                    [
                      2
                    ],
                    [
                      46
                    ],
                    [
                      1
                    ],
                    [
                      24
                    ],
                    [
                      2
                    ],
                    [
                      2
                    ],
                    [
                      4
                    ],
                    [
                      44
                    ],
                    [
                      68
                    ],
                    [
                      14
                    ],
                    [
                      6
                    ],
                    [
                      51
                    ],
                    [
                      58
                    ],
                    [
                      2
                    ],
                    [
                      2
                    ],
                    [
                      4
                    ],
                    [
                      40
                    ],
                    [
                      46
                    ],
                    [
                      2
                    ],
                    [
                      6
                    ],
                    [
                      8
                    ],
                    [
                      36
                    ],
                    [
                      2
                    ],
                    [
                      288
                    ],
                    [
                      528
                    ],
                    [
                      2
                    ],
                    [
                      6
                    ],
                    [
                      70
                    ],
                    [
                      2
                    ],
                    [
                      42
                    ],
                    [
                      1
                    ],
                    [
                      4
                    ],
                    [
                      244
                    ],
                    [
                      1
                    ],
                    [
                      8
                    ],
                    [
                      12
                    ],
                    [
                      2
                    ],
                    [
                      6
                    ],
                    [
                      12
                    ],
                    [
                      8
                    ],
                    [
                      20
                    ],
                    [
                      10
                    ],
                    [
                      1
                    ],
                    [
                      14
                    ],
                    [
                      22
                    ],
                    [
                      10
                    ],
                    [
                      2
                    ],
                    [
                      12
                    ],
                    [
                      1
                    ],
                    [
                      2
                    ],
                    [
                      6
                    ],
                    [
                      2382.3152309156117
                    ],
                    [
                      287.39586836416044
                    ],
                    [
                      2858.337322233784
                    ],
                    [
                      6134.0663954006695
                    ]
                  ],
                  "domain": {
                    "x": [
                      0,
                      1
                    ],
                    "y": [
                      0,
                      1
                    ]
                  },
                  "hovertemplate": "labels=%{label}<br>count_sum=%{value}<br>parent=%{parent}<br>id=%{id}<br>count=%{color}<extra></extra>",
                  "ids": [
                    "EX/AI Architect",
                    "MI/AI Architect",
                    "SE/AI Architect",
                    "EN/AI Content Writer",
                    "MI/AI Content Writer",
                    "EN/AI Data Engineer",
                    "SE/AI Data Engineer",
                    "EN/AI Data Scientist",
                    "MI/AI Data Scientist",
                    "SE/AI Data Scientist",
                    "EN/AI Developer",
                    "EX/AI Developer",
                    "MI/AI Developer",
                    "SE/AI Developer",
                    "EN/AI Engineer",
                    "EX/AI Engineer",
                    "MI/AI Engineer",
                    "SE/AI Engineer",
                    "SE/AI Engineering Lead",
                    "SE/AI Engineering Manager",
                    "SE/AI Governance Lead",
                    "MI/AI Governance Specialist",
                    "SE/AI Governance Specialist",
                    "MI/AI Lead",
                    "SE/AI Lead",
                    "EN/AI Machine Learning Engineer",
                    "SE/AI Machine Learning Engineer",
                    "SE/AI Product Lead",
                    "MI/AI Product Manager",
                    "SE/AI Product Manager",
                    "MI/AI Product Owner",
                    "SE/AI Product Owner",
                    "MI/AI Product Specialist",
                    "EN/AI Programmer",
                    "MI/AI Programmer",
                    "SE/AI Programmer",
                    "EN/AI Research Engineer",
                    "MI/AI Research Engineer",
                    "EN/AI Research Scientist",
                    "MI/AI Research Scientist",
                    "SE/AI Research Scientist",
                    "EN/AI Researcher",
                    "MI/AI Researcher",
                    "SE/AI Researcher",
                    "EN/AI Scientist",
                    "EX/AI Scientist",
                    "MI/AI Scientist",
                    "SE/AI Scientist",
                    "SE/AI Software Development Engineer",
                    "EN/AI Software Engineer",
                    "MI/AI Software Engineer",
                    "SE/AI Software Engineer",
                    "SE/AI Solution Architect",
                    "EX/AI Solution Director",
                    "SE/AI Solutions Consultant",
                    "SE/AI Solutions Lead",
                    "MI/AI Solutions Specialist",
                    "SE/AI Solutions Specialist",
                    "EN/AI Specialist",
                    "EX/AI Specialist",
                    "MI/AI Specialist",
                    "SE/AI Specialist",
                    "SE/AI Strategist",
                    "EX/AI Tech Lead",
                    "SE/AI Tech Lead",
                    "SE/AIRS Solutions Specialist",
                    "MI/AWS Data Architect",
                    "EX/Account Executive",
                    "SE/Account Executive",
                    "EN/Actuarial Analyst",
                    "SE/Actuarial Analyst",
                    "EX/Actuary",
                    "MI/Actuary",
                    "SE/Actuary",
                    "EN/Admin & Data Analyst",
                    "MI/Admin & Data Analyst",
                    "SE/Admin & Data Analyst",
                    "MI/Advanced Analytics Manager",
                    "SE/Advanced Data Analyst",
                    "EN/Algorithm Developer",
                    "MI/Algorithm Developer",
                    "SE/Algorithm Developer",
                    "EN/Alternance",
                    "EN/Analyst",
                    "EX/Analyst",
                    "MI/Analyst",
                    "SE/Analyst",
                    "MI/Analytics Analyst",
                    "EN/Analytics Engineer",
                    "EX/Analytics Engineer",
                    "MI/Analytics Engineer",
                    "SE/Analytics Engineer",
                    "SE/Analytics Engineering Manager",
                    "SE/Analytics Lead",
                    "MI/Analytics Manager",
                    "SE/Analytics Manager",
                    "EN/Analytics Specialist",
                    "EX/Analytics Specialist",
                    "MI/Analytics Specialist",
                    "SE/Analytics Specialist",
                    "EN/Application Developer",
                    "MI/Application Developer",
                    "SE/Application Developer",
                    "SE/Applied AI ML Lead",
                    "EN/Applied Data Scientist",
                    "MI/Applied Data Scientist",
                    "SE/Applied Data Scientist",
                    "EX/Applied Machine Learning Engineer",
                    "MI/Applied Machine Learning Engineer",
                    "EN/Applied Machine Learning Scientist",
                    "MI/Applied Machine Learning Scientist",
                    "SE/Applied Machine Learning Scientist",
                    "MI/Applied Research Scientist",
                    "SE/Applied Research Scientist",
                    "EN/Applied Scientist",
                    "MI/Applied Scientist",
                    "SE/Applied Scientist",
                    "EN/Apprentice",
                    "EN/Architect",
                    "EX/Architect",
                    "SE/Architect",
                    "EN/Artificial Intelligence Engineer",
                    "EX/Artificial Intelligence Engineer",
                    "MI/Artificial Intelligence Engineer",
                    "SE/Artificial Intelligence Engineer",
                    "EN/Associate",
                    "EX/Associate",
                    "MI/Associate",
                    "SE/Associate",
                    "EN/Automation Engineer",
                    "EX/Automation Engineer",
                    "MI/Automation Engineer",
                    "SE/Automation Engineer",
                    "MI/Autonomous Vehicle Technician",
                    "EN/Azure Data Engineer",
                    "SE/Azure Data Engineer",
                    "MI/BI & Data Analyst",
                    "EN/BI Analyst",
                    "MI/BI Analyst",
                    "SE/BI Analyst",
                    "EN/BI Data Analyst",
                    "EX/BI Data Analyst",
                    "MI/BI Data Analyst",
                    "SE/BI Data Analyst",
                    "EN/BI Data Engineer",
                    "EN/BI Developer",
                    "EX/BI Developer",
                    "MI/BI Developer",
                    "SE/BI Developer",
                    "EN/BI Engineer",
                    "MI/BI Engineer",
                    "SE/BI Engineer",
                    "MI/Backend Developer",
                    "SE/Backend Developer",
                    "EX/Backend Engineer",
                    "MI/Backend Engineer",
                    "SE/Backend Engineer",
                    "MI/Backend Software Engineer",
                    "EN/Bear Robotics",
                    "MI/Bear Robotics",
                    "SE/Bear Robotics",
                    "MI/Big Data Analyst",
                    "SE/Big Data Architect",
                    "MI/Big Data Developer",
                    "SE/Big Data Developer",
                    "EN/Big Data Engineer",
                    "MI/Big Data Engineer",
                    "SE/Big Data Engineer",
                    "EN/Bioinformatician",
                    "MI/Bioinformatician",
                    "SE/Bioinformatician",
                    "EN/Bioinformatics Scientist",
                    "EX/Bioinformatics Scientist",
                    "MI/Bioinformatics Scientist",
                    "SE/Bioinformatics Scientist",
                    "MI/Bioinformatics Specialist",
                    "EN/Business Analyst",
                    "EX/Business Analyst",
                    "MI/Business Analyst",
                    "SE/Business Analyst",
                    "EN/Business Data Analyst",
                    "MI/Business Data Analyst",
                    "SE/Business Data Analyst",
                    "MI/Business Development Manager",
                    "EN/Business Development Representative",
                    "MI/Business Development Representative",
                    "SE/Business Development Representative",
                    "MI/Business Insights Manager",
                    "EN/Business Intelligence",
                    "EX/Business Intelligence",
                    "MI/Business Intelligence",
                    "SE/Business Intelligence",
                    "EN/Business Intelligence Analyst",
                    "EX/Business Intelligence Analyst",
                    "MI/Business Intelligence Analyst",
                    "SE/Business Intelligence Analyst",
                    "SE/Business Intelligence Consultant",
                    "EN/Business Intelligence Data Analyst",
                    "MI/Business Intelligence Data Analyst",
                    "EN/Business Intelligence Developer",
                    "EX/Business Intelligence Developer",
                    "MI/Business Intelligence Developer",
                    "SE/Business Intelligence Developer",
                    "EN/Business Intelligence Engineer",
                    "EX/Business Intelligence Engineer",
                    "MI/Business Intelligence Engineer",
                    "SE/Business Intelligence Engineer",
                    "EN/Business Intelligence Lead",
                    "MI/Business Intelligence Lead",
                    "SE/Business Intelligence Lead",
                    "MI/Business Intelligence Manager",
                    "SE/Business Intelligence Manager",
                    "EN/Business Intelligence Specialist",
                    "MI/Business Intelligence Specialist",
                    "SE/Business Intelligence Specialist",
                    "SE/CRM Data Analyst",
                    "EN/Cdd",
                    "EN/Chatbot Developer",
                    "SE/Chatbot Developer",
                    "MI/Cheminformatics Scientist",
                    "EN/Cientista de Dados",
                    "MI/Clinical Aide",
                    "MI/Clinical Data Operator",
                    "SE/Cloud Architect",
                    "SE/Cloud Data Architect",
                    "EN/Cloud Data Engineer",
                    "MI/Cloud Data Engineer",
                    "SE/Cloud Data Engineer",
                    "EN/Cloud Database Administrator",
                    "MI/Cloud Database Administrator",
                    "SE/Cloud Database Administrator",
                    "MI/Cloud Database Engineer",
                    "SE/Cloud Database Engineer",
                    "MI/Cloud Developer",
                    "SE/Cloud Developer",
                    "EN/Cloud Engineer",
                    "EX/Cloud Engineer",
                    "MI/Cloud Engineer",
                    "SE/Cloud Engineer",
                    "MI/Commercial Counsel",
                    "SE/Commercial Counsel",
                    "EN/Compliance Data Analyst",
                    "MI/Computational Biologist",
                    "SE/Computational Biologist",
                    "EN/Computational Scientist",
                    "MI/Computational Scientist",
                    "SE/Computational Scientist",
                    "EN/Computer Vision Engineer",
                    "MI/Computer Vision Engineer",
                    "SE/Computer Vision Engineer",
                    "EN/Computer Vision Software Engineer",
                    "MI/Computer Vision Software Engineer",
                    "SE/Computer Vision Software Engineer",
                    "EN/Consultant",
                    "EX/Consultant",
                    "MI/Consultant",
                    "SE/Consultant",
                    "SE/Consultant Data Engineer",
                    "MI/Content Writer",
                    "SE/Controls Engineer",
                    "MI/Conversational AI Designer",
                    "MI/Copywriter",
                    "SE/Copywriter",
                    "EN/Creative Technologist",
                    "MI/Creative Technologist",
                    "MI/Customer Success Engineer",
                    "MI/Customer Success Manager",
                    "EN/Data & Analytics Analyst",
                    "MI/Data & Analytics Specialist",
                    "EN/Data Analist",
                    "MI/Data Analist",
                    "SE/Data Analist",
                    "EN/Data Analysis",
                    "EX/Data Analysis",
                    "MI/Data Analysis",
                    "SE/Data Analysis",
                    "MI/Data Analysis Specialist",
                    "EN/Data Analyst",
                    "EX/Data Analyst",
                    "MI/Data Analyst",
                    "SE/Data Analyst",
                    "EN/Data Analyst Lead",
                    "MI/Data Analyst Lead",
                    "EN/Data Analytics Associate",
                    "SE/Data Analytics Associate",
                    "MI/Data Analytics Business Partner",
                    "SE/Data Analytics Business Partner",
                    "EN/Data Analytics Consultant",
                    "MI/Data Analytics Consultant",
                    "SE/Data Analytics Consultant",
                    "EN/Data Analytics Developer",
                    "MI/Data Analytics Developer",
                    "SE/Data Analytics Developer",
                    "EN/Data Analytics Engineer",
                    "MI/Data Analytics Engineer",
                    "SE/Data Analytics Engineer",
                    "EN/Data Analytics Lead",
                    "MI/Data Analytics Lead",
                    "SE/Data Analytics Lead",
                    "EN/Data Analytics Manager",
                    "EX/Data Analytics Manager",
                    "MI/Data Analytics Manager",
                    "SE/Data Analytics Manager",
                    "EN/Data Analytics Specialist",
                    "MI/Data Analytics Specialist",
                    "SE/Data Analytics Specialist",
                    "SE/Data Analytics Team Lead",
                    "EN/Data Architect",
                    "EX/Data Architect",
                    "MI/Data Architect",
                    "SE/Data Architect",
                    "MI/Data Archivist",
                    "EN/Data Consultant",
                    "MI/Data Consultant",
                    "SE/Data Consultant",
                    "EN/Data DevOps Engineer",
                    "MI/Data DevOps Engineer",
                    "SE/Data DevOps Engineer",
                    "EN/Data Developer",
                    "EX/Data Developer",
                    "MI/Data Developer",
                    "SE/Data Developer",
                    "EN/Data Engineer",
                    "EX/Data Engineer",
                    "MI/Data Engineer",
                    "SE/Data Engineer",
                    "SE/Data Engineer 4",
                    "EN/Data Governance",
                    "EX/Data Governance",
                    "MI/Data Governance",
                    "SE/Data Governance",
                    "EN/Data Governance Analyst",
                    "EX/Data Governance Analyst",
                    "MI/Data Governance Analyst",
                    "SE/Data Governance Analyst",
                    "SE/Data Governance Architect",
                    "EN/Data Governance Consultant",
                    "MI/Data Governance Consultant",
                    "EN/Data Governance Engineer",
                    "MI/Data Governance Engineer",
                    "SE/Data Governance Engineer",
                    "MI/Data Governance Lead",
                    "SE/Data Governance Lead",
                    "EX/Data Governance Manager",
                    "MI/Data Governance Manager",
                    "SE/Data Governance Manager",
                    "EN/Data Governance Specialist",
                    "EX/Data Governance Specialist",
                    "MI/Data Governance Specialist",
                    "SE/Data Governance Specialist",
                    "MI/Data Infrastructure Engineer",
                    "SE/Data Infrastructure Engineer",
                    "EN/Data Integration Analyst",
                    "MI/Data Integration Analyst",
                    "SE/Data Integration Analyst",
                    "MI/Data Integration Coordinator",
                    "MI/Data Integration Developer",
                    "SE/Data Integration Developer",
                    "EN/Data Integration Engineer",
                    "EX/Data Integration Engineer",
                    "MI/Data Integration Engineer",
                    "SE/Data Integration Engineer",
                    "SE/Data Integration Lead",
                    "EN/Data Integration Specialist",
                    "MI/Data Integration Specialist",
                    "SE/Data Integration Specialist",
                    "MI/Data Integrator",
                    "SE/Data Integrator",
                    "EN/Data Integrity Analyst",
                    "MI/Data Integrity Analyst",
                    "EN/Data Integrity Specialist",
                    "MI/Data Integrity Specialist",
                    "EX/Data Lead",
                    "MI/Data Lead",
                    "SE/Data Lead",
                    "EN/Data Management",
                    "EX/Data Management",
                    "MI/Data Management",
                    "SE/Data Management",
                    "EN/Data Management Analyst",
                    "MI/Data Management Analyst",
                    "SE/Data Management Analyst",
                    "MI/Data Management Associate",
                    "SE/Data Management Associate",
                    "EN/Data Management Consultant",
                    "MI/Data Management Consultant",
                    "SE/Data Management Consultant",
                    "SE/Data Management Coordinator",
                    "SE/Data Management Expert",
                    "EX/Data Management Lead",
                    "SE/Data Management Lead",
                    "MI/Data Management Manager",
                    "MI/Data Management Officer",
                    "MI/Data Management Professional",
                    "EN/Data Management Specialist",
                    "EX/Data Management Specialist",
                    "MI/Data Management Specialist",
                    "SE/Data Management Specialist",
                    "SE/Data Management Technician",
                    "EN/Data Manager",
                    "EX/Data Manager",
                    "MI/Data Manager",
                    "SE/Data Manager",
                    "EX/Data Modeler",
                    "MI/Data Modeler",
                    "SE/Data Modeler",
                    "EN/Data Operations",
                    "EX/Data Operations",
                    "MI/Data Operations",
                    "SE/Data Operations",
                    "EN/Data Operations Analyst",
                    "MI/Data Operations Analyst",
                    "SE/Data Operations Analyst",
                    "EN/Data Operations Associate",
                    "MI/Data Operations Associate",
                    "EN/Data Operations Engineer",
                    "EX/Data Operations Engineer",
                    "MI/Data Operations Engineer",
                    "SE/Data Operations Engineer",
                    "SE/Data Operations Lead",
                    "EN/Data Operations Manager",
                    "MI/Data Operations Manager",
                    "SE/Data Operations Manager",
                    "EX/Data Operations Specialist",
                    "MI/Data Operations Specialist",
                    "SE/Data Operations Specialist",
                    "MI/Data Operator",
                    "SE/Data Pipeline Engineer",
                    "EN/Data Platform Engineer",
                    "EX/Data Platform Engineer",
                    "MI/Data Platform Engineer",
                    "SE/Data Platform Engineer",
                    "EN/Data Product Analyst",
                    "SE/Data Product Lead",
                    "EN/Data Product Manager",
                    "EX/Data Product Manager",
                    "MI/Data Product Manager",
                    "SE/Data Product Manager",
                    "EX/Data Product Owner",
                    "MI/Data Product Owner",
                    "SE/Data Product Owner",
                    "EN/Data Quality Analyst",
                    "EX/Data Quality Analyst",
                    "MI/Data Quality Analyst",
                    "SE/Data Quality Analyst",
                    "EN/Data Quality Engineer",
                    "MI/Data Quality Engineer",
                    "SE/Data Quality Engineer",
                    "SE/Data Quality Expert",
                    "SE/Data Quality Lead",
                    "MI/Data Quality Manager",
                    "SE/Data Quality Manager",
                    "EN/Data Quality Specialist",
                    "EX/Data Quality Specialist",
                    "MI/Data Quality Specialist",
                    "SE/Data Quality Specialist",
                    "MI/Data Reporter",
                    "SE/Data Reporter",
                    "EN/Data Reporting Analyst",
                    "MI/Data Reporting Analyst",
                    "SE/Data Reporting Analyst",
                    "MI/Data Reporting Specialist",
                    "SE/Data Reporting Specialist",
                    "SE/Data Science Tech Lead",
                    "EN/Data Scientist",
                    "EX/Data Scientist",
                    "MI/Data Scientist",
                    "SE/Data Scientist",
                    "MI/Data Scientist Associate",
                    "SE/Data Scientist Expert",
                    "MI/Data Scientist Lead",
                    "SE/Data Scientist Lead",
                    "SE/Data Scientist Manager",
                    "EN/Data Specialist",
                    "EX/Data Specialist",
                    "MI/Data Specialist",
                    "SE/Data Specialist",
                    "MI/Data Steward",
                    "SE/Data Steward",
                    "EN/Data Strategist",
                    "EX/Data Strategist",
                    "MI/Data Strategist",
                    "SE/Data Strategist",
                    "SE/Data Strategy Lead",
                    "MI/Data Strategy Manager",
                    "SE/Data Strategy Manager",
                    "SE/Data Team Lead",
                    "EN/Data Visualization Analyst",
                    "EX/Data Visualization Analyst",
                    "MI/Data Visualization Analyst",
                    "SE/Data Visualization Analyst",
                    "EN/Data Visualization Designer",
                    "EX/Data Visualization Designer",
                    "MI/Data Visualization Designer",
                    "MI/Data Visualization Developer",
                    "SE/Data Visualization Developer",
                    "EN/Data Visualization Engineer",
                    "MI/Data Visualization Engineer",
                    "SE/Data Visualization Engineer",
                    "SE/Data Visualization Expert",
                    "SE/Data Visualization Lead",
                    "EN/Data Visualization Specialist",
                    "MI/Data Visualization Specialist",
                    "SE/Data Visualization Specialist",
                    "MI/Data and Analytics Consultant",
                    "SE/Data and Analytics Consultant",
                    "EN/Data and Reporting Analyst",
                    "SE/Data and Reporting Analyst",
                    "EN/Data and Reporting Professional",
                    "MI/Data and Reporting Professional",
                    "SE/Data and Reporting Professional",
                    "EN/DataOps Engineer",
                    "MI/DataOps Engineer",
                    "SE/DataOps Engineer",
                    "MI/Database Administrator",
                    "SE/Database Administrator",
                    "MI/Databricks Engineer",
                    "SE/Databricks Engineer",
                    "EX/Decision Scientist",
                    "MI/Decision Scientist",
                    "SE/Decision Scientist",
                    "EN/Deep Learning Engineer",
                    "MI/Deep Learning Engineer",
                    "SE/Deep Learning Engineer",
                    "SE/Deep Learning Researcher",
                    "EN/DevOps Engineer",
                    "EX/DevOps Engineer",
                    "MI/DevOps Engineer",
                    "SE/DevOps Engineer",
                    "SE/DevOps Lead",
                    "EN/Developer",
                    "EX/Developer",
                    "MI/Developer",
                    "SE/Developer",
                    "MI/Developer Advocate",
                    "SE/Developer Advocate",
                    "EN/Director",
                    "EX/Director",
                    "SE/Director",
                    "EX/Director of Artificial Intelligence",
                    "EX/Director of Business Intelligence",
                    "EX/Director of Data",
                    "EX/Director of Engineering",
                    "EX/Director of Machine Learning",
                    "SE/Director of Machine Learning",
                    "EX/Director of Product Management",
                    "EN/ETL Developer",
                    "MI/ETL Developer",
                    "SE/ETL Developer",
                    "EX/ETL Engineer",
                    "MI/ETL Engineer",
                    "MI/Economist",
                    "SE/Economist",
                    "SE/Elasticsearch Administrator",
                    "EN/Encounter Data Management Professional",
                    "MI/Encounter Data Management Professional",
                    "SE/Encounter Data Management Professional",
                    "EN/Engineer",
                    "EX/Engineer",
                    "MI/Engineer",
                    "SE/Engineer",
                    "EN/Engineering Manager",
                    "MI/Engineering Manager",
                    "SE/Engineering Manager",
                    "EX/Enterprise Account Executive",
                    "SE/Enterprise Account Executive",
                    "EX/Executive",
                    "SE/Executive",
                    "SE/Experienced Quantitative Strategist",
                    "EN/Finance Data Analyst",
                    "SE/Finance Data Analyst",
                    "EN/Financial Data Analyst",
                    "MI/Financial Data Analyst",
                    "MI/Forward Deployed Engineer",
                    "SE/Forward Deployed Engineer",
                    "EN/Fraud Data Analyst",
                    "MI/Frontend Engineer",
                    "SE/Frontend Engineer",
                    "EN/Full Stack Developer",
                    "EX/Full Stack Developer",
                    "MI/Full Stack Developer",
                    "SE/Full Stack Developer",
                    "EN/Full Stack Engineer",
                    "EX/Full Stack Engineer",
                    "MI/Full Stack Engineer",
                    "SE/Full Stack Engineer",
                    "MI/Fullstack Engineer",
                    "SE/Fullstack Engineer",
                    "SE/GenAI Architect",
                    "EX/Head of AI",
                    "SE/Head of AI",
                    "EX/Head of Applied AI",
                    "EX/Head of Business Intelligence",
                    "EN/Head of Data",
                    "EX/Head of Data",
                    "MI/Head of Data",
                    "SE/Head of Data",
                    "EX/Head of Machine Learning",
                    "EX/Head of Marketing",
                    "SE/IT Enterprise Data Architect",
                    "SE/Infrastructure Engineer",
                    "EN/Insight Analyst",
                    "MI/Insight Analyst",
                    "SE/Insight Analyst",
                    "EN/Integration Specialist",
                    "MI/Integration Specialist",
                    "MI/Java Developer",
                    "SE/Java Developer",
                    "SE/LLM Engineer",
                    "SE/Lead AI Engineer",
                    "SE/Lead Analyst",
                    "SE/Lead Data Analysis",
                    "MI/Lead Data Analyst",
                    "SE/Lead Data Analyst",
                    "EX/Lead Data Engineer",
                    "MI/Lead Data Engineer",
                    "SE/Lead Data Engineer",
                    "SE/Lead Data Management",
                    "MI/Lead Data Scientist",
                    "SE/Lead Data Scientist",
                    "SE/Lead Engineer",
                    "SE/Lead Machine Learning Engineer",
                    "MI/ML Infrastructure Engineer",
                    "SE/ML Infrastructure Engineer",
                    "EN/ML Scientist",
                    "MI/ML Scientist",
                    "SE/ML Scientist",
                    "EN/MLOps Engineer",
                    "MI/MLOps Engineer",
                    "SE/MLOps Engineer",
                    "SE/Machine Learning Architect",
                    "EN/Machine Learning Developer",
                    "MI/Machine Learning Developer",
                    "SE/Machine Learning Developer",
                    "EN/Machine Learning Engineer",
                    "EX/Machine Learning Engineer",
                    "MI/Machine Learning Engineer",
                    "SE/Machine Learning Engineer",
                    "MI/Machine Learning Infrastructure Engineer",
                    "SE/Machine Learning Infrastructure Engineer",
                    "SE/Machine Learning Lead",
                    "MI/Machine Learning Manager",
                    "SE/Machine Learning Manager",
                    "EN/Machine Learning Model Engineer",
                    "MI/Machine Learning Model Engineer",
                    "SE/Machine Learning Model Engineer",
                    "SE/Machine Learning Modeler",
                    "SE/Machine Learning Performance Engineer",
                    "MI/Machine Learning Platform Engineer",
                    "SE/Machine Learning Platform Engineer",
                    "MI/Machine Learning Quality Engineer",
                    "SE/Machine Learning Quality Engineer",
                    "EN/Machine Learning Research Engineer",
                    "MI/Machine Learning Research Engineer",
                    "EN/Machine Learning Researcher",
                    "MI/Machine Learning Researcher",
                    "SE/Machine Learning Researcher",
                    "EN/Machine Learning Scientist",
                    "EX/Machine Learning Scientist",
                    "MI/Machine Learning Scientist",
                    "SE/Machine Learning Scientist",
                    "MI/Machine Learning Software Engineer",
                    "SE/Machine Learning Software Engineer",
                    "EN/Machine Learning Specialist",
                    "MI/Machine Learning Specialist",
                    "SE/Machine Learning Specialist",
                    "SE/Machine Learning Tech Lead",
                    "MI/Machine Vision Engineer",
                    "EN/Manager",
                    "EX/Manager",
                    "MI/Manager",
                    "SE/Manager",
                    "SE/Manager Data Management",
                    "SE/Marketing Analyst",
                    "MI/Marketing Analytics Manager",
                    "SE/Marketing Data Analyst",
                    "EN/Marketing Data Engineer",
                    "SE/Marketing Data Scientist",
                    "MI/Marketing Science Partner",
                    "SE/Marketing Science Partner",
                    "EN/Master Data Management",
                    "EX/Master Data Management",
                    "MI/Master Data Management",
                    "SE/Master Data Management",
                    "MI/Master Data Specialist",
                    "SE/Member of Technical Staff",
                    "EX/NLP Engineer",
                    "MI/NLP Engineer",
                    "SE/NLP Engineer",
                    "MI/Network Engineer",
                    "EX/People Data Analyst",
                    "MI/Platform Data Engineer",
                    "EN/Platform Engineer",
                    "EX/Platform Engineer",
                    "MI/Platform Engineer",
                    "SE/Platform Engineer",
                    "MI/Post Doctoral Fellow",
                    "SE/Post Doctoral Fellow",
                    "EN/Postdoctoral Fellow",
                    "MI/Postdoctoral Fellow",
                    "SE/Postdoctoral Fellow",
                    "EX/Postdoctoral Research Fellow",
                    "MI/Postdoctoral Research Fellow",
                    "EN/Postdoctoral Researcher",
                    "MI/Postdoctoral Researcher",
                    "SE/Postdoctoral Researcher",
                    "MI/Postdoctoral Scholar",
                    "EN/Power BI",
                    "MI/Power BI",
                    "SE/Power BI",
                    "MI/Power BI Administrator",
                    "SE/Power BI Administrator",
                    "SE/Power BI Architect",
                    "SE/Power BI Consultant",
                    "EN/Power BI Developer",
                    "EX/Power BI Developer",
                    "MI/Power BI Developer",
                    "SE/Power BI Developer",
                    "SE/Power BI Expert",
                    "MI/Power BI Specialist",
                    "SE/Power BI Specialist",
                    "EN/Pricing Analyst",
                    "SE/Pricing Analyst",
                    "SE/Principal Application Delivery Consultant",
                    "MI/Principal Data Analyst",
                    "SE/Principal Data Analyst",
                    "SE/Principal Data Architect",
                    "SE/Principal Data Engineer",
                    "EX/Principal Data Scientist",
                    "MI/Principal Data Scientist",
                    "SE/Principal Data Scientist",
                    "EX/Principal Engineer",
                    "SE/Principal Engineer",
                    "SE/Principal Machine Learning Engineer",
                    "EX/Principal Researcher",
                    "SE/Principal Researcher",
                    "SE/Principal Scientist",
                    "SE/Principal Software Architect",
                    "MI/Principal Statistical Programmer",
                    "SE/Principal Statistical Programmer",
                    "EN/Product Analyst",
                    "MI/Product Analyst",
                    "SE/Product Analyst",
                    "EN/Product Data Analyst",
                    "MI/Product Data Analyst",
                    "SE/Product Data Analyst",
                    "EN/Product Designer",
                    "MI/Product Designer",
                    "SE/Product Designer",
                    "EN/Product Manager",
                    "EX/Product Manager",
                    "MI/Product Manager",
                    "SE/Product Manager",
                    "EN/Product Owner",
                    "EX/Product Owner",
                    "MI/Product Owner",
                    "SE/Product Owner",
                    "MI/Product Specialist",
                    "SE/Product Specialist",
                    "EN/Prompt Engineer",
                    "MI/Prompt Engineer",
                    "SE/Prompt Engineer",
                    "MI/Psychometrician",
                    "SE/Psychometrician",
                    "EN/Python Developer",
                    "EX/Python Developer",
                    "MI/Python Developer",
                    "SE/Python Developer",
                    "MI/QA Engineer",
                    "SE/QA Engineer",
                    "MI/QA Tutor Reviewer",
                    "EX/Quant Options Trader",
                    "EN/Quant Trader",
                    "EN/Quantitative Analyst",
                    "EX/Quantitative Analyst",
                    "MI/Quantitative Analyst",
                    "SE/Quantitative Analyst",
                    "EN/Quantitative Developer",
                    "MI/Quantitative Developer",
                    "SE/Quantitative Developer",
                    "EN/Quantitative Research Analyst",
                    "EN/Quantitative Researcher",
                    "EX/Quantitative Researcher",
                    "MI/Quantitative Researcher",
                    "SE/Quantitative Researcher",
                    "MI/Quantitative Risk Analyst",
                    "MI/Quantitative Trader",
                    "MI/RPA Developer",
                    "EN/Research Analyst",
                    "EX/Research Analyst",
                    "MI/Research Analyst",
                    "SE/Research Analyst",
                    "EN/Research Assistant",
                    "MI/Research Assistant",
                    "SE/Research Assistant",
                    "EN/Research Associate",
                    "MI/Research Associate",
                    "SE/Research Associate",
                    "MI/Research Data Manager",
                    "EN/Research Engineer",
                    "EX/Research Engineer",
                    "MI/Research Engineer",
                    "SE/Research Engineer",
                    "EN/Research Fellow",
                    "MI/Research Fellow",
                    "SE/Research Fellow",
                    "MI/Research Professional",
                    "SE/Research Professional",
                    "EN/Research Scientist",
                    "EX/Research Scientist",
                    "MI/Research Scientist",
                    "SE/Research Scientist",
                    "EN/Research Specialist",
                    "MI/Research Specialist",
                    "SE/Research Specialist",
                    "SE/Research Team Lead",
                    "EN/Researcher",
                    "EX/Researcher",
                    "MI/Researcher",
                    "SE/Researcher",
                    "EN/Risk Analyst",
                    "EX/Risk Analyst",
                    "MI/Risk Analyst",
                    "SE/Risk Analyst",
                    "EN/Robotics Engineer",
                    "MI/Robotics Engineer",
                    "SE/Robotics Engineer",
                    "EX/Robotics Software Engineer",
                    "MI/Robotics Software Engineer",
                    "SE/Robotics Software Engineer",
                    "SE/SAS Developer",
                    "SE/Safety Data Management Specialist",
                    "MI/Sales Data Analyst",
                    "EN/Sales Development Representative",
                    "MI/Sales Development Representative",
                    "SE/Sales Development Representative",
                    "MI/Sales Engineer",
                    "SE/Sales Engineer",
                    "MI/Salesforce Administrator",
                    "MI/Scala Spark Developer",
                    "MI/Security Engineer",
                    "SE/Security Engineer",
                    "MI/Security Researcher",
                    "SE/Security Researcher",
                    "EN/Site Reliability Engineer",
                    "MI/Site Reliability Engineer",
                    "SE/Site Reliability Engineer",
                    "EN/Software Architect",
                    "MI/Software Architect",
                    "SE/Software Architect",
                    "MI/Software Data Engineer",
                    "SE/Software Data Engineer",
                    "EN/Software Developer",
                    "EX/Software Developer",
                    "MI/Software Developer",
                    "SE/Software Developer",
                    "EX/Software Development Director",
                    "EN/Software Development Engineer",
                    "EX/Software Development Engineer",
                    "MI/Software Development Engineer",
                    "SE/Software Development Engineer",
                    "EN/Software Engineer",
                    "EX/Software Engineer",
                    "MI/Software Engineer",
                    "SE/Software Engineer",
                    "EN/Solution Architect",
                    "MI/Solution Architect",
                    "SE/Solution Architect",
                    "EN/Solution Engineer",
                    "EX/Solution Engineer",
                    "MI/Solution Engineer",
                    "SE/Solution Engineer",
                    "MI/Solution Specialist",
                    "EN/Solutions Architect",
                    "EX/Solutions Architect",
                    "MI/Solutions Architect",
                    "SE/Solutions Architect",
                    "EN/Solutions Engineer",
                    "EX/Solutions Engineer",
                    "MI/Solutions Engineer",
                    "SE/Solutions Engineer",
                    "EN/Staff Data Analyst",
                    "EX/Staff Data Analyst",
                    "MI/Staff Data Analyst",
                    "SE/Staff Data Scientist",
                    "EN/Staff Engineer",
                    "MI/Staff Engineer",
                    "SE/Staff Engineer",
                    "SE/Staff Machine Learning Engineer",
                    "EN/Stage",
                    "MI/Stage",
                    "SE/Stage",
                    "EN/Statistical Programmer",
                    "MI/Statistical Programmer",
                    "SE/Statistical Programmer",
                    "EN/Statistician",
                    "EX/Statistician",
                    "MI/Statistician",
                    "SE/Statistician",
                    "MI/System Administrator",
                    "SE/System Administrator",
                    "EN/System Engineer",
                    "MI/System Engineer",
                    "SE/System Engineer",
                    "EN/Systems Administrator",
                    "MI/Systems Administrator",
                    "SE/Systems Administrator",
                    "EN/Systems Engineer",
                    "EX/Systems Engineer",
                    "MI/Systems Engineer",
                    "SE/Systems Engineer",
                    "MI/Tableau Developer",
                    "SE/Tableau Developer",
                    "SE/Tech Lead",
                    "SE/Tech Lead Data",
                    "SE/Technical Architect",
                    "MI/Technical Consultant",
                    "EX/Technical Lead",
                    "SE/Technical Lead",
                    "EN/Technical Project Manager",
                    "MI/Technical Recruiter",
                    "SE/Technical Recruiter",
                    "EN/Technical Specialist",
                    "MI/Technical Specialist",
                    "SE/Technical Specialist",
                    "MI/Technical Support Engineer",
                    "SE/Technical Support Engineer",
                    "MI/Technical Support Specialist",
                    "EN/Technical Writer",
                    "MI/Technical Writer",
                    "SE/Technical Writer",
                    "MI/Technology Integrator",
                    "SE/Technology Integrator",
                    "EN/Trainee",
                    "EN/Web Developer",
                    "MI/Web Developer",
                    "SE/Web Developer",
                    "EN",
                    "EX",
                    "MI",
                    "SE"
                  ],
                  "labels": [
                    "AI Architect",
                    "AI Architect",
                    "AI Architect",
                    "AI Content Writer",
                    "AI Content Writer",
                    "AI Data Engineer",
                    "AI Data Engineer",
                    "AI Data Scientist",
                    "AI Data Scientist",
                    "AI Data Scientist",
                    "AI Developer",
                    "AI Developer",
                    "AI Developer",
                    "AI Developer",
                    "AI Engineer",
                    "AI Engineer",
                    "AI Engineer",
                    "AI Engineer",
                    "AI Engineering Lead",
                    "AI Engineering Manager",
                    "AI Governance Lead",
                    "AI Governance Specialist",
                    "AI Governance Specialist",
                    "AI Lead",
                    "AI Lead",
                    "AI Machine Learning Engineer",
                    "AI Machine Learning Engineer",
                    "AI Product Lead",
                    "AI Product Manager",
                    "AI Product Manager",
                    "AI Product Owner",
                    "AI Product Owner",
                    "AI Product Specialist",
                    "AI Programmer",
                    "AI Programmer",
                    "AI Programmer",
                    "AI Research Engineer",
                    "AI Research Engineer",
                    "AI Research Scientist",
                    "AI Research Scientist",
                    "AI Research Scientist",
                    "AI Researcher",
                    "AI Researcher",
                    "AI Researcher",
                    "AI Scientist",
                    "AI Scientist",
                    "AI Scientist",
                    "AI Scientist",
                    "AI Software Development Engineer",
                    "AI Software Engineer",
                    "AI Software Engineer",
                    "AI Software Engineer",
                    "AI Solution Architect",
                    "AI Solution Director",
                    "AI Solutions Consultant",
                    "AI Solutions Lead",
                    "AI Solutions Specialist",
                    "AI Solutions Specialist",
                    "AI Specialist",
                    "AI Specialist",
                    "AI Specialist",
                    "AI Specialist",
                    "AI Strategist",
                    "AI Tech Lead",
                    "AI Tech Lead",
                    "AIRS Solutions Specialist",
                    "AWS Data Architect",
                    "Account Executive",
                    "Account Executive",
                    "Actuarial Analyst",
                    "Actuarial Analyst",
                    "Actuary",
                    "Actuary",
                    "Actuary",
                    "Admin & Data Analyst",
                    "Admin & Data Analyst",
                    "Admin & Data Analyst",
                    "Advanced Analytics Manager",
                    "Advanced Data Analyst",
                    "Algorithm Developer",
                    "Algorithm Developer",
                    "Algorithm Developer",
                    "Alternance",
                    "Analyst",
                    "Analyst",
                    "Analyst",
                    "Analyst",
                    "Analytics Analyst",
                    "Analytics Engineer",
                    "Analytics Engineer",
                    "Analytics Engineer",
                    "Analytics Engineer",
                    "Analytics Engineering Manager",
                    "Analytics Lead",
                    "Analytics Manager",
                    "Analytics Manager",
                    "Analytics Specialist",
                    "Analytics Specialist",
                    "Analytics Specialist",
                    "Analytics Specialist",
                    "Application Developer",
                    "Application Developer",
                    "Application Developer",
                    "Applied AI ML Lead",
                    "Applied Data Scientist",
                    "Applied Data Scientist",
                    "Applied Data Scientist",
                    "Applied Machine Learning Engineer",
                    "Applied Machine Learning Engineer",
                    "Applied Machine Learning Scientist",
                    "Applied Machine Learning Scientist",
                    "Applied Machine Learning Scientist",
                    "Applied Research Scientist",
                    "Applied Research Scientist",
                    "Applied Scientist",
                    "Applied Scientist",
                    "Applied Scientist",
                    "Apprentice",
                    "Architect",
                    "Architect",
                    "Architect",
                    "Artificial Intelligence Engineer",
                    "Artificial Intelligence Engineer",
                    "Artificial Intelligence Engineer",
                    "Artificial Intelligence Engineer",
                    "Associate",
                    "Associate",
                    "Associate",
                    "Associate",
                    "Automation Engineer",
                    "Automation Engineer",
                    "Automation Engineer",
                    "Automation Engineer",
                    "Autonomous Vehicle Technician",
                    "Azure Data Engineer",
                    "Azure Data Engineer",
                    "BI & Data Analyst",
                    "BI Analyst",
                    "BI Analyst",
                    "BI Analyst",
                    "BI Data Analyst",
                    "BI Data Analyst",
                    "BI Data Analyst",
                    "BI Data Analyst",
                    "BI Data Engineer",
                    "BI Developer",
                    "BI Developer",
                    "BI Developer",
                    "BI Developer",
                    "BI Engineer",
                    "BI Engineer",
                    "BI Engineer",
                    "Backend Developer",
                    "Backend Developer",
                    "Backend Engineer",
                    "Backend Engineer",
                    "Backend Engineer",
                    "Backend Software Engineer",
                    "Bear Robotics",
                    "Bear Robotics",
                    "Bear Robotics",
                    "Big Data Analyst",
                    "Big Data Architect",
                    "Big Data Developer",
                    "Big Data Developer",
                    "Big Data Engineer",
                    "Big Data Engineer",
                    "Big Data Engineer",
                    "Bioinformatician",
                    "Bioinformatician",
                    "Bioinformatician",
                    "Bioinformatics Scientist",
                    "Bioinformatics Scientist",
                    "Bioinformatics Scientist",
                    "Bioinformatics Scientist",
                    "Bioinformatics Specialist",
                    "Business Analyst",
                    "Business Analyst",
                    "Business Analyst",
                    "Business Analyst",
                    "Business Data Analyst",
                    "Business Data Analyst",
                    "Business Data Analyst",
                    "Business Development Manager",
                    "Business Development Representative",
                    "Business Development Representative",
                    "Business Development Representative",
                    "Business Insights Manager",
                    "Business Intelligence",
                    "Business Intelligence",
                    "Business Intelligence",
                    "Business Intelligence",
                    "Business Intelligence Analyst",
                    "Business Intelligence Analyst",
                    "Business Intelligence Analyst",
                    "Business Intelligence Analyst",
                    "Business Intelligence Consultant",
                    "Business Intelligence Data Analyst",
                    "Business Intelligence Data Analyst",
                    "Business Intelligence Developer",
                    "Business Intelligence Developer",
                    "Business Intelligence Developer",
                    "Business Intelligence Developer",
                    "Business Intelligence Engineer",
                    "Business Intelligence Engineer",
                    "Business Intelligence Engineer",
                    "Business Intelligence Engineer",
                    "Business Intelligence Lead",
                    "Business Intelligence Lead",
                    "Business Intelligence Lead",
                    "Business Intelligence Manager",
                    "Business Intelligence Manager",
                    "Business Intelligence Specialist",
                    "Business Intelligence Specialist",
                    "Business Intelligence Specialist",
                    "CRM Data Analyst",
                    "Cdd",
                    "Chatbot Developer",
                    "Chatbot Developer",
                    "Cheminformatics Scientist",
                    "Cientista de Dados",
                    "Clinical Aide",
                    "Clinical Data Operator",
                    "Cloud Architect",
                    "Cloud Data Architect",
                    "Cloud Data Engineer",
                    "Cloud Data Engineer",
                    "Cloud Data Engineer",
                    "Cloud Database Administrator",
                    "Cloud Database Administrator",
                    "Cloud Database Administrator",
                    "Cloud Database Engineer",
                    "Cloud Database Engineer",
                    "Cloud Developer",
                    "Cloud Developer",
                    "Cloud Engineer",
                    "Cloud Engineer",
                    "Cloud Engineer",
                    "Cloud Engineer",
                    "Commercial Counsel",
                    "Commercial Counsel",
                    "Compliance Data Analyst",
                    "Computational Biologist",
                    "Computational Biologist",
                    "Computational Scientist",
                    "Computational Scientist",
                    "Computational Scientist",
                    "Computer Vision Engineer",
                    "Computer Vision Engineer",
                    "Computer Vision Engineer",
                    "Computer Vision Software Engineer",
                    "Computer Vision Software Engineer",
                    "Computer Vision Software Engineer",
                    "Consultant",
                    "Consultant",
                    "Consultant",
                    "Consultant",
                    "Consultant Data Engineer",
                    "Content Writer",
                    "Controls Engineer",
                    "Conversational AI Designer",
                    "Copywriter",
                    "Copywriter",
                    "Creative Technologist",
                    "Creative Technologist",
                    "Customer Success Engineer",
                    "Customer Success Manager",
                    "Data & Analytics Analyst",
                    "Data & Analytics Specialist",
                    "Data Analist",
                    "Data Analist",
                    "Data Analist",
                    "Data Analysis",
                    "Data Analysis",
                    "Data Analysis",
                    "Data Analysis",
                    "Data Analysis Specialist",
                    "Data Analyst",
                    "Data Analyst",
                    "Data Analyst",
                    "Data Analyst",
                    "Data Analyst Lead",
                    "Data Analyst Lead",
                    "Data Analytics Associate",
                    "Data Analytics Associate",
                    "Data Analytics Business Partner",
                    "Data Analytics Business Partner",
                    "Data Analytics Consultant",
                    "Data Analytics Consultant",
                    "Data Analytics Consultant",
                    "Data Analytics Developer",
                    "Data Analytics Developer",
                    "Data Analytics Developer",
                    "Data Analytics Engineer",
                    "Data Analytics Engineer",
                    "Data Analytics Engineer",
                    "Data Analytics Lead",
                    "Data Analytics Lead",
                    "Data Analytics Lead",
                    "Data Analytics Manager",
                    "Data Analytics Manager",
                    "Data Analytics Manager",
                    "Data Analytics Manager",
                    "Data Analytics Specialist",
                    "Data Analytics Specialist",
                    "Data Analytics Specialist",
                    "Data Analytics Team Lead",
                    "Data Architect",
                    "Data Architect",
                    "Data Architect",
                    "Data Architect",
                    "Data Archivist",
                    "Data Consultant",
                    "Data Consultant",
                    "Data Consultant",
                    "Data DevOps Engineer",
                    "Data DevOps Engineer",
                    "Data DevOps Engineer",
                    "Data Developer",
                    "Data Developer",
                    "Data Developer",
                    "Data Developer",
                    "Data Engineer",
                    "Data Engineer",
                    "Data Engineer",
                    "Data Engineer",
                    "Data Engineer 4",
                    "Data Governance",
                    "Data Governance",
                    "Data Governance",
                    "Data Governance",
                    "Data Governance Analyst",
                    "Data Governance Analyst",
                    "Data Governance Analyst",
                    "Data Governance Analyst",
                    "Data Governance Architect",
                    "Data Governance Consultant",
                    "Data Governance Consultant",
                    "Data Governance Engineer",
                    "Data Governance Engineer",
                    "Data Governance Engineer",
                    "Data Governance Lead",
                    "Data Governance Lead",
                    "Data Governance Manager",
                    "Data Governance Manager",
                    "Data Governance Manager",
                    "Data Governance Specialist",
                    "Data Governance Specialist",
                    "Data Governance Specialist",
                    "Data Governance Specialist",
                    "Data Infrastructure Engineer",
                    "Data Infrastructure Engineer",
                    "Data Integration Analyst",
                    "Data Integration Analyst",
                    "Data Integration Analyst",
                    "Data Integration Coordinator",
                    "Data Integration Developer",
                    "Data Integration Developer",
                    "Data Integration Engineer",
                    "Data Integration Engineer",
                    "Data Integration Engineer",
                    "Data Integration Engineer",
                    "Data Integration Lead",
                    "Data Integration Specialist",
                    "Data Integration Specialist",
                    "Data Integration Specialist",
                    "Data Integrator",
                    "Data Integrator",
                    "Data Integrity Analyst",
                    "Data Integrity Analyst",
                    "Data Integrity Specialist",
                    "Data Integrity Specialist",
                    "Data Lead",
                    "Data Lead",
                    "Data Lead",
                    "Data Management",
                    "Data Management",
                    "Data Management",
                    "Data Management",
                    "Data Management Analyst",
                    "Data Management Analyst",
                    "Data Management Analyst",
                    "Data Management Associate",
                    "Data Management Associate",
                    "Data Management Consultant",
                    "Data Management Consultant",
                    "Data Management Consultant",
                    "Data Management Coordinator",
                    "Data Management Expert",
                    "Data Management Lead",
                    "Data Management Lead",
                    "Data Management Manager",
                    "Data Management Officer",
                    "Data Management Professional",
                    "Data Management Specialist",
                    "Data Management Specialist",
                    "Data Management Specialist",
                    "Data Management Specialist",
                    "Data Management Technician",
                    "Data Manager",
                    "Data Manager",
                    "Data Manager",
                    "Data Manager",
                    "Data Modeler",
                    "Data Modeler",
                    "Data Modeler",
                    "Data Operations",
                    "Data Operations",
                    "Data Operations",
                    "Data Operations",
                    "Data Operations Analyst",
                    "Data Operations Analyst",
                    "Data Operations Analyst",
                    "Data Operations Associate",
                    "Data Operations Associate",
                    "Data Operations Engineer",
                    "Data Operations Engineer",
                    "Data Operations Engineer",
                    "Data Operations Engineer",
                    "Data Operations Lead",
                    "Data Operations Manager",
                    "Data Operations Manager",
                    "Data Operations Manager",
                    "Data Operations Specialist",
                    "Data Operations Specialist",
                    "Data Operations Specialist",
                    "Data Operator",
                    "Data Pipeline Engineer",
                    "Data Platform Engineer",
                    "Data Platform Engineer",
                    "Data Platform Engineer",
                    "Data Platform Engineer",
                    "Data Product Analyst",
                    "Data Product Lead",
                    "Data Product Manager",
                    "Data Product Manager",
                    "Data Product Manager",
                    "Data Product Manager",
                    "Data Product Owner",
                    "Data Product Owner",
                    "Data Product Owner",
                    "Data Quality Analyst",
                    "Data Quality Analyst",
                    "Data Quality Analyst",
                    "Data Quality Analyst",
                    "Data Quality Engineer",
                    "Data Quality Engineer",
                    "Data Quality Engineer",
                    "Data Quality Expert",
                    "Data Quality Lead",
                    "Data Quality Manager",
                    "Data Quality Manager",
                    "Data Quality Specialist",
                    "Data Quality Specialist",
                    "Data Quality Specialist",
                    "Data Quality Specialist",
                    "Data Reporter",
                    "Data Reporter",
                    "Data Reporting Analyst",
                    "Data Reporting Analyst",
                    "Data Reporting Analyst",
                    "Data Reporting Specialist",
                    "Data Reporting Specialist",
                    "Data Science Tech Lead",
                    "Data Scientist",
                    "Data Scientist",
                    "Data Scientist",
                    "Data Scientist",
                    "Data Scientist Associate",
                    "Data Scientist Expert",
                    "Data Scientist Lead",
                    "Data Scientist Lead",
                    "Data Scientist Manager",
                    "Data Specialist",
                    "Data Specialist",
                    "Data Specialist",
                    "Data Specialist",
                    "Data Steward",
                    "Data Steward",
                    "Data Strategist",
                    "Data Strategist",
                    "Data Strategist",
                    "Data Strategist",
                    "Data Strategy Lead",
                    "Data Strategy Manager",
                    "Data Strategy Manager",
                    "Data Team Lead",
                    "Data Visualization Analyst",
                    "Data Visualization Analyst",
                    "Data Visualization Analyst",
                    "Data Visualization Analyst",
                    "Data Visualization Designer",
                    "Data Visualization Designer",
                    "Data Visualization Designer",
                    "Data Visualization Developer",
                    "Data Visualization Developer",
                    "Data Visualization Engineer",
                    "Data Visualization Engineer",
                    "Data Visualization Engineer",
                    "Data Visualization Expert",
                    "Data Visualization Lead",
                    "Data Visualization Specialist",
                    "Data Visualization Specialist",
                    "Data Visualization Specialist",
                    "Data and Analytics Consultant",
                    "Data and Analytics Consultant",
                    "Data and Reporting Analyst",
                    "Data and Reporting Analyst",
                    "Data and Reporting Professional",
                    "Data and Reporting Professional",
                    "Data and Reporting Professional",
                    "DataOps Engineer",
                    "DataOps Engineer",
                    "DataOps Engineer",
                    "Database Administrator",
                    "Database Administrator",
                    "Databricks Engineer",
                    "Databricks Engineer",
                    "Decision Scientist",
                    "Decision Scientist",
                    "Decision Scientist",
                    "Deep Learning Engineer",
                    "Deep Learning Engineer",
                    "Deep Learning Engineer",
                    "Deep Learning Researcher",
                    "DevOps Engineer",
                    "DevOps Engineer",
                    "DevOps Engineer",
                    "DevOps Engineer",
                    "DevOps Lead",
                    "Developer",
                    "Developer",
                    "Developer",
                    "Developer",
                    "Developer Advocate",
                    "Developer Advocate",
                    "Director",
                    "Director",
                    "Director",
                    "Director of Artificial Intelligence",
                    "Director of Business Intelligence",
                    "Director of Data",
                    "Director of Engineering",
                    "Director of Machine Learning",
                    "Director of Machine Learning",
                    "Director of Product Management",
                    "ETL Developer",
                    "ETL Developer",
                    "ETL Developer",
                    "ETL Engineer",
                    "ETL Engineer",
                    "Economist",
                    "Economist",
                    "Elasticsearch Administrator",
                    "Encounter Data Management Professional",
                    "Encounter Data Management Professional",
                    "Encounter Data Management Professional",
                    "Engineer",
                    "Engineer",
                    "Engineer",
                    "Engineer",
                    "Engineering Manager",
                    "Engineering Manager",
                    "Engineering Manager",
                    "Enterprise Account Executive",
                    "Enterprise Account Executive",
                    "Executive",
                    "Executive",
                    "Experienced Quantitative Strategist",
                    "Finance Data Analyst",
                    "Finance Data Analyst",
                    "Financial Data Analyst",
                    "Financial Data Analyst",
                    "Forward Deployed Engineer",
                    "Forward Deployed Engineer",
                    "Fraud Data Analyst",
                    "Frontend Engineer",
                    "Frontend Engineer",
                    "Full Stack Developer",
                    "Full Stack Developer",
                    "Full Stack Developer",
                    "Full Stack Developer",
                    "Full Stack Engineer",
                    "Full Stack Engineer",
                    "Full Stack Engineer",
                    "Full Stack Engineer",
                    "Fullstack Engineer",
                    "Fullstack Engineer",
                    "GenAI Architect",
                    "Head of AI",
                    "Head of AI",
                    "Head of Applied AI",
                    "Head of Business Intelligence",
                    "Head of Data",
                    "Head of Data",
                    "Head of Data",
                    "Head of Data",
                    "Head of Machine Learning",
                    "Head of Marketing",
                    "IT Enterprise Data Architect",
                    "Infrastructure Engineer",
                    "Insight Analyst",
                    "Insight Analyst",
                    "Insight Analyst",
                    "Integration Specialist",
                    "Integration Specialist",
                    "Java Developer",
                    "Java Developer",
                    "LLM Engineer",
                    "Lead AI Engineer",
                    "Lead Analyst",
                    "Lead Data Analysis",
                    "Lead Data Analyst",
                    "Lead Data Analyst",
                    "Lead Data Engineer",
                    "Lead Data Engineer",
                    "Lead Data Engineer",
                    "Lead Data Management",
                    "Lead Data Scientist",
                    "Lead Data Scientist",
                    "Lead Engineer",
                    "Lead Machine Learning Engineer",
                    "ML Infrastructure Engineer",
                    "ML Infrastructure Engineer",
                    "ML Scientist",
                    "ML Scientist",
                    "ML Scientist",
                    "MLOps Engineer",
                    "MLOps Engineer",
                    "MLOps Engineer",
                    "Machine Learning Architect",
                    "Machine Learning Developer",
                    "Machine Learning Developer",
                    "Machine Learning Developer",
                    "Machine Learning Engineer",
                    "Machine Learning Engineer",
                    "Machine Learning Engineer",
                    "Machine Learning Engineer",
                    "Machine Learning Infrastructure Engineer",
                    "Machine Learning Infrastructure Engineer",
                    "Machine Learning Lead",
                    "Machine Learning Manager",
                    "Machine Learning Manager",
                    "Machine Learning Model Engineer",
                    "Machine Learning Model Engineer",
                    "Machine Learning Model Engineer",
                    "Machine Learning Modeler",
                    "Machine Learning Performance Engineer",
                    "Machine Learning Platform Engineer",
                    "Machine Learning Platform Engineer",
                    "Machine Learning Quality Engineer",
                    "Machine Learning Quality Engineer",
                    "Machine Learning Research Engineer",
                    "Machine Learning Research Engineer",
                    "Machine Learning Researcher",
                    "Machine Learning Researcher",
                    "Machine Learning Researcher",
                    "Machine Learning Scientist",
                    "Machine Learning Scientist",
                    "Machine Learning Scientist",
                    "Machine Learning Scientist",
                    "Machine Learning Software Engineer",
                    "Machine Learning Software Engineer",
                    "Machine Learning Specialist",
                    "Machine Learning Specialist",
                    "Machine Learning Specialist",
                    "Machine Learning Tech Lead",
                    "Machine Vision Engineer",
                    "Manager",
                    "Manager",
                    "Manager",
                    "Manager",
                    "Manager Data Management",
                    "Marketing Analyst",
                    "Marketing Analytics Manager",
                    "Marketing Data Analyst",
                    "Marketing Data Engineer",
                    "Marketing Data Scientist",
                    "Marketing Science Partner",
                    "Marketing Science Partner",
                    "Master Data Management",
                    "Master Data Management",
                    "Master Data Management",
                    "Master Data Management",
                    "Master Data Specialist",
                    "Member of Technical Staff",
                    "NLP Engineer",
                    "NLP Engineer",
                    "NLP Engineer",
                    "Network Engineer",
                    "People Data Analyst",
                    "Platform Data Engineer",
                    "Platform Engineer",
                    "Platform Engineer",
                    "Platform Engineer",
                    "Platform Engineer",
                    "Post Doctoral Fellow",
                    "Post Doctoral Fellow",
                    "Postdoctoral Fellow",
                    "Postdoctoral Fellow",
                    "Postdoctoral Fellow",
                    "Postdoctoral Research Fellow",
                    "Postdoctoral Research Fellow",
                    "Postdoctoral Researcher",
                    "Postdoctoral Researcher",
                    "Postdoctoral Researcher",
                    "Postdoctoral Scholar",
                    "Power BI",
                    "Power BI",
                    "Power BI",
                    "Power BI Administrator",
                    "Power BI Administrator",
                    "Power BI Architect",
                    "Power BI Consultant",
                    "Power BI Developer",
                    "Power BI Developer",
                    "Power BI Developer",
                    "Power BI Developer",
                    "Power BI Expert",
                    "Power BI Specialist",
                    "Power BI Specialist",
                    "Pricing Analyst",
                    "Pricing Analyst",
                    "Principal Application Delivery Consultant",
                    "Principal Data Analyst",
                    "Principal Data Analyst",
                    "Principal Data Architect",
                    "Principal Data Engineer",
                    "Principal Data Scientist",
                    "Principal Data Scientist",
                    "Principal Data Scientist",
                    "Principal Engineer",
                    "Principal Engineer",
                    "Principal Machine Learning Engineer",
                    "Principal Researcher",
                    "Principal Researcher",
                    "Principal Scientist",
                    "Principal Software Architect",
                    "Principal Statistical Programmer",
                    "Principal Statistical Programmer",
                    "Product Analyst",
                    "Product Analyst",
                    "Product Analyst",
                    "Product Data Analyst",
                    "Product Data Analyst",
                    "Product Data Analyst",
                    "Product Designer",
                    "Product Designer",
                    "Product Designer",
                    "Product Manager",
                    "Product Manager",
                    "Product Manager",
                    "Product Manager",
                    "Product Owner",
                    "Product Owner",
                    "Product Owner",
                    "Product Owner",
                    "Product Specialist",
                    "Product Specialist",
                    "Prompt Engineer",
                    "Prompt Engineer",
                    "Prompt Engineer",
                    "Psychometrician",
                    "Psychometrician",
                    "Python Developer",
                    "Python Developer",
                    "Python Developer",
                    "Python Developer",
                    "QA Engineer",
                    "QA Engineer",
                    "QA Tutor Reviewer",
                    "Quant Options Trader",
                    "Quant Trader",
                    "Quantitative Analyst",
                    "Quantitative Analyst",
                    "Quantitative Analyst",
                    "Quantitative Analyst",
                    "Quantitative Developer",
                    "Quantitative Developer",
                    "Quantitative Developer",
                    "Quantitative Research Analyst",
                    "Quantitative Researcher",
                    "Quantitative Researcher",
                    "Quantitative Researcher",
                    "Quantitative Researcher",
                    "Quantitative Risk Analyst",
                    "Quantitative Trader",
                    "RPA Developer",
                    "Research Analyst",
                    "Research Analyst",
                    "Research Analyst",
                    "Research Analyst",
                    "Research Assistant",
                    "Research Assistant",
                    "Research Assistant",
                    "Research Associate",
                    "Research Associate",
                    "Research Associate",
                    "Research Data Manager",
                    "Research Engineer",
                    "Research Engineer",
                    "Research Engineer",
                    "Research Engineer",
                    "Research Fellow",
                    "Research Fellow",
                    "Research Fellow",
                    "Research Professional",
                    "Research Professional",
                    "Research Scientist",
                    "Research Scientist",
                    "Research Scientist",
                    "Research Scientist",
                    "Research Specialist",
                    "Research Specialist",
                    "Research Specialist",
                    "Research Team Lead",
                    "Researcher",
                    "Researcher",
                    "Researcher",
                    "Researcher",
                    "Risk Analyst",
                    "Risk Analyst",
                    "Risk Analyst",
                    "Risk Analyst",
                    "Robotics Engineer",
                    "Robotics Engineer",
                    "Robotics Engineer",
                    "Robotics Software Engineer",
                    "Robotics Software Engineer",
                    "Robotics Software Engineer",
                    "SAS Developer",
                    "Safety Data Management Specialist",
                    "Sales Data Analyst",
                    "Sales Development Representative",
                    "Sales Development Representative",
                    "Sales Development Representative",
                    "Sales Engineer",
                    "Sales Engineer",
                    "Salesforce Administrator",
                    "Scala Spark Developer",
                    "Security Engineer",
                    "Security Engineer",
                    "Security Researcher",
                    "Security Researcher",
                    "Site Reliability Engineer",
                    "Site Reliability Engineer",
                    "Site Reliability Engineer",
                    "Software Architect",
                    "Software Architect",
                    "Software Architect",
                    "Software Data Engineer",
                    "Software Data Engineer",
                    "Software Developer",
                    "Software Developer",
                    "Software Developer",
                    "Software Developer",
                    "Software Development Director",
                    "Software Development Engineer",
                    "Software Development Engineer",
                    "Software Development Engineer",
                    "Software Development Engineer",
                    "Software Engineer",
                    "Software Engineer",
                    "Software Engineer",
                    "Software Engineer",
                    "Solution Architect",
                    "Solution Architect",
                    "Solution Architect",
                    "Solution Engineer",
                    "Solution Engineer",
                    "Solution Engineer",
                    "Solution Engineer",
                    "Solution Specialist",
                    "Solutions Architect",
                    "Solutions Architect",
                    "Solutions Architect",
                    "Solutions Architect",
                    "Solutions Engineer",
                    "Solutions Engineer",
                    "Solutions Engineer",
                    "Solutions Engineer",
                    "Staff Data Analyst",
                    "Staff Data Analyst",
                    "Staff Data Analyst",
                    "Staff Data Scientist",
                    "Staff Engineer",
                    "Staff Engineer",
                    "Staff Engineer",
                    "Staff Machine Learning Engineer",
                    "Stage",
                    "Stage",
                    "Stage",
                    "Statistical Programmer",
                    "Statistical Programmer",
                    "Statistical Programmer",
                    "Statistician",
                    "Statistician",
                    "Statistician",
                    "Statistician",
                    "System Administrator",
                    "System Administrator",
                    "System Engineer",
                    "System Engineer",
                    "System Engineer",
                    "Systems Administrator",
                    "Systems Administrator",
                    "Systems Administrator",
                    "Systems Engineer",
                    "Systems Engineer",
                    "Systems Engineer",
                    "Systems Engineer",
                    "Tableau Developer",
                    "Tableau Developer",
                    "Tech Lead",
                    "Tech Lead Data",
                    "Technical Architect",
                    "Technical Consultant",
                    "Technical Lead",
                    "Technical Lead",
                    "Technical Project Manager",
                    "Technical Recruiter",
                    "Technical Recruiter",
                    "Technical Specialist",
                    "Technical Specialist",
                    "Technical Specialist",
                    "Technical Support Engineer",
                    "Technical Support Engineer",
                    "Technical Support Specialist",
                    "Technical Writer",
                    "Technical Writer",
                    "Technical Writer",
                    "Technology Integrator",
                    "Technology Integrator",
                    "Trainee",
                    "Web Developer",
                    "Web Developer",
                    "Web Developer",
                    "EN",
                    "EX",
                    "MI",
                    "SE"
                  ],
                  "marker": {
                    "coloraxis": "coloraxis",
                    "colors": [
                      1,
                      1,
                      287,
                      1,
                      2,
                      1,
                      1,
                      3,
                      7,
                      2,
                      22,
                      2,
                      103,
                      95,
                      80,
                      58,
                      683,
                      1192,
                      1,
                      2,
                      4,
                      4,
                      4,
                      1,
                      34,
                      1,
                      2,
                      14,
                      18,
                      9,
                      10,
                      16,
                      4,
                      6,
                      1,
                      3,
                      4,
                      4,
                      3,
                      1,
                      4,
                      11,
                      50,
                      45,
                      10,
                      1,
                      34,
                      93,
                      1,
                      1,
                      4,
                      6,
                      10,
                      16,
                      1,
                      8,
                      2,
                      2,
                      8,
                      2,
                      52,
                      46,
                      4,
                      1,
                      4,
                      6,
                      1,
                      192,
                      13,
                      12,
                      2,
                      6,
                      22,
                      18,
                      3,
                      2,
                      1,
                      1,
                      1,
                      8,
                      22,
                      10,
                      2,
                      1671,
                      78,
                      906,
                      2741,
                      1,
                      52,
                      36,
                      714,
                      1337,
                      1,
                      122,
                      28,
                      12,
                      4,
                      2,
                      16,
                      40,
                      4,
                      18,
                      10,
                      2,
                      5,
                      4,
                      4,
                      1,
                      2,
                      3,
                      7,
                      4,
                      1,
                      1,
                      72,
                      734,
                      1575,
                      2,
                      8,
                      2,
                      835,
                      4,
                      12,
                      12,
                      22,
                      93,
                      28,
                      1922,
                      336,
                      2,
                      2,
                      16,
                      22,
                      2,
                      1,
                      1,
                      1,
                      74,
                      42,
                      331,
                      7,
                      1,
                      9,
                      2,
                      1,
                      14,
                      2,
                      150,
                      140,
                      12,
                      46,
                      62,
                      4,
                      6,
                      2,
                      68,
                      315,
                      1,
                      4,
                      4,
                      4,
                      1,
                      2,
                      5,
                      6,
                      4,
                      6,
                      4,
                      2,
                      20,
                      26,
                      2,
                      4,
                      14,
                      66,
                      4,
                      203,
                      10,
                      66,
                      222,
                      5,
                      11,
                      5,
                      1,
                      2,
                      9,
                      4,
                      1,
                      34,
                      90,
                      80,
                      156,
                      233,
                      2,
                      145,
                      286,
                      2,
                      1,
                      1,
                      38,
                      4,
                      215,
                      158,
                      18,
                      14,
                      350,
                      574,
                      2,
                      2,
                      42,
                      30,
                      10,
                      2,
                      10,
                      20,
                      1,
                      2,
                      2,
                      4,
                      2,
                      1,
                      6,
                      10,
                      2,
                      1,
                      2,
                      1,
                      1,
                      4,
                      12,
                      18,
                      18,
                      25,
                      4,
                      8,
                      6,
                      8,
                      88,
                      104,
                      8,
                      8,
                      2,
                      30,
                      48,
                      2,
                      6,
                      10,
                      12,
                      46,
                      106,
                      3,
                      1,
                      1,
                      114,
                      9,
                      472,
                      768,
                      2,
                      4,
                      1,
                      4,
                      1,
                      14,
                      2,
                      2,
                      1,
                      1,
                      1,
                      2,
                      5,
                      2,
                      2,
                      10,
                      16,
                      10,
                      34,
                      2,
                      5227,
                      110,
                      2600,
                      5842,
                      1,
                      1,
                      2,
                      5,
                      2,
                      8,
                      5,
                      27,
                      8,
                      2,
                      4,
                      6,
                      1,
                      2,
                      2,
                      2,
                      3,
                      130,
                      3,
                      6,
                      201,
                      58,
                      8,
                      50,
                      30,
                      2,
                      12,
                      16,
                      55,
                      2133,
                      4,
                      2,
                      16,
                      12,
                      1,
                      1,
                      1,
                      4,
                      2,
                      90,
                      64,
                      655,
                      577,
                      5242,
                      9878,
                      1,
                      12,
                      128,
                      50,
                      172,
                      72,
                      6,
                      44,
                      72,
                      2,
                      2,
                      4,
                      2,
                      4,
                      20,
                      4,
                      122,
                      2,
                      51,
                      16,
                      6,
                      4,
                      52,
                      34,
                      34,
                      74,
                      8,
                      4,
                      2,
                      4,
                      6,
                      10,
                      4,
                      8,
                      48,
                      34,
                      6,
                      12,
                      58,
                      11,
                      8,
                      10,
                      10,
                      4,
                      6,
                      4,
                      6,
                      10,
                      306,
                      10,
                      34,
                      22,
                      56,
                      168,
                      56,
                      130,
                      26,
                      2,
                      2,
                      2,
                      12,
                      2,
                      2,
                      4,
                      60,
                      8,
                      2,
                      2,
                      16,
                      2,
                      186,
                      67,
                      2,
                      20,
                      22,
                      658,
                      373,
                      2,
                      70,
                      138,
                      2,
                      22,
                      22,
                      10,
                      54,
                      42,
                      32,
                      2,
                      16,
                      4,
                      2,
                      38,
                      34,
                      12,
                      2,
                      26,
                      12,
                      4,
                      38,
                      16,
                      4,
                      2,
                      2,
                      8,
                      12,
                      32,
                      2,
                      4,
                      2,
                      8,
                      156,
                      168,
                      16,
                      86,
                      76,
                      87,
                      4,
                      18,
                      60,
                      1,
                      36,
                      32,
                      2,
                      60,
                      12,
                      4,
                      3,
                      2,
                      14,
                      8,
                      6,
                      2,
                      36,
                      8,
                      24,
                      4,
                      2,
                      1,
                      829,
                      285,
                      5786,
                      11851,
                      1,
                      1,
                      1,
                      2,
                      2,
                      149,
                      4,
                      628,
                      203,
                      2,
                      4,
                      2,
                      2,
                      66,
                      58,
                      24,
                      2,
                      4,
                      50,
                      14,
                      2,
                      9,
                      14,
                      2,
                      2,
                      6,
                      22,
                      6,
                      2,
                      46,
                      46,
                      4,
                      4,
                      4,
                      40,
                      30,
                      2,
                      6,
                      16,
                      6,
                      2,
                      18,
                      20,
                      2,
                      2,
                      26,
                      12,
                      14,
                      2,
                      4,
                      2,
                      70,
                      144,
                      2,
                      4,
                      6,
                      1,
                      22,
                      2,
                      208,
                      331,
                      4,
                      66,
                      26,
                      424,
                      524,
                      2,
                      12,
                      8,
                      616,
                      168,
                      4,
                      2,
                      6,
                      1,
                      32,
                      6,
                      28,
                      2,
                      28,
                      26,
                      1,
                      6,
                      2,
                      22,
                      2,
                      4,
                      26,
                      20,
                      550,
                      382,
                      3376,
                      6696,
                      12,
                      580,
                      310,
                      58,
                      14,
                      84,
                      2,
                      2,
                      1,
                      2,
                      2,
                      2,
                      12,
                      4,
                      1,
                      2,
                      10,
                      10,
                      2,
                      58,
                      76,
                      8,
                      12,
                      60,
                      148,
                      2,
                      22,
                      12,
                      60,
                      2,
                      8,
                      2,
                      4,
                      309,
                      5,
                      18,
                      19,
                      4,
                      1,
                      16,
                      68,
                      40,
                      46,
                      2,
                      2,
                      4,
                      16,
                      1,
                      1,
                      54,
                      8,
                      5,
                      1,
                      1,
                      1,
                      5,
                      2,
                      2,
                      9,
                      106,
                      5,
                      6,
                      12,
                      2,
                      8,
                      38,
                      4,
                      49,
                      144,
                      32,
                      9,
                      27,
                      20,
                      416,
                      76,
                      1991,
                      6404,
                      10,
                      31,
                      12,
                      4,
                      10,
                      2,
                      12,
                      2,
                      10,
                      2,
                      6,
                      10,
                      6,
                      8,
                      3,
                      2,
                      6,
                      64,
                      629,
                      19,
                      4,
                      165,
                      349,
                      4,
                      11,
                      2,
                      13,
                      9,
                      2,
                      2,
                      62,
                      132,
                      4100,
                      3517,
                      2,
                      8,
                      2,
                      2,
                      1,
                      1,
                      2,
                      6,
                      2,
                      8,
                      2,
                      8,
                      2,
                      202,
                      8,
                      5,
                      10,
                      1,
                      1,
                      1,
                      20,
                      42,
                      172,
                      326,
                      2,
                      6,
                      10,
                      66,
                      12,
                      2,
                      4,
                      10,
                      45,
                      8,
                      2,
                      14,
                      12,
                      14,
                      10,
                      8,
                      2,
                      2,
                      10,
                      2,
                      87,
                      52,
                      10,
                      6,
                      4,
                      12,
                      2,
                      40,
                      1,
                      1,
                      1,
                      3,
                      1,
                      1,
                      8,
                      2,
                      52,
                      3,
                      2,
                      32,
                      36,
                      6,
                      8,
                      60,
                      74,
                      44,
                      124,
                      2,
                      3,
                      1,
                      3,
                      18,
                      184,
                      30,
                      30,
                      930,
                      1586,
                      2,
                      6,
                      80,
                      53,
                      16,
                      10,
                      4,
                      46,
                      60,
                      2,
                      4,
                      4,
                      4,
                      56,
                      52,
                      49,
                      44,
                      16,
                      10,
                      1,
                      50,
                      46,
                      49,
                      76,
                      1,
                      28,
                      12,
                      1,
                      10,
                      6,
                      86,
                      20,
                      1,
                      4,
                      2,
                      245,
                      4,
                      51,
                      140,
                      63,
                      52,
                      4,
                      16,
                      226,
                      18,
                      1,
                      107,
                      2,
                      633,
                      995,
                      4,
                      8,
                      2,
                      8,
                      2,
                      365,
                      3,
                      1387,
                      1705,
                      4,
                      14,
                      2,
                      2,
                      14,
                      2,
                      60,
                      86,
                      3,
                      2,
                      4,
                      2,
                      5,
                      42,
                      42,
                      2,
                      4,
                      6,
                      4,
                      1,
                      1,
                      5,
                      8,
                      8,
                      16,
                      14,
                      2,
                      6,
                      16,
                      40,
                      12,
                      28,
                      16,
                      154,
                      332,
                      4,
                      2,
                      68,
                      1,
                      2,
                      50,
                      10,
                      364,
                      374,
                      4,
                      45,
                      4,
                      274,
                      424,
                      626,
                      162,
                      4492,
                      11668,
                      4,
                      6,
                      288,
                      8,
                      4,
                      40,
                      58,
                      8,
                      6,
                      2,
                      16,
                      952,
                      4,
                      14,
                      129,
                      270,
                      1,
                      1,
                      1,
                      3,
                      2,
                      2,
                      46,
                      1,
                      24,
                      2,
                      2,
                      4,
                      44,
                      68,
                      14,
                      6,
                      51,
                      58,
                      2,
                      2,
                      4,
                      40,
                      46,
                      2,
                      6,
                      8,
                      36,
                      2,
                      288,
                      528,
                      2,
                      6,
                      70,
                      2,
                      42,
                      1,
                      4,
                      244,
                      1,
                      8,
                      12,
                      2,
                      6,
                      12,
                      8,
                      20,
                      10,
                      1,
                      14,
                      22,
                      10,
                      2,
                      12,
                      1,
                      2,
                      6,
                      2382.3152309156117,
                      287.39586836416044,
                      2858.337322233784,
                      6134.0663954006695
                    ]
                  },
                  "name": "",
                  "parents": [
                    "EX",
                    "MI",
                    "SE",
                    "EN",
                    "MI",
                    "EN",
                    "SE",
                    "EN",
                    "MI",
                    "SE",
                    "EN",
                    "EX",
                    "MI",
                    "SE",
                    "EN",
                    "EX",
                    "MI",
                    "SE",
                    "SE",
                    "SE",
                    "SE",
                    "MI",
                    "SE",
                    "MI",
                    "SE",
                    "EN",
                    "SE",
                    "SE",
                    "MI",
                    "SE",
                    "MI",
                    "SE",
                    "MI",
                    "EN",
                    "MI",
                    "SE",
                    "EN",
                    "MI",
                    "EN",
                    "MI",
                    "SE",
                    "EN",
                    "MI",
                    "SE",
                    "EN",
                    "EX",
                    "MI",
                    "SE",
                    "SE",
                    "EN",
                    "MI",
                    "SE",
                    "SE",
                    "EX",
                    "SE",
                    "SE",
                    "MI",
                    "SE",
                    "EN",
                    "EX",
                    "MI",
                    "SE",
                    "SE",
                    "EX",
                    "SE",
                    "SE",
                    "MI",
                    "EX",
                    "SE",
                    "EN",
                    "SE",
                    "EX",
                    "MI",
                    "SE",
                    "EN",
                    "MI",
                    "SE",
                    "MI",
                    "SE",
                    "EN",
                    "MI",
                    "SE",
                    "EN",
                    "EN",
                    "EX",
                    "MI",
                    "SE",
                    "MI",
                    "EN",
                    "EX",
                    "MI",
                    "SE",
                    "SE",
                    "SE",
                    "MI",
                    "SE",
                    "EN",
                    "EX",
                    "MI",
                    "SE",
                    "EN",
                    "MI",
                    "SE",
                    "SE",
                    "EN",
                    "MI",
                    "SE",
                    "EX",
                    "MI",
                    "EN",
                    "MI",
                    "SE",
                    "MI",
                    "SE",
                    "EN",
                    "MI",
                    "SE",
                    "EN",
                    "EN",
                    "EX",
                    "SE",
                    "EN",
                    "EX",
                    "MI",
                    "SE",
                    "EN",
                    "EX",
                    "MI",
                    "SE",
                    "EN",
                    "EX",
                    "MI",
                    "SE",
                    "MI",
                    "EN",
                    "SE",
                    "MI",
                    "EN",
                    "MI",
                    "SE",
                    "EN",
                    "EX",
                    "MI",
                    "SE",
                    "EN",
                    "EN",
                    "EX",
                    "MI",
                    "SE",
                    "EN",
                    "MI",
                    "SE",
                    "MI",
                    "SE",
                    "EX",
                    "MI",
                    "SE",
                    "MI",
                    "EN",
                    "MI",
                    "SE",
                    "MI",
                    "SE",
                    "MI",
                    "SE",
                    "EN",
                    "MI",
                    "SE",
                    "EN",
                    "MI",
                    "SE",
                    "EN",
                    "EX",
                    "MI",
                    "SE",
                    "MI",
                    "EN",
                    "EX",
                    "MI",
                    "SE",
                    "EN",
                    "MI",
                    "SE",
                    "MI",
                    "EN",
                    "MI",
                    "SE",
                    "MI",
                    "EN",
                    "EX",
                    "MI",
                    "SE",
                    "EN",
                    "EX",
                    "MI",
                    "SE",
                    "SE",
                    "EN",
                    "MI",
                    "EN",
                    "EX",
                    "MI",
                    "SE",
                    "EN",
                    "EX",
                    "MI",
                    "SE",
                    "EN",
                    "MI",
                    "SE",
                    "MI",
                    "SE",
                    "EN",
                    "MI",
                    "SE",
                    "SE",
                    "EN",
                    "EN",
                    "SE",
                    "MI",
                    "EN",
                    "MI",
                    "MI",
                    "SE",
                    "SE",
                    "EN",
                    "MI",
                    "SE",
                    "EN",
                    "MI",
                    "SE",
                    "MI",
                    "SE",
                    "MI",
                    "SE",
                    "EN",
                    "EX",
                    "MI",
                    "SE",
                    "MI",
                    "SE",
                    "EN",
                    "MI",
                    "SE",
                    "EN",
                    "MI",
                    "SE",
                    "EN",
                    "MI",
                    "SE",
                    "EN",
                    "MI",
                    "SE",
                    "EN",
                    "EX",
                    "MI",
                    "SE",
                    "SE",
                    "MI",
                    "SE",
                    "MI",
                    "MI",
                    "SE",
                    "EN",
                    "MI",
                    "MI",
                    "MI",
                    "EN",
                    "MI",
                    "EN",
                    "MI",
                    "SE",
                    "EN",
                    "EX",
                    "MI",
                    "SE",
                    "MI",
                    "EN",
                    "EX",
                    "MI",
                    "SE",
                    "EN",
                    "MI",
                    "EN",
                    "SE",
                    "MI",
                    "SE",
                    "EN",
                    "MI",
                    "SE",
                    "EN",
                    "MI",
                    "SE",
                    "EN",
                    "MI",
                    "SE",
                    "EN",
                    "MI",
                    "SE",
                    "EN",
                    "EX",
                    "MI",
                    "SE",
                    "EN",
                    "MI",
                    "SE",
                    "SE",
                    "EN",
                    "EX",
                    "MI",
                    "SE",
                    "MI",
                    "EN",
                    "MI",
                    "SE",
                    "EN",
                    "MI",
                    "SE",
                    "EN",
                    "EX",
                    "MI",
                    "SE",
                    "EN",
                    "EX",
                    "MI",
                    "SE",
                    "SE",
                    "EN",
                    "EX",
                    "MI",
                    "SE",
                    "EN",
                    "EX",
                    "MI",
                    "SE",
                    "SE",
                    "EN",
                    "MI",
                    "EN",
                    "MI",
                    "SE",
                    "MI",
                    "SE",
                    "EX",
                    "MI",
                    "SE",
                    "EN",
                    "EX",
                    "MI",
                    "SE",
                    "MI",
                    "SE",
                    "EN",
                    "MI",
                    "SE",
                    "MI",
                    "MI",
                    "SE",
                    "EN",
                    "EX",
                    "MI",
                    "SE",
                    "SE",
                    "EN",
                    "MI",
                    "SE",
                    "MI",
                    "SE",
                    "EN",
                    "MI",
                    "EN",
                    "MI",
                    "EX",
                    "MI",
                    "SE",
                    "EN",
                    "EX",
                    "MI",
                    "SE",
                    "EN",
                    "MI",
                    "SE",
                    "MI",
                    "SE",
                    "EN",
                    "MI",
                    "SE",
                    "SE",
                    "SE",
                    "EX",
                    "SE",
                    "MI",
                    "MI",
                    "MI",
                    "EN",
                    "EX",
                    "MI",
                    "SE",
                    "SE",
                    "EN",
                    "EX",
                    "MI",
                    "SE",
                    "EX",
                    "MI",
                    "SE",
                    "EN",
                    "EX",
                    "MI",
                    "SE",
                    "EN",
                    "MI",
                    "SE",
                    "EN",
                    "MI",
                    "EN",
                    "EX",
                    "MI",
                    "SE",
                    "SE",
                    "EN",
                    "MI",
                    "SE",
                    "EX",
                    "MI",
                    "SE",
                    "MI",
                    "SE",
                    "EN",
                    "EX",
                    "MI",
                    "SE",
                    "EN",
                    "SE",
                    "EN",
                    "EX",
                    "MI",
                    "SE",
                    "EX",
                    "MI",
                    "SE",
                    "EN",
                    "EX",
                    "MI",
                    "SE",
                    "EN",
                    "MI",
                    "SE",
                    "SE",
                    "SE",
                    "MI",
                    "SE",
                    "EN",
                    "EX",
                    "MI",
                    "SE",
                    "MI",
                    "SE",
                    "EN",
                    "MI",
                    "SE",
                    "MI",
                    "SE",
                    "SE",
                    "EN",
                    "EX",
                    "MI",
                    "SE",
                    "MI",
                    "SE",
                    "MI",
                    "SE",
                    "SE",
                    "EN",
                    "EX",
                    "MI",
                    "SE",
                    "MI",
                    "SE",
                    "EN",
                    "EX",
                    "MI",
                    "SE",
                    "SE",
                    "MI",
                    "SE",
                    "SE",
                    "EN",
                    "EX",
                    "MI",
                    "SE",
                    "EN",
                    "EX",
                    "MI",
                    "MI",
                    "SE",
                    "EN",
                    "MI",
                    "SE",
                    "SE",
                    "SE",
                    "EN",
                    "MI",
                    "SE",
                    "MI",
                    "SE",
                    "EN",
                    "SE",
                    "EN",
                    "MI",
                    "SE",
                    "EN",
                    "MI",
                    "SE",
                    "MI",
                    "SE",
                    "MI",
                    "SE",
                    "EX",
                    "MI",
                    "SE",
                    "EN",
                    "MI",
                    "SE",
                    "SE",
                    "EN",
                    "EX",
                    "MI",
                    "SE",
                    "SE",
                    "EN",
                    "EX",
                    "MI",
                    "SE",
                    "MI",
                    "SE",
                    "EN",
                    "EX",
                    "SE",
                    "EX",
                    "EX",
                    "EX",
                    "EX",
                    "EX",
                    "SE",
                    "EX",
                    "EN",
                    "MI",
                    "SE",
                    "EX",
                    "MI",
                    "MI",
                    "SE",
                    "SE",
                    "EN",
                    "MI",
                    "SE",
                    "EN",
                    "EX",
                    "MI",
                    "SE",
                    "EN",
                    "MI",
                    "SE",
                    "EX",
                    "SE",
                    "EX",
                    "SE",
                    "SE",
                    "EN",
                    "SE",
                    "EN",
                    "MI",
                    "MI",
                    "SE",
                    "EN",
                    "MI",
                    "SE",
                    "EN",
                    "EX",
                    "MI",
                    "SE",
                    "EN",
                    "EX",
                    "MI",
                    "SE",
                    "MI",
                    "SE",
                    "SE",
                    "EX",
                    "SE",
                    "EX",
                    "EX",
                    "EN",
                    "EX",
                    "MI",
                    "SE",
                    "EX",
                    "EX",
                    "SE",
                    "SE",
                    "EN",
                    "MI",
                    "SE",
                    "EN",
                    "MI",
                    "MI",
                    "SE",
                    "SE",
                    "SE",
                    "SE",
                    "SE",
                    "MI",
                    "SE",
                    "EX",
                    "MI",
                    "SE",
                    "SE",
                    "MI",
                    "SE",
                    "SE",
                    "SE",
                    "MI",
                    "SE",
                    "EN",
                    "MI",
                    "SE",
                    "EN",
                    "MI",
                    "SE",
                    "SE",
                    "EN",
                    "MI",
                    "SE",
                    "EN",
                    "EX",
                    "MI",
                    "SE",
                    "MI",
                    "SE",
                    "SE",
                    "MI",
                    "SE",
                    "EN",
                    "MI",
                    "SE",
                    "SE",
                    "SE",
                    "MI",
                    "SE",
                    "MI",
                    "SE",
                    "EN",
                    "MI",
                    "EN",
                    "MI",
                    "SE",
                    "EN",
                    "EX",
                    "MI",
                    "SE",
                    "MI",
                    "SE",
                    "EN",
                    "MI",
                    "SE",
                    "SE",
                    "MI",
                    "EN",
                    "EX",
                    "MI",
                    "SE",
                    "SE",
                    "SE",
                    "MI",
                    "SE",
                    "EN",
                    "SE",
                    "MI",
                    "SE",
                    "EN",
                    "EX",
                    "MI",
                    "SE",
                    "MI",
                    "SE",
                    "EX",
                    "MI",
                    "SE",
                    "MI",
                    "EX",
                    "MI",
                    "EN",
                    "EX",
                    "MI",
                    "SE",
                    "MI",
                    "SE",
                    "EN",
                    "MI",
                    "SE",
                    "EX",
                    "MI",
                    "EN",
                    "MI",
                    "SE",
                    "MI",
                    "EN",
                    "MI",
                    "SE",
                    "MI",
                    "SE",
                    "SE",
                    "SE",
                    "EN",
                    "EX",
                    "MI",
                    "SE",
                    "SE",
                    "MI",
                    "SE",
                    "EN",
                    "SE",
                    "SE",
                    "MI",
                    "SE",
                    "SE",
                    "SE",
                    "EX",
                    "MI",
                    "SE",
                    "EX",
                    "SE",
                    "SE",
                    "EX",
                    "SE",
                    "SE",
                    "SE",
                    "MI",
                    "SE",
                    "EN",
                    "MI",
                    "SE",
                    "EN",
                    "MI",
                    "SE",
                    "EN",
                    "MI",
                    "SE",
                    "EN",
                    "EX",
                    "MI",
                    "SE",
                    "EN",
                    "EX",
                    "MI",
                    "SE",
                    "MI",
                    "SE",
                    "EN",
                    "MI",
                    "SE",
                    "MI",
                    "SE",
                    "EN",
                    "EX",
                    "MI",
                    "SE",
                    "MI",
                    "SE",
                    "MI",
                    "EX",
                    "EN",
                    "EN",
                    "EX",
                    "MI",
                    "SE",
                    "EN",
                    "MI",
                    "SE",
                    "EN",
                    "EN",
                    "EX",
                    "MI",
                    "SE",
                    "MI",
                    "MI",
                    "MI",
                    "EN",
                    "EX",
                    "MI",
                    "SE",
                    "EN",
                    "MI",
                    "SE",
                    "EN",
                    "MI",
                    "SE",
                    "MI",
                    "EN",
                    "EX",
                    "MI",
                    "SE",
                    "EN",
                    "MI",
                    "SE",
                    "MI",
                    "SE",
                    "EN",
                    "EX",
                    "MI",
                    "SE",
                    "EN",
                    "MI",
                    "SE",
                    "SE",
                    "EN",
                    "EX",
                    "MI",
                    "SE",
                    "EN",
                    "EX",
                    "MI",
                    "SE",
                    "EN",
                    "MI",
                    "SE",
                    "EX",
                    "MI",
                    "SE",
                    "SE",
                    "SE",
                    "MI",
                    "EN",
                    "MI",
                    "SE",
                    "MI",
                    "SE",
                    "MI",
                    "MI",
                    "MI",
                    "SE",
                    "MI",
                    "SE",
                    "EN",
                    "MI",
                    "SE",
                    "EN",
                    "MI",
                    "SE",
                    "MI",
                    "SE",
                    "EN",
                    "EX",
                    "MI",
                    "SE",
                    "EX",
                    "EN",
                    "EX",
                    "MI",
                    "SE",
                    "EN",
                    "EX",
                    "MI",
                    "SE",
                    "EN",
                    "MI",
                    "SE",
                    "EN",
                    "EX",
                    "MI",
                    "SE",
                    "MI",
                    "EN",
                    "EX",
                    "MI",
                    "SE",
                    "EN",
                    "EX",
                    "MI",
                    "SE",
                    "EN",
                    "EX",
                    "MI",
                    "SE",
                    "EN",
                    "MI",
                    "SE",
                    "SE",
                    "EN",
                    "MI",
                    "SE",
                    "EN",
                    "MI",
                    "SE",
                    "EN",
                    "EX",
                    "MI",
                    "SE",
                    "MI",
                    "SE",
                    "EN",
                    "MI",
                    "SE",
                    "EN",
                    "MI",
                    "SE",
                    "EN",
                    "EX",
                    "MI",
                    "SE",
                    "MI",
                    "SE",
                    "SE",
                    "SE",
                    "SE",
                    "MI",
                    "EX",
                    "SE",
                    "EN",
                    "MI",
                    "SE",
                    "EN",
                    "MI",
                    "SE",
                    "MI",
                    "SE",
                    "MI",
                    "EN",
                    "MI",
                    "SE",
                    "MI",
                    "SE",
                    "EN",
                    "EN",
                    "MI",
                    "SE",
                    "",
                    "",
                    "",
                    ""
                  ],
                  "type": "treemap",
                  "values": [
                    1,
                    1,
                    287,
                    1,
                    2,
                    1,
                    1,
                    3,
                    7,
                    2,
                    22,
                    2,
                    103,
                    95,
                    80,
                    58,
                    683,
                    1192,
                    1,
                    2,
                    4,
                    4,
                    4,
                    1,
                    34,
                    1,
                    2,
                    14,
                    18,
                    9,
                    10,
                    16,
                    4,
                    6,
                    1,
                    3,
                    4,
                    4,
                    3,
                    1,
                    4,
                    11,
                    50,
                    45,
                    10,
                    1,
                    34,
                    93,
                    1,
                    1,
                    4,
                    6,
                    10,
                    16,
                    1,
                    8,
                    2,
                    2,
                    8,
                    2,
                    52,
                    46,
                    4,
                    1,
                    4,
                    6,
                    1,
                    192,
                    13,
                    12,
                    2,
                    6,
                    22,
                    18,
                    3,
                    2,
                    1,
                    1,
                    1,
                    8,
                    22,
                    10,
                    2,
                    1671,
                    78,
                    906,
                    2741,
                    1,
                    52,
                    36,
                    714,
                    1337,
                    1,
                    122,
                    28,
                    12,
                    4,
                    2,
                    16,
                    40,
                    4,
                    18,
                    10,
                    2,
                    5,
                    4,
                    4,
                    1,
                    2,
                    3,
                    7,
                    4,
                    1,
                    1,
                    72,
                    734,
                    1575,
                    2,
                    8,
                    2,
                    835,
                    4,
                    12,
                    12,
                    22,
                    93,
                    28,
                    1922,
                    336,
                    2,
                    2,
                    16,
                    22,
                    2,
                    1,
                    1,
                    1,
                    74,
                    42,
                    331,
                    7,
                    1,
                    9,
                    2,
                    1,
                    14,
                    2,
                    150,
                    140,
                    12,
                    46,
                    62,
                    4,
                    6,
                    2,
                    68,
                    315,
                    1,
                    4,
                    4,
                    4,
                    1,
                    2,
                    5,
                    6,
                    4,
                    6,
                    4,
                    2,
                    20,
                    26,
                    2,
                    4,
                    14,
                    66,
                    4,
                    203,
                    10,
                    66,
                    222,
                    5,
                    11,
                    5,
                    1,
                    2,
                    9,
                    4,
                    1,
                    34,
                    90,
                    80,
                    156,
                    233,
                    2,
                    145,
                    286,
                    2,
                    1,
                    1,
                    38,
                    4,
                    215,
                    158,
                    18,
                    14,
                    350,
                    574,
                    2,
                    2,
                    42,
                    30,
                    10,
                    2,
                    10,
                    20,
                    1,
                    2,
                    2,
                    4,
                    2,
                    1,
                    6,
                    10,
                    2,
                    1,
                    2,
                    1,
                    1,
                    4,
                    12,
                    18,
                    18,
                    25,
                    4,
                    8,
                    6,
                    8,
                    88,
                    104,
                    8,
                    8,
                    2,
                    30,
                    48,
                    2,
                    6,
                    10,
                    12,
                    46,
                    106,
                    3,
                    1,
                    1,
                    114,
                    9,
                    472,
                    768,
                    2,
                    4,
                    1,
                    4,
                    1,
                    14,
                    2,
                    2,
                    1,
                    1,
                    1,
                    2,
                    5,
                    2,
                    2,
                    10,
                    16,
                    10,
                    34,
                    2,
                    5227,
                    110,
                    2600,
                    5842,
                    1,
                    1,
                    2,
                    5,
                    2,
                    8,
                    5,
                    27,
                    8,
                    2,
                    4,
                    6,
                    1,
                    2,
                    2,
                    2,
                    3,
                    130,
                    3,
                    6,
                    201,
                    58,
                    8,
                    50,
                    30,
                    2,
                    12,
                    16,
                    55,
                    2133,
                    4,
                    2,
                    16,
                    12,
                    1,
                    1,
                    1,
                    4,
                    2,
                    90,
                    64,
                    655,
                    577,
                    5242,
                    9878,
                    1,
                    12,
                    128,
                    50,
                    172,
                    72,
                    6,
                    44,
                    72,
                    2,
                    2,
                    4,
                    2,
                    4,
                    20,
                    4,
                    122,
                    2,
                    51,
                    16,
                    6,
                    4,
                    52,
                    34,
                    34,
                    74,
                    8,
                    4,
                    2,
                    4,
                    6,
                    10,
                    4,
                    8,
                    48,
                    34,
                    6,
                    12,
                    58,
                    11,
                    8,
                    10,
                    10,
                    4,
                    6,
                    4,
                    6,
                    10,
                    306,
                    10,
                    34,
                    22,
                    56,
                    168,
                    56,
                    130,
                    26,
                    2,
                    2,
                    2,
                    12,
                    2,
                    2,
                    4,
                    60,
                    8,
                    2,
                    2,
                    16,
                    2,
                    186,
                    67,
                    2,
                    20,
                    22,
                    658,
                    373,
                    2,
                    70,
                    138,
                    2,
                    22,
                    22,
                    10,
                    54,
                    42,
                    32,
                    2,
                    16,
                    4,
                    2,
                    38,
                    34,
                    12,
                    2,
                    26,
                    12,
                    4,
                    38,
                    16,
                    4,
                    2,
                    2,
                    8,
                    12,
                    32,
                    2,
                    4,
                    2,
                    8,
                    156,
                    168,
                    16,
                    86,
                    76,
                    87,
                    4,
                    18,
                    60,
                    1,
                    36,
                    32,
                    2,
                    60,
                    12,
                    4,
                    3,
                    2,
                    14,
                    8,
                    6,
                    2,
                    36,
                    8,
                    24,
                    4,
                    2,
                    1,
                    829,
                    285,
                    5786,
                    11851,
                    1,
                    1,
                    1,
                    2,
                    2,
                    149,
                    4,
                    628,
                    203,
                    2,
                    4,
                    2,
                    2,
                    66,
                    58,
                    24,
                    2,
                    4,
                    50,
                    14,
                    2,
                    9,
                    14,
                    2,
                    2,
                    6,
                    22,
                    6,
                    2,
                    46,
                    46,
                    4,
                    4,
                    4,
                    40,
                    30,
                    2,
                    6,
                    16,
                    6,
                    2,
                    18,
                    20,
                    2,
                    2,
                    26,
                    12,
                    14,
                    2,
                    4,
                    2,
                    70,
                    144,
                    2,
                    4,
                    6,
                    1,
                    22,
                    2,
                    208,
                    331,
                    4,
                    66,
                    26,
                    424,
                    524,
                    2,
                    12,
                    8,
                    616,
                    168,
                    4,
                    2,
                    6,
                    1,
                    32,
                    6,
                    28,
                    2,
                    28,
                    26,
                    1,
                    6,
                    2,
                    22,
                    2,
                    4,
                    26,
                    20,
                    550,
                    382,
                    3376,
                    6696,
                    12,
                    580,
                    310,
                    58,
                    14,
                    84,
                    2,
                    2,
                    1,
                    2,
                    2,
                    2,
                    12,
                    4,
                    1,
                    2,
                    10,
                    10,
                    2,
                    58,
                    76,
                    8,
                    12,
                    60,
                    148,
                    2,
                    22,
                    12,
                    60,
                    2,
                    8,
                    2,
                    4,
                    309,
                    5,
                    18,
                    19,
                    4,
                    1,
                    16,
                    68,
                    40,
                    46,
                    2,
                    2,
                    4,
                    16,
                    1,
                    1,
                    54,
                    8,
                    5,
                    1,
                    1,
                    1,
                    5,
                    2,
                    2,
                    9,
                    106,
                    5,
                    6,
                    12,
                    2,
                    8,
                    38,
                    4,
                    49,
                    144,
                    32,
                    9,
                    27,
                    20,
                    416,
                    76,
                    1991,
                    6404,
                    10,
                    31,
                    12,
                    4,
                    10,
                    2,
                    12,
                    2,
                    10,
                    2,
                    6,
                    10,
                    6,
                    8,
                    3,
                    2,
                    6,
                    64,
                    629,
                    19,
                    4,
                    165,
                    349,
                    4,
                    11,
                    2,
                    13,
                    9,
                    2,
                    2,
                    62,
                    132,
                    4100,
                    3517,
                    2,
                    8,
                    2,
                    2,
                    1,
                    1,
                    2,
                    6,
                    2,
                    8,
                    2,
                    8,
                    2,
                    202,
                    8,
                    5,
                    10,
                    1,
                    1,
                    1,
                    20,
                    42,
                    172,
                    326,
                    2,
                    6,
                    10,
                    66,
                    12,
                    2,
                    4,
                    10,
                    45,
                    8,
                    2,
                    14,
                    12,
                    14,
                    10,
                    8,
                    2,
                    2,
                    10,
                    2,
                    87,
                    52,
                    10,
                    6,
                    4,
                    12,
                    2,
                    40,
                    1,
                    1,
                    1,
                    3,
                    1,
                    1,
                    8,
                    2,
                    52,
                    3,
                    2,
                    32,
                    36,
                    6,
                    8,
                    60,
                    74,
                    44,
                    124,
                    2,
                    3,
                    1,
                    3,
                    18,
                    184,
                    30,
                    30,
                    930,
                    1586,
                    2,
                    6,
                    80,
                    53,
                    16,
                    10,
                    4,
                    46,
                    60,
                    2,
                    4,
                    4,
                    4,
                    56,
                    52,
                    49,
                    44,
                    16,
                    10,
                    1,
                    50,
                    46,
                    49,
                    76,
                    1,
                    28,
                    12,
                    1,
                    10,
                    6,
                    86,
                    20,
                    1,
                    4,
                    2,
                    245,
                    4,
                    51,
                    140,
                    63,
                    52,
                    4,
                    16,
                    226,
                    18,
                    1,
                    107,
                    2,
                    633,
                    995,
                    4,
                    8,
                    2,
                    8,
                    2,
                    365,
                    3,
                    1387,
                    1705,
                    4,
                    14,
                    2,
                    2,
                    14,
                    2,
                    60,
                    86,
                    3,
                    2,
                    4,
                    2,
                    5,
                    42,
                    42,
                    2,
                    4,
                    6,
                    4,
                    1,
                    1,
                    5,
                    8,
                    8,
                    16,
                    14,
                    2,
                    6,
                    16,
                    40,
                    12,
                    28,
                    16,
                    154,
                    332,
                    4,
                    2,
                    68,
                    1,
                    2,
                    50,
                    10,
                    364,
                    374,
                    4,
                    45,
                    4,
                    274,
                    424,
                    626,
                    162,
                    4492,
                    11668,
                    4,
                    6,
                    288,
                    8,
                    4,
                    40,
                    58,
                    8,
                    6,
                    2,
                    16,
                    952,
                    4,
                    14,
                    129,
                    270,
                    1,
                    1,
                    1,
                    3,
                    2,
                    2,
                    46,
                    1,
                    24,
                    2,
                    2,
                    4,
                    44,
                    68,
                    14,
                    6,
                    51,
                    58,
                    2,
                    2,
                    4,
                    40,
                    46,
                    2,
                    6,
                    8,
                    36,
                    2,
                    288,
                    528,
                    2,
                    6,
                    70,
                    2,
                    42,
                    1,
                    4,
                    244,
                    1,
                    8,
                    12,
                    2,
                    6,
                    12,
                    8,
                    20,
                    10,
                    1,
                    14,
                    22,
                    10,
                    2,
                    12,
                    1,
                    2,
                    6,
                    13663,
                    4163,
                    46128,
                    87491
                  ]
                }
              ],
              "layout": {
                "coloraxis": {
                  "colorbar": {
                    "title": {
                      "text": "count"
                    }
                  },
                  "colorscale": [
                    [
                      0,
                      "rgb(247,251,255)"
                    ],
                    [
                      0.125,
                      "rgb(222,235,247)"
                    ],
                    [
                      0.25,
                      "rgb(198,219,239)"
                    ],
                    [
                      0.375,
                      "rgb(158,202,225)"
                    ],
                    [
                      0.5,
                      "rgb(107,174,214)"
                    ],
                    [
                      0.625,
                      "rgb(66,146,198)"
                    ],
                    [
                      0.75,
                      "rgb(33,113,181)"
                    ],
                    [
                      0.875,
                      "rgb(8,81,156)"
                    ],
                    [
                      1,
                      "rgb(8,48,107)"
                    ]
                  ]
                },
                "legend": {
                  "tracegroupgap": 0
                },
                "template": {
                  "data": {
                    "bar": [
                      {
                        "error_x": {
                          "color": "#2a3f5f"
                        },
                        "error_y": {
                          "color": "#2a3f5f"
                        },
                        "marker": {
                          "line": {
                            "color": "#E5ECF6",
                            "width": 0.5
                          },
                          "pattern": {
                            "fillmode": "overlay",
                            "size": 10,
                            "solidity": 0.2
                          }
                        },
                        "type": "bar"
                      }
                    ],
                    "barpolar": [
                      {
                        "marker": {
                          "line": {
                            "color": "#E5ECF6",
                            "width": 0.5
                          },
                          "pattern": {
                            "fillmode": "overlay",
                            "size": 10,
                            "solidity": 0.2
                          }
                        },
                        "type": "barpolar"
                      }
                    ],
                    "carpet": [
                      {
                        "aaxis": {
                          "endlinecolor": "#2a3f5f",
                          "gridcolor": "white",
                          "linecolor": "white",
                          "minorgridcolor": "white",
                          "startlinecolor": "#2a3f5f"
                        },
                        "baxis": {
                          "endlinecolor": "#2a3f5f",
                          "gridcolor": "white",
                          "linecolor": "white",
                          "minorgridcolor": "white",
                          "startlinecolor": "#2a3f5f"
                        },
                        "type": "carpet"
                      }
                    ],
                    "choropleth": [
                      {
                        "colorbar": {
                          "outlinewidth": 0,
                          "ticks": ""
                        },
                        "type": "choropleth"
                      }
                    ],
                    "contour": [
                      {
                        "colorbar": {
                          "outlinewidth": 0,
                          "ticks": ""
                        },
                        "colorscale": [
                          [
                            0,
                            "#0d0887"
                          ],
                          [
                            0.1111111111111111,
                            "#46039f"
                          ],
                          [
                            0.2222222222222222,
                            "#7201a8"
                          ],
                          [
                            0.3333333333333333,
                            "#9c179e"
                          ],
                          [
                            0.4444444444444444,
                            "#bd3786"
                          ],
                          [
                            0.5555555555555556,
                            "#d8576b"
                          ],
                          [
                            0.6666666666666666,
                            "#ed7953"
                          ],
                          [
                            0.7777777777777778,
                            "#fb9f3a"
                          ],
                          [
                            0.8888888888888888,
                            "#fdca26"
                          ],
                          [
                            1,
                            "#f0f921"
                          ]
                        ],
                        "type": "contour"
                      }
                    ],
                    "contourcarpet": [
                      {
                        "colorbar": {
                          "outlinewidth": 0,
                          "ticks": ""
                        },
                        "type": "contourcarpet"
                      }
                    ],
                    "heatmap": [
                      {
                        "colorbar": {
                          "outlinewidth": 0,
                          "ticks": ""
                        },
                        "colorscale": [
                          [
                            0,
                            "#0d0887"
                          ],
                          [
                            0.1111111111111111,
                            "#46039f"
                          ],
                          [
                            0.2222222222222222,
                            "#7201a8"
                          ],
                          [
                            0.3333333333333333,
                            "#9c179e"
                          ],
                          [
                            0.4444444444444444,
                            "#bd3786"
                          ],
                          [
                            0.5555555555555556,
                            "#d8576b"
                          ],
                          [
                            0.6666666666666666,
                            "#ed7953"
                          ],
                          [
                            0.7777777777777778,
                            "#fb9f3a"
                          ],
                          [
                            0.8888888888888888,
                            "#fdca26"
                          ],
                          [
                            1,
                            "#f0f921"
                          ]
                        ],
                        "type": "heatmap"
                      }
                    ],
                    "heatmapgl": [
                      {
                        "colorbar": {
                          "outlinewidth": 0,
                          "ticks": ""
                        },
                        "colorscale": [
                          [
                            0,
                            "#0d0887"
                          ],
                          [
                            0.1111111111111111,
                            "#46039f"
                          ],
                          [
                            0.2222222222222222,
                            "#7201a8"
                          ],
                          [
                            0.3333333333333333,
                            "#9c179e"
                          ],
                          [
                            0.4444444444444444,
                            "#bd3786"
                          ],
                          [
                            0.5555555555555556,
                            "#d8576b"
                          ],
                          [
                            0.6666666666666666,
                            "#ed7953"
                          ],
                          [
                            0.7777777777777778,
                            "#fb9f3a"
                          ],
                          [
                            0.8888888888888888,
                            "#fdca26"
                          ],
                          [
                            1,
                            "#f0f921"
                          ]
                        ],
                        "type": "heatmapgl"
                      }
                    ],
                    "histogram": [
                      {
                        "marker": {
                          "pattern": {
                            "fillmode": "overlay",
                            "size": 10,
                            "solidity": 0.2
                          }
                        },
                        "type": "histogram"
                      }
                    ],
                    "histogram2d": [
                      {
                        "colorbar": {
                          "outlinewidth": 0,
                          "ticks": ""
                        },
                        "colorscale": [
                          [
                            0,
                            "#0d0887"
                          ],
                          [
                            0.1111111111111111,
                            "#46039f"
                          ],
                          [
                            0.2222222222222222,
                            "#7201a8"
                          ],
                          [
                            0.3333333333333333,
                            "#9c179e"
                          ],
                          [
                            0.4444444444444444,
                            "#bd3786"
                          ],
                          [
                            0.5555555555555556,
                            "#d8576b"
                          ],
                          [
                            0.6666666666666666,
                            "#ed7953"
                          ],
                          [
                            0.7777777777777778,
                            "#fb9f3a"
                          ],
                          [
                            0.8888888888888888,
                            "#fdca26"
                          ],
                          [
                            1,
                            "#f0f921"
                          ]
                        ],
                        "type": "histogram2d"
                      }
                    ],
                    "histogram2dcontour": [
                      {
                        "colorbar": {
                          "outlinewidth": 0,
                          "ticks": ""
                        },
                        "colorscale": [
                          [
                            0,
                            "#0d0887"
                          ],
                          [
                            0.1111111111111111,
                            "#46039f"
                          ],
                          [
                            0.2222222222222222,
                            "#7201a8"
                          ],
                          [
                            0.3333333333333333,
                            "#9c179e"
                          ],
                          [
                            0.4444444444444444,
                            "#bd3786"
                          ],
                          [
                            0.5555555555555556,
                            "#d8576b"
                          ],
                          [
                            0.6666666666666666,
                            "#ed7953"
                          ],
                          [
                            0.7777777777777778,
                            "#fb9f3a"
                          ],
                          [
                            0.8888888888888888,
                            "#fdca26"
                          ],
                          [
                            1,
                            "#f0f921"
                          ]
                        ],
                        "type": "histogram2dcontour"
                      }
                    ],
                    "mesh3d": [
                      {
                        "colorbar": {
                          "outlinewidth": 0,
                          "ticks": ""
                        },
                        "type": "mesh3d"
                      }
                    ],
                    "parcoords": [
                      {
                        "line": {
                          "colorbar": {
                            "outlinewidth": 0,
                            "ticks": ""
                          }
                        },
                        "type": "parcoords"
                      }
                    ],
                    "pie": [
                      {
                        "automargin": true,
                        "type": "pie"
                      }
                    ],
                    "scatter": [
                      {
                        "fillpattern": {
                          "fillmode": "overlay",
                          "size": 10,
                          "solidity": 0.2
                        },
                        "type": "scatter"
                      }
                    ],
                    "scatter3d": [
                      {
                        "line": {
                          "colorbar": {
                            "outlinewidth": 0,
                            "ticks": ""
                          }
                        },
                        "marker": {
                          "colorbar": {
                            "outlinewidth": 0,
                            "ticks": ""
                          }
                        },
                        "type": "scatter3d"
                      }
                    ],
                    "scattercarpet": [
                      {
                        "marker": {
                          "colorbar": {
                            "outlinewidth": 0,
                            "ticks": ""
                          }
                        },
                        "type": "scattercarpet"
                      }
                    ],
                    "scattergeo": [
                      {
                        "marker": {
                          "colorbar": {
                            "outlinewidth": 0,
                            "ticks": ""
                          }
                        },
                        "type": "scattergeo"
                      }
                    ],
                    "scattergl": [
                      {
                        "marker": {
                          "colorbar": {
                            "outlinewidth": 0,
                            "ticks": ""
                          }
                        },
                        "type": "scattergl"
                      }
                    ],
                    "scattermapbox": [
                      {
                        "marker": {
                          "colorbar": {
                            "outlinewidth": 0,
                            "ticks": ""
                          }
                        },
                        "type": "scattermapbox"
                      }
                    ],
                    "scatterpolar": [
                      {
                        "marker": {
                          "colorbar": {
                            "outlinewidth": 0,
                            "ticks": ""
                          }
                        },
                        "type": "scatterpolar"
                      }
                    ],
                    "scatterpolargl": [
                      {
                        "marker": {
                          "colorbar": {
                            "outlinewidth": 0,
                            "ticks": ""
                          }
                        },
                        "type": "scatterpolargl"
                      }
                    ],
                    "scatterternary": [
                      {
                        "marker": {
                          "colorbar": {
                            "outlinewidth": 0,
                            "ticks": ""
                          }
                        },
                        "type": "scatterternary"
                      }
                    ],
                    "surface": [
                      {
                        "colorbar": {
                          "outlinewidth": 0,
                          "ticks": ""
                        },
                        "colorscale": [
                          [
                            0,
                            "#0d0887"
                          ],
                          [
                            0.1111111111111111,
                            "#46039f"
                          ],
                          [
                            0.2222222222222222,
                            "#7201a8"
                          ],
                          [
                            0.3333333333333333,
                            "#9c179e"
                          ],
                          [
                            0.4444444444444444,
                            "#bd3786"
                          ],
                          [
                            0.5555555555555556,
                            "#d8576b"
                          ],
                          [
                            0.6666666666666666,
                            "#ed7953"
                          ],
                          [
                            0.7777777777777778,
                            "#fb9f3a"
                          ],
                          [
                            0.8888888888888888,
                            "#fdca26"
                          ],
                          [
                            1,
                            "#f0f921"
                          ]
                        ],
                        "type": "surface"
                      }
                    ],
                    "table": [
                      {
                        "cells": {
                          "fill": {
                            "color": "#EBF0F8"
                          },
                          "line": {
                            "color": "white"
                          }
                        },
                        "header": {
                          "fill": {
                            "color": "#C8D4E3"
                          },
                          "line": {
                            "color": "white"
                          }
                        },
                        "type": "table"
                      }
                    ]
                  },
                  "layout": {
                    "annotationdefaults": {
                      "arrowcolor": "#2a3f5f",
                      "arrowhead": 0,
                      "arrowwidth": 1
                    },
                    "autotypenumbers": "strict",
                    "coloraxis": {
                      "colorbar": {
                        "outlinewidth": 0,
                        "ticks": ""
                      }
                    },
                    "colorscale": {
                      "diverging": [
                        [
                          0,
                          "#8e0152"
                        ],
                        [
                          0.1,
                          "#c51b7d"
                        ],
                        [
                          0.2,
                          "#de77ae"
                        ],
                        [
                          0.3,
                          "#f1b6da"
                        ],
                        [
                          0.4,
                          "#fde0ef"
                        ],
                        [
                          0.5,
                          "#f7f7f7"
                        ],
                        [
                          0.6,
                          "#e6f5d0"
                        ],
                        [
                          0.7,
                          "#b8e186"
                        ],
                        [
                          0.8,
                          "#7fbc41"
                        ],
                        [
                          0.9,
                          "#4d9221"
                        ],
                        [
                          1,
                          "#276419"
                        ]
                      ],
                      "sequential": [
                        [
                          0,
                          "#0d0887"
                        ],
                        [
                          0.1111111111111111,
                          "#46039f"
                        ],
                        [
                          0.2222222222222222,
                          "#7201a8"
                        ],
                        [
                          0.3333333333333333,
                          "#9c179e"
                        ],
                        [
                          0.4444444444444444,
                          "#bd3786"
                        ],
                        [
                          0.5555555555555556,
                          "#d8576b"
                        ],
                        [
                          0.6666666666666666,
                          "#ed7953"
                        ],
                        [
                          0.7777777777777778,
                          "#fb9f3a"
                        ],
                        [
                          0.8888888888888888,
                          "#fdca26"
                        ],
                        [
                          1,
                          "#f0f921"
                        ]
                      ],
                      "sequentialminus": [
                        [
                          0,
                          "#0d0887"
                        ],
                        [
                          0.1111111111111111,
                          "#46039f"
                        ],
                        [
                          0.2222222222222222,
                          "#7201a8"
                        ],
                        [
                          0.3333333333333333,
                          "#9c179e"
                        ],
                        [
                          0.4444444444444444,
                          "#bd3786"
                        ],
                        [
                          0.5555555555555556,
                          "#d8576b"
                        ],
                        [
                          0.6666666666666666,
                          "#ed7953"
                        ],
                        [
                          0.7777777777777778,
                          "#fb9f3a"
                        ],
                        [
                          0.8888888888888888,
                          "#fdca26"
                        ],
                        [
                          1,
                          "#f0f921"
                        ]
                      ]
                    },
                    "colorway": [
                      "#636efa",
                      "#EF553B",
                      "#00cc96",
                      "#ab63fa",
                      "#FFA15A",
                      "#19d3f3",
                      "#FF6692",
                      "#B6E880",
                      "#FF97FF",
                      "#FECB52"
                    ],
                    "font": {
                      "color": "#2a3f5f"
                    },
                    "geo": {
                      "bgcolor": "white",
                      "lakecolor": "white",
                      "landcolor": "#E5ECF6",
                      "showlakes": true,
                      "showland": true,
                      "subunitcolor": "white"
                    },
                    "hoverlabel": {
                      "align": "left"
                    },
                    "hovermode": "closest",
                    "mapbox": {
                      "style": "light"
                    },
                    "paper_bgcolor": "white",
                    "plot_bgcolor": "#E5ECF6",
                    "polar": {
                      "angularaxis": {
                        "gridcolor": "white",
                        "linecolor": "white",
                        "ticks": ""
                      },
                      "bgcolor": "#E5ECF6",
                      "radialaxis": {
                        "gridcolor": "white",
                        "linecolor": "white",
                        "ticks": ""
                      }
                    },
                    "scene": {
                      "xaxis": {
                        "backgroundcolor": "#E5ECF6",
                        "gridcolor": "white",
                        "gridwidth": 2,
                        "linecolor": "white",
                        "showbackground": true,
                        "ticks": "",
                        "zerolinecolor": "white"
                      },
                      "yaxis": {
                        "backgroundcolor": "#E5ECF6",
                        "gridcolor": "white",
                        "gridwidth": 2,
                        "linecolor": "white",
                        "showbackground": true,
                        "ticks": "",
                        "zerolinecolor": "white"
                      },
                      "zaxis": {
                        "backgroundcolor": "#E5ECF6",
                        "gridcolor": "white",
                        "gridwidth": 2,
                        "linecolor": "white",
                        "showbackground": true,
                        "ticks": "",
                        "zerolinecolor": "white"
                      }
                    },
                    "shapedefaults": {
                      "line": {
                        "color": "#2a3f5f"
                      }
                    },
                    "ternary": {
                      "aaxis": {
                        "gridcolor": "white",
                        "linecolor": "white",
                        "ticks": ""
                      },
                      "baxis": {
                        "gridcolor": "white",
                        "linecolor": "white",
                        "ticks": ""
                      },
                      "bgcolor": "#E5ECF6",
                      "caxis": {
                        "gridcolor": "white",
                        "linecolor": "white",
                        "ticks": ""
                      }
                    },
                    "title": {
                      "x": 0.05
                    },
                    "xaxis": {
                      "automargin": true,
                      "gridcolor": "white",
                      "linecolor": "white",
                      "ticks": "",
                      "title": {
                        "standoff": 15
                      },
                      "zerolinecolor": "white",
                      "zerolinewidth": 2
                    },
                    "yaxis": {
                      "automargin": true,
                      "gridcolor": "white",
                      "linecolor": "white",
                      "ticks": "",
                      "title": {
                        "standoff": 15
                      },
                      "zerolinecolor": "white",
                      "zerolinewidth": 2
                    }
                  }
                },
                "title": {
                  "text": "Treemap of Job Titles by Experience Level"
                }
              }
            }
          },
          "metadata": {},
          "output_type": "display_data"
        }
      ],
      "source": [
        "treemap_data = df.groupby(['experience_level', 'job_title']).size().reset_index(name='count')\n",
        "fig = px.treemap(treemap_data, path=['experience_level', 'job_title'], values='count',\n",
        "                  title='Treemap of Job Titles by Experience Level',\n",
        "                  color='count', color_continuous_scale='Blues')\n",
        "fig.show()"
      ]
    },
    {
      "cell_type": "markdown",
      "metadata": {},
      "source": [
        "The treemap above visualizes the distribution of job titles across different experience levels in the dataset. Each rectangle represents a job title, grouped under its corresponding experience level. The size of each rectangle is proportional to the number of occurrences of that job title within the experience level. This visualization helps to quickly identify which job roles are most common for each experience level and compare the relative prevalence of different roles within and across experience categories."
      ]
    },
    {
      "cell_type": "markdown",
      "metadata": {},
      "source": [
        " Sunburst chart of job titles by experience level and job title with Plotly"
      ]
    },
    {
      "cell_type": "code",
      "execution_count": 27,
      "metadata": {},
      "outputs": [
        {
          "data": {
            "application/vnd.plotly.v1+json": {
              "config": {
                "plotlyServerURL": "https://plot.ly"
              },
              "data": [
                {
                  "branchvalues": "total",
                  "customdata": [
                    [
                      1
                    ],
                    [
                      1
                    ],
                    [
                      287
                    ],
                    [
                      1
                    ],
                    [
                      2
                    ],
                    [
                      1
                    ],
                    [
                      1
                    ],
                    [
                      3
                    ],
                    [
                      7
                    ],
                    [
                      2
                    ],
                    [
                      22
                    ],
                    [
                      2
                    ],
                    [
                      103
                    ],
                    [
                      95
                    ],
                    [
                      80
                    ],
                    [
                      58
                    ],
                    [
                      683
                    ],
                    [
                      1192
                    ],
                    [
                      1
                    ],
                    [
                      2
                    ],
                    [
                      4
                    ],
                    [
                      4
                    ],
                    [
                      4
                    ],
                    [
                      1
                    ],
                    [
                      34
                    ],
                    [
                      1
                    ],
                    [
                      2
                    ],
                    [
                      14
                    ],
                    [
                      18
                    ],
                    [
                      9
                    ],
                    [
                      10
                    ],
                    [
                      16
                    ],
                    [
                      4
                    ],
                    [
                      6
                    ],
                    [
                      1
                    ],
                    [
                      3
                    ],
                    [
                      4
                    ],
                    [
                      4
                    ],
                    [
                      3
                    ],
                    [
                      1
                    ],
                    [
                      4
                    ],
                    [
                      11
                    ],
                    [
                      50
                    ],
                    [
                      45
                    ],
                    [
                      10
                    ],
                    [
                      1
                    ],
                    [
                      34
                    ],
                    [
                      93
                    ],
                    [
                      1
                    ],
                    [
                      1
                    ],
                    [
                      4
                    ],
                    [
                      6
                    ],
                    [
                      10
                    ],
                    [
                      16
                    ],
                    [
                      1
                    ],
                    [
                      8
                    ],
                    [
                      2
                    ],
                    [
                      2
                    ],
                    [
                      8
                    ],
                    [
                      2
                    ],
                    [
                      52
                    ],
                    [
                      46
                    ],
                    [
                      4
                    ],
                    [
                      1
                    ],
                    [
                      4
                    ],
                    [
                      6
                    ],
                    [
                      1
                    ],
                    [
                      192
                    ],
                    [
                      13
                    ],
                    [
                      12
                    ],
                    [
                      2
                    ],
                    [
                      6
                    ],
                    [
                      22
                    ],
                    [
                      18
                    ],
                    [
                      3
                    ],
                    [
                      2
                    ],
                    [
                      1
                    ],
                    [
                      1
                    ],
                    [
                      1
                    ],
                    [
                      8
                    ],
                    [
                      22
                    ],
                    [
                      10
                    ],
                    [
                      2
                    ],
                    [
                      1671
                    ],
                    [
                      78
                    ],
                    [
                      906
                    ],
                    [
                      2741
                    ],
                    [
                      1
                    ],
                    [
                      52
                    ],
                    [
                      36
                    ],
                    [
                      714
                    ],
                    [
                      1337
                    ],
                    [
                      1
                    ],
                    [
                      122
                    ],
                    [
                      28
                    ],
                    [
                      12
                    ],
                    [
                      4
                    ],
                    [
                      2
                    ],
                    [
                      16
                    ],
                    [
                      40
                    ],
                    [
                      4
                    ],
                    [
                      18
                    ],
                    [
                      10
                    ],
                    [
                      2
                    ],
                    [
                      5
                    ],
                    [
                      4
                    ],
                    [
                      4
                    ],
                    [
                      1
                    ],
                    [
                      2
                    ],
                    [
                      3
                    ],
                    [
                      7
                    ],
                    [
                      4
                    ],
                    [
                      1
                    ],
                    [
                      1
                    ],
                    [
                      72
                    ],
                    [
                      734
                    ],
                    [
                      1575
                    ],
                    [
                      2
                    ],
                    [
                      8
                    ],
                    [
                      2
                    ],
                    [
                      835
                    ],
                    [
                      4
                    ],
                    [
                      12
                    ],
                    [
                      12
                    ],
                    [
                      22
                    ],
                    [
                      93
                    ],
                    [
                      28
                    ],
                    [
                      1922
                    ],
                    [
                      336
                    ],
                    [
                      2
                    ],
                    [
                      2
                    ],
                    [
                      16
                    ],
                    [
                      22
                    ],
                    [
                      2
                    ],
                    [
                      1
                    ],
                    [
                      1
                    ],
                    [
                      1
                    ],
                    [
                      74
                    ],
                    [
                      42
                    ],
                    [
                      331
                    ],
                    [
                      7
                    ],
                    [
                      1
                    ],
                    [
                      9
                    ],
                    [
                      2
                    ],
                    [
                      1
                    ],
                    [
                      14
                    ],
                    [
                      2
                    ],
                    [
                      150
                    ],
                    [
                      140
                    ],
                    [
                      12
                    ],
                    [
                      46
                    ],
                    [
                      62
                    ],
                    [
                      4
                    ],
                    [
                      6
                    ],
                    [
                      2
                    ],
                    [
                      68
                    ],
                    [
                      315
                    ],
                    [
                      1
                    ],
                    [
                      4
                    ],
                    [
                      4
                    ],
                    [
                      4
                    ],
                    [
                      1
                    ],
                    [
                      2
                    ],
                    [
                      5
                    ],
                    [
                      6
                    ],
                    [
                      4
                    ],
                    [
                      6
                    ],
                    [
                      4
                    ],
                    [
                      2
                    ],
                    [
                      20
                    ],
                    [
                      26
                    ],
                    [
                      2
                    ],
                    [
                      4
                    ],
                    [
                      14
                    ],
                    [
                      66
                    ],
                    [
                      4
                    ],
                    [
                      203
                    ],
                    [
                      10
                    ],
                    [
                      66
                    ],
                    [
                      222
                    ],
                    [
                      5
                    ],
                    [
                      11
                    ],
                    [
                      5
                    ],
                    [
                      1
                    ],
                    [
                      2
                    ],
                    [
                      9
                    ],
                    [
                      4
                    ],
                    [
                      1
                    ],
                    [
                      34
                    ],
                    [
                      90
                    ],
                    [
                      80
                    ],
                    [
                      156
                    ],
                    [
                      233
                    ],
                    [
                      2
                    ],
                    [
                      145
                    ],
                    [
                      286
                    ],
                    [
                      2
                    ],
                    [
                      1
                    ],
                    [
                      1
                    ],
                    [
                      38
                    ],
                    [
                      4
                    ],
                    [
                      215
                    ],
                    [
                      158
                    ],
                    [
                      18
                    ],
                    [
                      14
                    ],
                    [
                      350
                    ],
                    [
                      574
                    ],
                    [
                      2
                    ],
                    [
                      2
                    ],
                    [
                      42
                    ],
                    [
                      30
                    ],
                    [
                      10
                    ],
                    [
                      2
                    ],
                    [
                      10
                    ],
                    [
                      20
                    ],
                    [
                      1
                    ],
                    [
                      2
                    ],
                    [
                      2
                    ],
                    [
                      4
                    ],
                    [
                      2
                    ],
                    [
                      1
                    ],
                    [
                      6
                    ],
                    [
                      10
                    ],
                    [
                      2
                    ],
                    [
                      1
                    ],
                    [
                      2
                    ],
                    [
                      1
                    ],
                    [
                      1
                    ],
                    [
                      4
                    ],
                    [
                      12
                    ],
                    [
                      18
                    ],
                    [
                      18
                    ],
                    [
                      25
                    ],
                    [
                      4
                    ],
                    [
                      8
                    ],
                    [
                      6
                    ],
                    [
                      8
                    ],
                    [
                      88
                    ],
                    [
                      104
                    ],
                    [
                      8
                    ],
                    [
                      8
                    ],
                    [
                      2
                    ],
                    [
                      30
                    ],
                    [
                      48
                    ],
                    [
                      2
                    ],
                    [
                      6
                    ],
                    [
                      10
                    ],
                    [
                      12
                    ],
                    [
                      46
                    ],
                    [
                      106
                    ],
                    [
                      3
                    ],
                    [
                      1
                    ],
                    [
                      1
                    ],
                    [
                      114
                    ],
                    [
                      9
                    ],
                    [
                      472
                    ],
                    [
                      768
                    ],
                    [
                      2
                    ],
                    [
                      4
                    ],
                    [
                      1
                    ],
                    [
                      4
                    ],
                    [
                      1
                    ],
                    [
                      14
                    ],
                    [
                      2
                    ],
                    [
                      2
                    ],
                    [
                      1
                    ],
                    [
                      1
                    ],
                    [
                      1
                    ],
                    [
                      2
                    ],
                    [
                      5
                    ],
                    [
                      2
                    ],
                    [
                      2
                    ],
                    [
                      10
                    ],
                    [
                      16
                    ],
                    [
                      10
                    ],
                    [
                      34
                    ],
                    [
                      2
                    ],
                    [
                      5227
                    ],
                    [
                      110
                    ],
                    [
                      2600
                    ],
                    [
                      5842
                    ],
                    [
                      1
                    ],
                    [
                      1
                    ],
                    [
                      2
                    ],
                    [
                      5
                    ],
                    [
                      2
                    ],
                    [
                      8
                    ],
                    [
                      5
                    ],
                    [
                      27
                    ],
                    [
                      8
                    ],
                    [
                      2
                    ],
                    [
                      4
                    ],
                    [
                      6
                    ],
                    [
                      1
                    ],
                    [
                      2
                    ],
                    [
                      2
                    ],
                    [
                      2
                    ],
                    [
                      3
                    ],
                    [
                      130
                    ],
                    [
                      3
                    ],
                    [
                      6
                    ],
                    [
                      201
                    ],
                    [
                      58
                    ],
                    [
                      8
                    ],
                    [
                      50
                    ],
                    [
                      30
                    ],
                    [
                      2
                    ],
                    [
                      12
                    ],
                    [
                      16
                    ],
                    [
                      55
                    ],
                    [
                      2133
                    ],
                    [
                      4
                    ],
                    [
                      2
                    ],
                    [
                      16
                    ],
                    [
                      12
                    ],
                    [
                      1
                    ],
                    [
                      1
                    ],
                    [
                      1
                    ],
                    [
                      4
                    ],
                    [
                      2
                    ],
                    [
                      90
                    ],
                    [
                      64
                    ],
                    [
                      655
                    ],
                    [
                      577
                    ],
                    [
                      5242
                    ],
                    [
                      9878
                    ],
                    [
                      1
                    ],
                    [
                      12
                    ],
                    [
                      128
                    ],
                    [
                      50
                    ],
                    [
                      172
                    ],
                    [
                      72
                    ],
                    [
                      6
                    ],
                    [
                      44
                    ],
                    [
                      72
                    ],
                    [
                      2
                    ],
                    [
                      2
                    ],
                    [
                      4
                    ],
                    [
                      2
                    ],
                    [
                      4
                    ],
                    [
                      20
                    ],
                    [
                      4
                    ],
                    [
                      122
                    ],
                    [
                      2
                    ],
                    [
                      51
                    ],
                    [
                      16
                    ],
                    [
                      6
                    ],
                    [
                      4
                    ],
                    [
                      52
                    ],
                    [
                      34
                    ],
                    [
                      34
                    ],
                    [
                      74
                    ],
                    [
                      8
                    ],
                    [
                      4
                    ],
                    [
                      2
                    ],
                    [
                      4
                    ],
                    [
                      6
                    ],
                    [
                      10
                    ],
                    [
                      4
                    ],
                    [
                      8
                    ],
                    [
                      48
                    ],
                    [
                      34
                    ],
                    [
                      6
                    ],
                    [
                      12
                    ],
                    [
                      58
                    ],
                    [
                      11
                    ],
                    [
                      8
                    ],
                    [
                      10
                    ],
                    [
                      10
                    ],
                    [
                      4
                    ],
                    [
                      6
                    ],
                    [
                      4
                    ],
                    [
                      6
                    ],
                    [
                      10
                    ],
                    [
                      306
                    ],
                    [
                      10
                    ],
                    [
                      34
                    ],
                    [
                      22
                    ],
                    [
                      56
                    ],
                    [
                      168
                    ],
                    [
                      56
                    ],
                    [
                      130
                    ],
                    [
                      26
                    ],
                    [
                      2
                    ],
                    [
                      2
                    ],
                    [
                      2
                    ],
                    [
                      12
                    ],
                    [
                      2
                    ],
                    [
                      2
                    ],
                    [
                      4
                    ],
                    [
                      60
                    ],
                    [
                      8
                    ],
                    [
                      2
                    ],
                    [
                      2
                    ],
                    [
                      16
                    ],
                    [
                      2
                    ],
                    [
                      186
                    ],
                    [
                      67
                    ],
                    [
                      2
                    ],
                    [
                      20
                    ],
                    [
                      22
                    ],
                    [
                      658
                    ],
                    [
                      373
                    ],
                    [
                      2
                    ],
                    [
                      70
                    ],
                    [
                      138
                    ],
                    [
                      2
                    ],
                    [
                      22
                    ],
                    [
                      22
                    ],
                    [
                      10
                    ],
                    [
                      54
                    ],
                    [
                      42
                    ],
                    [
                      32
                    ],
                    [
                      2
                    ],
                    [
                      16
                    ],
                    [
                      4
                    ],
                    [
                      2
                    ],
                    [
                      38
                    ],
                    [
                      34
                    ],
                    [
                      12
                    ],
                    [
                      2
                    ],
                    [
                      26
                    ],
                    [
                      12
                    ],
                    [
                      4
                    ],
                    [
                      38
                    ],
                    [
                      16
                    ],
                    [
                      4
                    ],
                    [
                      2
                    ],
                    [
                      2
                    ],
                    [
                      8
                    ],
                    [
                      12
                    ],
                    [
                      32
                    ],
                    [
                      2
                    ],
                    [
                      4
                    ],
                    [
                      2
                    ],
                    [
                      8
                    ],
                    [
                      156
                    ],
                    [
                      168
                    ],
                    [
                      16
                    ],
                    [
                      86
                    ],
                    [
                      76
                    ],
                    [
                      87
                    ],
                    [
                      4
                    ],
                    [
                      18
                    ],
                    [
                      60
                    ],
                    [
                      1
                    ],
                    [
                      36
                    ],
                    [
                      32
                    ],
                    [
                      2
                    ],
                    [
                      60
                    ],
                    [
                      12
                    ],
                    [
                      4
                    ],
                    [
                      3
                    ],
                    [
                      2
                    ],
                    [
                      14
                    ],
                    [
                      8
                    ],
                    [
                      6
                    ],
                    [
                      2
                    ],
                    [
                      36
                    ],
                    [
                      8
                    ],
                    [
                      24
                    ],
                    [
                      4
                    ],
                    [
                      2
                    ],
                    [
                      1
                    ],
                    [
                      829
                    ],
                    [
                      285
                    ],
                    [
                      5786
                    ],
                    [
                      11851
                    ],
                    [
                      1
                    ],
                    [
                      1
                    ],
                    [
                      1
                    ],
                    [
                      2
                    ],
                    [
                      2
                    ],
                    [
                      149
                    ],
                    [
                      4
                    ],
                    [
                      628
                    ],
                    [
                      203
                    ],
                    [
                      2
                    ],
                    [
                      4
                    ],
                    [
                      2
                    ],
                    [
                      2
                    ],
                    [
                      66
                    ],
                    [
                      58
                    ],
                    [
                      24
                    ],
                    [
                      2
                    ],
                    [
                      4
                    ],
                    [
                      50
                    ],
                    [
                      14
                    ],
                    [
                      2
                    ],
                    [
                      9
                    ],
                    [
                      14
                    ],
                    [
                      2
                    ],
                    [
                      2
                    ],
                    [
                      6
                    ],
                    [
                      22
                    ],
                    [
                      6
                    ],
                    [
                      2
                    ],
                    [
                      46
                    ],
                    [
                      46
                    ],
                    [
                      4
                    ],
                    [
                      4
                    ],
                    [
                      4
                    ],
                    [
                      40
                    ],
                    [
                      30
                    ],
                    [
                      2
                    ],
                    [
                      6
                    ],
                    [
                      16
                    ],
                    [
                      6
                    ],
                    [
                      2
                    ],
                    [
                      18
                    ],
                    [
                      20
                    ],
                    [
                      2
                    ],
                    [
                      2
                    ],
                    [
                      26
                    ],
                    [
                      12
                    ],
                    [
                      14
                    ],
                    [
                      2
                    ],
                    [
                      4
                    ],
                    [
                      2
                    ],
                    [
                      70
                    ],
                    [
                      144
                    ],
                    [
                      2
                    ],
                    [
                      4
                    ],
                    [
                      6
                    ],
                    [
                      1
                    ],
                    [
                      22
                    ],
                    [
                      2
                    ],
                    [
                      208
                    ],
                    [
                      331
                    ],
                    [
                      4
                    ],
                    [
                      66
                    ],
                    [
                      26
                    ],
                    [
                      424
                    ],
                    [
                      524
                    ],
                    [
                      2
                    ],
                    [
                      12
                    ],
                    [
                      8
                    ],
                    [
                      616
                    ],
                    [
                      168
                    ],
                    [
                      4
                    ],
                    [
                      2
                    ],
                    [
                      6
                    ],
                    [
                      1
                    ],
                    [
                      32
                    ],
                    [
                      6
                    ],
                    [
                      28
                    ],
                    [
                      2
                    ],
                    [
                      28
                    ],
                    [
                      26
                    ],
                    [
                      1
                    ],
                    [
                      6
                    ],
                    [
                      2
                    ],
                    [
                      22
                    ],
                    [
                      2
                    ],
                    [
                      4
                    ],
                    [
                      26
                    ],
                    [
                      20
                    ],
                    [
                      550
                    ],
                    [
                      382
                    ],
                    [
                      3376
                    ],
                    [
                      6696
                    ],
                    [
                      12
                    ],
                    [
                      580
                    ],
                    [
                      310
                    ],
                    [
                      58
                    ],
                    [
                      14
                    ],
                    [
                      84
                    ],
                    [
                      2
                    ],
                    [
                      2
                    ],
                    [
                      1
                    ],
                    [
                      2
                    ],
                    [
                      2
                    ],
                    [
                      2
                    ],
                    [
                      12
                    ],
                    [
                      4
                    ],
                    [
                      1
                    ],
                    [
                      2
                    ],
                    [
                      10
                    ],
                    [
                      10
                    ],
                    [
                      2
                    ],
                    [
                      58
                    ],
                    [
                      76
                    ],
                    [
                      8
                    ],
                    [
                      12
                    ],
                    [
                      60
                    ],
                    [
                      148
                    ],
                    [
                      2
                    ],
                    [
                      22
                    ],
                    [
                      12
                    ],
                    [
                      60
                    ],
                    [
                      2
                    ],
                    [
                      8
                    ],
                    [
                      2
                    ],
                    [
                      4
                    ],
                    [
                      309
                    ],
                    [
                      5
                    ],
                    [
                      18
                    ],
                    [
                      19
                    ],
                    [
                      4
                    ],
                    [
                      1
                    ],
                    [
                      16
                    ],
                    [
                      68
                    ],
                    [
                      40
                    ],
                    [
                      46
                    ],
                    [
                      2
                    ],
                    [
                      2
                    ],
                    [
                      4
                    ],
                    [
                      16
                    ],
                    [
                      1
                    ],
                    [
                      1
                    ],
                    [
                      54
                    ],
                    [
                      8
                    ],
                    [
                      5
                    ],
                    [
                      1
                    ],
                    [
                      1
                    ],
                    [
                      1
                    ],
                    [
                      5
                    ],
                    [
                      2
                    ],
                    [
                      2
                    ],
                    [
                      9
                    ],
                    [
                      106
                    ],
                    [
                      5
                    ],
                    [
                      6
                    ],
                    [
                      12
                    ],
                    [
                      2
                    ],
                    [
                      8
                    ],
                    [
                      38
                    ],
                    [
                      4
                    ],
                    [
                      49
                    ],
                    [
                      144
                    ],
                    [
                      32
                    ],
                    [
                      9
                    ],
                    [
                      27
                    ],
                    [
                      20
                    ],
                    [
                      416
                    ],
                    [
                      76
                    ],
                    [
                      1991
                    ],
                    [
                      6404
                    ],
                    [
                      10
                    ],
                    [
                      31
                    ],
                    [
                      12
                    ],
                    [
                      4
                    ],
                    [
                      10
                    ],
                    [
                      2
                    ],
                    [
                      12
                    ],
                    [
                      2
                    ],
                    [
                      10
                    ],
                    [
                      2
                    ],
                    [
                      6
                    ],
                    [
                      10
                    ],
                    [
                      6
                    ],
                    [
                      8
                    ],
                    [
                      3
                    ],
                    [
                      2
                    ],
                    [
                      6
                    ],
                    [
                      64
                    ],
                    [
                      629
                    ],
                    [
                      19
                    ],
                    [
                      4
                    ],
                    [
                      165
                    ],
                    [
                      349
                    ],
                    [
                      4
                    ],
                    [
                      11
                    ],
                    [
                      2
                    ],
                    [
                      13
                    ],
                    [
                      9
                    ],
                    [
                      2
                    ],
                    [
                      2
                    ],
                    [
                      62
                    ],
                    [
                      132
                    ],
                    [
                      4100
                    ],
                    [
                      3517
                    ],
                    [
                      2
                    ],
                    [
                      8
                    ],
                    [
                      2
                    ],
                    [
                      2
                    ],
                    [
                      1
                    ],
                    [
                      1
                    ],
                    [
                      2
                    ],
                    [
                      6
                    ],
                    [
                      2
                    ],
                    [
                      8
                    ],
                    [
                      2
                    ],
                    [
                      8
                    ],
                    [
                      2
                    ],
                    [
                      202
                    ],
                    [
                      8
                    ],
                    [
                      5
                    ],
                    [
                      10
                    ],
                    [
                      1
                    ],
                    [
                      1
                    ],
                    [
                      1
                    ],
                    [
                      20
                    ],
                    [
                      42
                    ],
                    [
                      172
                    ],
                    [
                      326
                    ],
                    [
                      2
                    ],
                    [
                      6
                    ],
                    [
                      10
                    ],
                    [
                      66
                    ],
                    [
                      12
                    ],
                    [
                      2
                    ],
                    [
                      4
                    ],
                    [
                      10
                    ],
                    [
                      45
                    ],
                    [
                      8
                    ],
                    [
                      2
                    ],
                    [
                      14
                    ],
                    [
                      12
                    ],
                    [
                      14
                    ],
                    [
                      10
                    ],
                    [
                      8
                    ],
                    [
                      2
                    ],
                    [
                      2
                    ],
                    [
                      10
                    ],
                    [
                      2
                    ],
                    [
                      87
                    ],
                    [
                      52
                    ],
                    [
                      10
                    ],
                    [
                      6
                    ],
                    [
                      4
                    ],
                    [
                      12
                    ],
                    [
                      2
                    ],
                    [
                      40
                    ],
                    [
                      1
                    ],
                    [
                      1
                    ],
                    [
                      1
                    ],
                    [
                      3
                    ],
                    [
                      1
                    ],
                    [
                      1
                    ],
                    [
                      8
                    ],
                    [
                      2
                    ],
                    [
                      52
                    ],
                    [
                      3
                    ],
                    [
                      2
                    ],
                    [
                      32
                    ],
                    [
                      36
                    ],
                    [
                      6
                    ],
                    [
                      8
                    ],
                    [
                      60
                    ],
                    [
                      74
                    ],
                    [
                      44
                    ],
                    [
                      124
                    ],
                    [
                      2
                    ],
                    [
                      3
                    ],
                    [
                      1
                    ],
                    [
                      3
                    ],
                    [
                      18
                    ],
                    [
                      184
                    ],
                    [
                      30
                    ],
                    [
                      30
                    ],
                    [
                      930
                    ],
                    [
                      1586
                    ],
                    [
                      2
                    ],
                    [
                      6
                    ],
                    [
                      80
                    ],
                    [
                      53
                    ],
                    [
                      16
                    ],
                    [
                      10
                    ],
                    [
                      4
                    ],
                    [
                      46
                    ],
                    [
                      60
                    ],
                    [
                      2
                    ],
                    [
                      4
                    ],
                    [
                      4
                    ],
                    [
                      4
                    ],
                    [
                      56
                    ],
                    [
                      52
                    ],
                    [
                      49
                    ],
                    [
                      44
                    ],
                    [
                      16
                    ],
                    [
                      10
                    ],
                    [
                      1
                    ],
                    [
                      50
                    ],
                    [
                      46
                    ],
                    [
                      49
                    ],
                    [
                      76
                    ],
                    [
                      1
                    ],
                    [
                      28
                    ],
                    [
                      12
                    ],
                    [
                      1
                    ],
                    [
                      10
                    ],
                    [
                      6
                    ],
                    [
                      86
                    ],
                    [
                      20
                    ],
                    [
                      1
                    ],
                    [
                      4
                    ],
                    [
                      2
                    ],
                    [
                      245
                    ],
                    [
                      4
                    ],
                    [
                      51
                    ],
                    [
                      140
                    ],
                    [
                      63
                    ],
                    [
                      52
                    ],
                    [
                      4
                    ],
                    [
                      16
                    ],
                    [
                      226
                    ],
                    [
                      18
                    ],
                    [
                      1
                    ],
                    [
                      107
                    ],
                    [
                      2
                    ],
                    [
                      633
                    ],
                    [
                      995
                    ],
                    [
                      4
                    ],
                    [
                      8
                    ],
                    [
                      2
                    ],
                    [
                      8
                    ],
                    [
                      2
                    ],
                    [
                      365
                    ],
                    [
                      3
                    ],
                    [
                      1387
                    ],
                    [
                      1705
                    ],
                    [
                      4
                    ],
                    [
                      14
                    ],
                    [
                      2
                    ],
                    [
                      2
                    ],
                    [
                      14
                    ],
                    [
                      2
                    ],
                    [
                      60
                    ],
                    [
                      86
                    ],
                    [
                      3
                    ],
                    [
                      2
                    ],
                    [
                      4
                    ],
                    [
                      2
                    ],
                    [
                      5
                    ],
                    [
                      42
                    ],
                    [
                      42
                    ],
                    [
                      2
                    ],
                    [
                      4
                    ],
                    [
                      6
                    ],
                    [
                      4
                    ],
                    [
                      1
                    ],
                    [
                      1
                    ],
                    [
                      5
                    ],
                    [
                      8
                    ],
                    [
                      8
                    ],
                    [
                      16
                    ],
                    [
                      14
                    ],
                    [
                      2
                    ],
                    [
                      6
                    ],
                    [
                      16
                    ],
                    [
                      40
                    ],
                    [
                      12
                    ],
                    [
                      28
                    ],
                    [
                      16
                    ],
                    [
                      154
                    ],
                    [
                      332
                    ],
                    [
                      4
                    ],
                    [
                      2
                    ],
                    [
                      68
                    ],
                    [
                      1
                    ],
                    [
                      2
                    ],
                    [
                      50
                    ],
                    [
                      10
                    ],
                    [
                      364
                    ],
                    [
                      374
                    ],
                    [
                      4
                    ],
                    [
                      45
                    ],
                    [
                      4
                    ],
                    [
                      274
                    ],
                    [
                      424
                    ],
                    [
                      626
                    ],
                    [
                      162
                    ],
                    [
                      4492
                    ],
                    [
                      11668
                    ],
                    [
                      4
                    ],
                    [
                      6
                    ],
                    [
                      288
                    ],
                    [
                      8
                    ],
                    [
                      4
                    ],
                    [
                      40
                    ],
                    [
                      58
                    ],
                    [
                      8
                    ],
                    [
                      6
                    ],
                    [
                      2
                    ],
                    [
                      16
                    ],
                    [
                      952
                    ],
                    [
                      4
                    ],
                    [
                      14
                    ],
                    [
                      129
                    ],
                    [
                      270
                    ],
                    [
                      1
                    ],
                    [
                      1
                    ],
                    [
                      1
                    ],
                    [
                      3
                    ],
                    [
                      2
                    ],
                    [
                      2
                    ],
                    [
                      46
                    ],
                    [
                      1
                    ],
                    [
                      24
                    ],
                    [
                      2
                    ],
                    [
                      2
                    ],
                    [
                      4
                    ],
                    [
                      44
                    ],
                    [
                      68
                    ],
                    [
                      14
                    ],
                    [
                      6
                    ],
                    [
                      51
                    ],
                    [
                      58
                    ],
                    [
                      2
                    ],
                    [
                      2
                    ],
                    [
                      4
                    ],
                    [
                      40
                    ],
                    [
                      46
                    ],
                    [
                      2
                    ],
                    [
                      6
                    ],
                    [
                      8
                    ],
                    [
                      36
                    ],
                    [
                      2
                    ],
                    [
                      288
                    ],
                    [
                      528
                    ],
                    [
                      2
                    ],
                    [
                      6
                    ],
                    [
                      70
                    ],
                    [
                      2
                    ],
                    [
                      42
                    ],
                    [
                      1
                    ],
                    [
                      4
                    ],
                    [
                      244
                    ],
                    [
                      1
                    ],
                    [
                      8
                    ],
                    [
                      12
                    ],
                    [
                      2
                    ],
                    [
                      6
                    ],
                    [
                      12
                    ],
                    [
                      8
                    ],
                    [
                      20
                    ],
                    [
                      10
                    ],
                    [
                      1
                    ],
                    [
                      14
                    ],
                    [
                      22
                    ],
                    [
                      10
                    ],
                    [
                      2
                    ],
                    [
                      12
                    ],
                    [
                      1
                    ],
                    [
                      2
                    ],
                    [
                      6
                    ],
                    [
                      2382.3152309156117
                    ],
                    [
                      287.39586836416044
                    ],
                    [
                      2858.337322233784
                    ],
                    [
                      6134.0663954006695
                    ]
                  ],
                  "domain": {
                    "x": [
                      0,
                      1
                    ],
                    "y": [
                      0,
                      1
                    ]
                  },
                  "hovertemplate": "labels=%{label}<br>count_sum=%{value}<br>parent=%{parent}<br>id=%{id}<br>count=%{color}<extra></extra>",
                  "ids": [
                    "EX/AI Architect",
                    "MI/AI Architect",
                    "SE/AI Architect",
                    "EN/AI Content Writer",
                    "MI/AI Content Writer",
                    "EN/AI Data Engineer",
                    "SE/AI Data Engineer",
                    "EN/AI Data Scientist",
                    "MI/AI Data Scientist",
                    "SE/AI Data Scientist",
                    "EN/AI Developer",
                    "EX/AI Developer",
                    "MI/AI Developer",
                    "SE/AI Developer",
                    "EN/AI Engineer",
                    "EX/AI Engineer",
                    "MI/AI Engineer",
                    "SE/AI Engineer",
                    "SE/AI Engineering Lead",
                    "SE/AI Engineering Manager",
                    "SE/AI Governance Lead",
                    "MI/AI Governance Specialist",
                    "SE/AI Governance Specialist",
                    "MI/AI Lead",
                    "SE/AI Lead",
                    "EN/AI Machine Learning Engineer",
                    "SE/AI Machine Learning Engineer",
                    "SE/AI Product Lead",
                    "MI/AI Product Manager",
                    "SE/AI Product Manager",
                    "MI/AI Product Owner",
                    "SE/AI Product Owner",
                    "MI/AI Product Specialist",
                    "EN/AI Programmer",
                    "MI/AI Programmer",
                    "SE/AI Programmer",
                    "EN/AI Research Engineer",
                    "MI/AI Research Engineer",
                    "EN/AI Research Scientist",
                    "MI/AI Research Scientist",
                    "SE/AI Research Scientist",
                    "EN/AI Researcher",
                    "MI/AI Researcher",
                    "SE/AI Researcher",
                    "EN/AI Scientist",
                    "EX/AI Scientist",
                    "MI/AI Scientist",
                    "SE/AI Scientist",
                    "SE/AI Software Development Engineer",
                    "EN/AI Software Engineer",
                    "MI/AI Software Engineer",
                    "SE/AI Software Engineer",
                    "SE/AI Solution Architect",
                    "EX/AI Solution Director",
                    "SE/AI Solutions Consultant",
                    "SE/AI Solutions Lead",
                    "MI/AI Solutions Specialist",
                    "SE/AI Solutions Specialist",
                    "EN/AI Specialist",
                    "EX/AI Specialist",
                    "MI/AI Specialist",
                    "SE/AI Specialist",
                    "SE/AI Strategist",
                    "EX/AI Tech Lead",
                    "SE/AI Tech Lead",
                    "SE/AIRS Solutions Specialist",
                    "MI/AWS Data Architect",
                    "EX/Account Executive",
                    "SE/Account Executive",
                    "EN/Actuarial Analyst",
                    "SE/Actuarial Analyst",
                    "EX/Actuary",
                    "MI/Actuary",
                    "SE/Actuary",
                    "EN/Admin & Data Analyst",
                    "MI/Admin & Data Analyst",
                    "SE/Admin & Data Analyst",
                    "MI/Advanced Analytics Manager",
                    "SE/Advanced Data Analyst",
                    "EN/Algorithm Developer",
                    "MI/Algorithm Developer",
                    "SE/Algorithm Developer",
                    "EN/Alternance",
                    "EN/Analyst",
                    "EX/Analyst",
                    "MI/Analyst",
                    "SE/Analyst",
                    "MI/Analytics Analyst",
                    "EN/Analytics Engineer",
                    "EX/Analytics Engineer",
                    "MI/Analytics Engineer",
                    "SE/Analytics Engineer",
                    "SE/Analytics Engineering Manager",
                    "SE/Analytics Lead",
                    "MI/Analytics Manager",
                    "SE/Analytics Manager",
                    "EN/Analytics Specialist",
                    "EX/Analytics Specialist",
                    "MI/Analytics Specialist",
                    "SE/Analytics Specialist",
                    "EN/Application Developer",
                    "MI/Application Developer",
                    "SE/Application Developer",
                    "SE/Applied AI ML Lead",
                    "EN/Applied Data Scientist",
                    "MI/Applied Data Scientist",
                    "SE/Applied Data Scientist",
                    "EX/Applied Machine Learning Engineer",
                    "MI/Applied Machine Learning Engineer",
                    "EN/Applied Machine Learning Scientist",
                    "MI/Applied Machine Learning Scientist",
                    "SE/Applied Machine Learning Scientist",
                    "MI/Applied Research Scientist",
                    "SE/Applied Research Scientist",
                    "EN/Applied Scientist",
                    "MI/Applied Scientist",
                    "SE/Applied Scientist",
                    "EN/Apprentice",
                    "EN/Architect",
                    "EX/Architect",
                    "SE/Architect",
                    "EN/Artificial Intelligence Engineer",
                    "EX/Artificial Intelligence Engineer",
                    "MI/Artificial Intelligence Engineer",
                    "SE/Artificial Intelligence Engineer",
                    "EN/Associate",
                    "EX/Associate",
                    "MI/Associate",
                    "SE/Associate",
                    "EN/Automation Engineer",
                    "EX/Automation Engineer",
                    "MI/Automation Engineer",
                    "SE/Automation Engineer",
                    "MI/Autonomous Vehicle Technician",
                    "EN/Azure Data Engineer",
                    "SE/Azure Data Engineer",
                    "MI/BI & Data Analyst",
                    "EN/BI Analyst",
                    "MI/BI Analyst",
                    "SE/BI Analyst",
                    "EN/BI Data Analyst",
                    "EX/BI Data Analyst",
                    "MI/BI Data Analyst",
                    "SE/BI Data Analyst",
                    "EN/BI Data Engineer",
                    "EN/BI Developer",
                    "EX/BI Developer",
                    "MI/BI Developer",
                    "SE/BI Developer",
                    "EN/BI Engineer",
                    "MI/BI Engineer",
                    "SE/BI Engineer",
                    "MI/Backend Developer",
                    "SE/Backend Developer",
                    "EX/Backend Engineer",
                    "MI/Backend Engineer",
                    "SE/Backend Engineer",
                    "MI/Backend Software Engineer",
                    "EN/Bear Robotics",
                    "MI/Bear Robotics",
                    "SE/Bear Robotics",
                    "MI/Big Data Analyst",
                    "SE/Big Data Architect",
                    "MI/Big Data Developer",
                    "SE/Big Data Developer",
                    "EN/Big Data Engineer",
                    "MI/Big Data Engineer",
                    "SE/Big Data Engineer",
                    "EN/Bioinformatician",
                    "MI/Bioinformatician",
                    "SE/Bioinformatician",
                    "EN/Bioinformatics Scientist",
                    "EX/Bioinformatics Scientist",
                    "MI/Bioinformatics Scientist",
                    "SE/Bioinformatics Scientist",
                    "MI/Bioinformatics Specialist",
                    "EN/Business Analyst",
                    "EX/Business Analyst",
                    "MI/Business Analyst",
                    "SE/Business Analyst",
                    "EN/Business Data Analyst",
                    "MI/Business Data Analyst",
                    "SE/Business Data Analyst",
                    "MI/Business Development Manager",
                    "EN/Business Development Representative",
                    "MI/Business Development Representative",
                    "SE/Business Development Representative",
                    "MI/Business Insights Manager",
                    "EN/Business Intelligence",
                    "EX/Business Intelligence",
                    "MI/Business Intelligence",
                    "SE/Business Intelligence",
                    "EN/Business Intelligence Analyst",
                    "EX/Business Intelligence Analyst",
                    "MI/Business Intelligence Analyst",
                    "SE/Business Intelligence Analyst",
                    "SE/Business Intelligence Consultant",
                    "EN/Business Intelligence Data Analyst",
                    "MI/Business Intelligence Data Analyst",
                    "EN/Business Intelligence Developer",
                    "EX/Business Intelligence Developer",
                    "MI/Business Intelligence Developer",
                    "SE/Business Intelligence Developer",
                    "EN/Business Intelligence Engineer",
                    "EX/Business Intelligence Engineer",
                    "MI/Business Intelligence Engineer",
                    "SE/Business Intelligence Engineer",
                    "EN/Business Intelligence Lead",
                    "MI/Business Intelligence Lead",
                    "SE/Business Intelligence Lead",
                    "MI/Business Intelligence Manager",
                    "SE/Business Intelligence Manager",
                    "EN/Business Intelligence Specialist",
                    "MI/Business Intelligence Specialist",
                    "SE/Business Intelligence Specialist",
                    "SE/CRM Data Analyst",
                    "EN/Cdd",
                    "EN/Chatbot Developer",
                    "SE/Chatbot Developer",
                    "MI/Cheminformatics Scientist",
                    "EN/Cientista de Dados",
                    "MI/Clinical Aide",
                    "MI/Clinical Data Operator",
                    "SE/Cloud Architect",
                    "SE/Cloud Data Architect",
                    "EN/Cloud Data Engineer",
                    "MI/Cloud Data Engineer",
                    "SE/Cloud Data Engineer",
                    "EN/Cloud Database Administrator",
                    "MI/Cloud Database Administrator",
                    "SE/Cloud Database Administrator",
                    "MI/Cloud Database Engineer",
                    "SE/Cloud Database Engineer",
                    "MI/Cloud Developer",
                    "SE/Cloud Developer",
                    "EN/Cloud Engineer",
                    "EX/Cloud Engineer",
                    "MI/Cloud Engineer",
                    "SE/Cloud Engineer",
                    "MI/Commercial Counsel",
                    "SE/Commercial Counsel",
                    "EN/Compliance Data Analyst",
                    "MI/Computational Biologist",
                    "SE/Computational Biologist",
                    "EN/Computational Scientist",
                    "MI/Computational Scientist",
                    "SE/Computational Scientist",
                    "EN/Computer Vision Engineer",
                    "MI/Computer Vision Engineer",
                    "SE/Computer Vision Engineer",
                    "EN/Computer Vision Software Engineer",
                    "MI/Computer Vision Software Engineer",
                    "SE/Computer Vision Software Engineer",
                    "EN/Consultant",
                    "EX/Consultant",
                    "MI/Consultant",
                    "SE/Consultant",
                    "SE/Consultant Data Engineer",
                    "MI/Content Writer",
                    "SE/Controls Engineer",
                    "MI/Conversational AI Designer",
                    "MI/Copywriter",
                    "SE/Copywriter",
                    "EN/Creative Technologist",
                    "MI/Creative Technologist",
                    "MI/Customer Success Engineer",
                    "MI/Customer Success Manager",
                    "EN/Data & Analytics Analyst",
                    "MI/Data & Analytics Specialist",
                    "EN/Data Analist",
                    "MI/Data Analist",
                    "SE/Data Analist",
                    "EN/Data Analysis",
                    "EX/Data Analysis",
                    "MI/Data Analysis",
                    "SE/Data Analysis",
                    "MI/Data Analysis Specialist",
                    "EN/Data Analyst",
                    "EX/Data Analyst",
                    "MI/Data Analyst",
                    "SE/Data Analyst",
                    "EN/Data Analyst Lead",
                    "MI/Data Analyst Lead",
                    "EN/Data Analytics Associate",
                    "SE/Data Analytics Associate",
                    "MI/Data Analytics Business Partner",
                    "SE/Data Analytics Business Partner",
                    "EN/Data Analytics Consultant",
                    "MI/Data Analytics Consultant",
                    "SE/Data Analytics Consultant",
                    "EN/Data Analytics Developer",
                    "MI/Data Analytics Developer",
                    "SE/Data Analytics Developer",
                    "EN/Data Analytics Engineer",
                    "MI/Data Analytics Engineer",
                    "SE/Data Analytics Engineer",
                    "EN/Data Analytics Lead",
                    "MI/Data Analytics Lead",
                    "SE/Data Analytics Lead",
                    "EN/Data Analytics Manager",
                    "EX/Data Analytics Manager",
                    "MI/Data Analytics Manager",
                    "SE/Data Analytics Manager",
                    "EN/Data Analytics Specialist",
                    "MI/Data Analytics Specialist",
                    "SE/Data Analytics Specialist",
                    "SE/Data Analytics Team Lead",
                    "EN/Data Architect",
                    "EX/Data Architect",
                    "MI/Data Architect",
                    "SE/Data Architect",
                    "MI/Data Archivist",
                    "EN/Data Consultant",
                    "MI/Data Consultant",
                    "SE/Data Consultant",
                    "EN/Data DevOps Engineer",
                    "MI/Data DevOps Engineer",
                    "SE/Data DevOps Engineer",
                    "EN/Data Developer",
                    "EX/Data Developer",
                    "MI/Data Developer",
                    "SE/Data Developer",
                    "EN/Data Engineer",
                    "EX/Data Engineer",
                    "MI/Data Engineer",
                    "SE/Data Engineer",
                    "SE/Data Engineer 4",
                    "EN/Data Governance",
                    "EX/Data Governance",
                    "MI/Data Governance",
                    "SE/Data Governance",
                    "EN/Data Governance Analyst",
                    "EX/Data Governance Analyst",
                    "MI/Data Governance Analyst",
                    "SE/Data Governance Analyst",
                    "SE/Data Governance Architect",
                    "EN/Data Governance Consultant",
                    "MI/Data Governance Consultant",
                    "EN/Data Governance Engineer",
                    "MI/Data Governance Engineer",
                    "SE/Data Governance Engineer",
                    "MI/Data Governance Lead",
                    "SE/Data Governance Lead",
                    "EX/Data Governance Manager",
                    "MI/Data Governance Manager",
                    "SE/Data Governance Manager",
                    "EN/Data Governance Specialist",
                    "EX/Data Governance Specialist",
                    "MI/Data Governance Specialist",
                    "SE/Data Governance Specialist",
                    "MI/Data Infrastructure Engineer",
                    "SE/Data Infrastructure Engineer",
                    "EN/Data Integration Analyst",
                    "MI/Data Integration Analyst",
                    "SE/Data Integration Analyst",
                    "MI/Data Integration Coordinator",
                    "MI/Data Integration Developer",
                    "SE/Data Integration Developer",
                    "EN/Data Integration Engineer",
                    "EX/Data Integration Engineer",
                    "MI/Data Integration Engineer",
                    "SE/Data Integration Engineer",
                    "SE/Data Integration Lead",
                    "EN/Data Integration Specialist",
                    "MI/Data Integration Specialist",
                    "SE/Data Integration Specialist",
                    "MI/Data Integrator",
                    "SE/Data Integrator",
                    "EN/Data Integrity Analyst",
                    "MI/Data Integrity Analyst",
                    "EN/Data Integrity Specialist",
                    "MI/Data Integrity Specialist",
                    "EX/Data Lead",
                    "MI/Data Lead",
                    "SE/Data Lead",
                    "EN/Data Management",
                    "EX/Data Management",
                    "MI/Data Management",
                    "SE/Data Management",
                    "EN/Data Management Analyst",
                    "MI/Data Management Analyst",
                    "SE/Data Management Analyst",
                    "MI/Data Management Associate",
                    "SE/Data Management Associate",
                    "EN/Data Management Consultant",
                    "MI/Data Management Consultant",
                    "SE/Data Management Consultant",
                    "SE/Data Management Coordinator",
                    "SE/Data Management Expert",
                    "EX/Data Management Lead",
                    "SE/Data Management Lead",
                    "MI/Data Management Manager",
                    "MI/Data Management Officer",
                    "MI/Data Management Professional",
                    "EN/Data Management Specialist",
                    "EX/Data Management Specialist",
                    "MI/Data Management Specialist",
                    "SE/Data Management Specialist",
                    "SE/Data Management Technician",
                    "EN/Data Manager",
                    "EX/Data Manager",
                    "MI/Data Manager",
                    "SE/Data Manager",
                    "EX/Data Modeler",
                    "MI/Data Modeler",
                    "SE/Data Modeler",
                    "EN/Data Operations",
                    "EX/Data Operations",
                    "MI/Data Operations",
                    "SE/Data Operations",
                    "EN/Data Operations Analyst",
                    "MI/Data Operations Analyst",
                    "SE/Data Operations Analyst",
                    "EN/Data Operations Associate",
                    "MI/Data Operations Associate",
                    "EN/Data Operations Engineer",
                    "EX/Data Operations Engineer",
                    "MI/Data Operations Engineer",
                    "SE/Data Operations Engineer",
                    "SE/Data Operations Lead",
                    "EN/Data Operations Manager",
                    "MI/Data Operations Manager",
                    "SE/Data Operations Manager",
                    "EX/Data Operations Specialist",
                    "MI/Data Operations Specialist",
                    "SE/Data Operations Specialist",
                    "MI/Data Operator",
                    "SE/Data Pipeline Engineer",
                    "EN/Data Platform Engineer",
                    "EX/Data Platform Engineer",
                    "MI/Data Platform Engineer",
                    "SE/Data Platform Engineer",
                    "EN/Data Product Analyst",
                    "SE/Data Product Lead",
                    "EN/Data Product Manager",
                    "EX/Data Product Manager",
                    "MI/Data Product Manager",
                    "SE/Data Product Manager",
                    "EX/Data Product Owner",
                    "MI/Data Product Owner",
                    "SE/Data Product Owner",
                    "EN/Data Quality Analyst",
                    "EX/Data Quality Analyst",
                    "MI/Data Quality Analyst",
                    "SE/Data Quality Analyst",
                    "EN/Data Quality Engineer",
                    "MI/Data Quality Engineer",
                    "SE/Data Quality Engineer",
                    "SE/Data Quality Expert",
                    "SE/Data Quality Lead",
                    "MI/Data Quality Manager",
                    "SE/Data Quality Manager",
                    "EN/Data Quality Specialist",
                    "EX/Data Quality Specialist",
                    "MI/Data Quality Specialist",
                    "SE/Data Quality Specialist",
                    "MI/Data Reporter",
                    "SE/Data Reporter",
                    "EN/Data Reporting Analyst",
                    "MI/Data Reporting Analyst",
                    "SE/Data Reporting Analyst",
                    "MI/Data Reporting Specialist",
                    "SE/Data Reporting Specialist",
                    "SE/Data Science Tech Lead",
                    "EN/Data Scientist",
                    "EX/Data Scientist",
                    "MI/Data Scientist",
                    "SE/Data Scientist",
                    "MI/Data Scientist Associate",
                    "SE/Data Scientist Expert",
                    "MI/Data Scientist Lead",
                    "SE/Data Scientist Lead",
                    "SE/Data Scientist Manager",
                    "EN/Data Specialist",
                    "EX/Data Specialist",
                    "MI/Data Specialist",
                    "SE/Data Specialist",
                    "MI/Data Steward",
                    "SE/Data Steward",
                    "EN/Data Strategist",
                    "EX/Data Strategist",
                    "MI/Data Strategist",
                    "SE/Data Strategist",
                    "SE/Data Strategy Lead",
                    "MI/Data Strategy Manager",
                    "SE/Data Strategy Manager",
                    "SE/Data Team Lead",
                    "EN/Data Visualization Analyst",
                    "EX/Data Visualization Analyst",
                    "MI/Data Visualization Analyst",
                    "SE/Data Visualization Analyst",
                    "EN/Data Visualization Designer",
                    "EX/Data Visualization Designer",
                    "MI/Data Visualization Designer",
                    "MI/Data Visualization Developer",
                    "SE/Data Visualization Developer",
                    "EN/Data Visualization Engineer",
                    "MI/Data Visualization Engineer",
                    "SE/Data Visualization Engineer",
                    "SE/Data Visualization Expert",
                    "SE/Data Visualization Lead",
                    "EN/Data Visualization Specialist",
                    "MI/Data Visualization Specialist",
                    "SE/Data Visualization Specialist",
                    "MI/Data and Analytics Consultant",
                    "SE/Data and Analytics Consultant",
                    "EN/Data and Reporting Analyst",
                    "SE/Data and Reporting Analyst",
                    "EN/Data and Reporting Professional",
                    "MI/Data and Reporting Professional",
                    "SE/Data and Reporting Professional",
                    "EN/DataOps Engineer",
                    "MI/DataOps Engineer",
                    "SE/DataOps Engineer",
                    "MI/Database Administrator",
                    "SE/Database Administrator",
                    "MI/Databricks Engineer",
                    "SE/Databricks Engineer",
                    "EX/Decision Scientist",
                    "MI/Decision Scientist",
                    "SE/Decision Scientist",
                    "EN/Deep Learning Engineer",
                    "MI/Deep Learning Engineer",
                    "SE/Deep Learning Engineer",
                    "SE/Deep Learning Researcher",
                    "EN/DevOps Engineer",
                    "EX/DevOps Engineer",
                    "MI/DevOps Engineer",
                    "SE/DevOps Engineer",
                    "SE/DevOps Lead",
                    "EN/Developer",
                    "EX/Developer",
                    "MI/Developer",
                    "SE/Developer",
                    "MI/Developer Advocate",
                    "SE/Developer Advocate",
                    "EN/Director",
                    "EX/Director",
                    "SE/Director",
                    "EX/Director of Artificial Intelligence",
                    "EX/Director of Business Intelligence",
                    "EX/Director of Data",
                    "EX/Director of Engineering",
                    "EX/Director of Machine Learning",
                    "SE/Director of Machine Learning",
                    "EX/Director of Product Management",
                    "EN/ETL Developer",
                    "MI/ETL Developer",
                    "SE/ETL Developer",
                    "EX/ETL Engineer",
                    "MI/ETL Engineer",
                    "MI/Economist",
                    "SE/Economist",
                    "SE/Elasticsearch Administrator",
                    "EN/Encounter Data Management Professional",
                    "MI/Encounter Data Management Professional",
                    "SE/Encounter Data Management Professional",
                    "EN/Engineer",
                    "EX/Engineer",
                    "MI/Engineer",
                    "SE/Engineer",
                    "EN/Engineering Manager",
                    "MI/Engineering Manager",
                    "SE/Engineering Manager",
                    "EX/Enterprise Account Executive",
                    "SE/Enterprise Account Executive",
                    "EX/Executive",
                    "SE/Executive",
                    "SE/Experienced Quantitative Strategist",
                    "EN/Finance Data Analyst",
                    "SE/Finance Data Analyst",
                    "EN/Financial Data Analyst",
                    "MI/Financial Data Analyst",
                    "MI/Forward Deployed Engineer",
                    "SE/Forward Deployed Engineer",
                    "EN/Fraud Data Analyst",
                    "MI/Frontend Engineer",
                    "SE/Frontend Engineer",
                    "EN/Full Stack Developer",
                    "EX/Full Stack Developer",
                    "MI/Full Stack Developer",
                    "SE/Full Stack Developer",
                    "EN/Full Stack Engineer",
                    "EX/Full Stack Engineer",
                    "MI/Full Stack Engineer",
                    "SE/Full Stack Engineer",
                    "MI/Fullstack Engineer",
                    "SE/Fullstack Engineer",
                    "SE/GenAI Architect",
                    "EX/Head of AI",
                    "SE/Head of AI",
                    "EX/Head of Applied AI",
                    "EX/Head of Business Intelligence",
                    "EN/Head of Data",
                    "EX/Head of Data",
                    "MI/Head of Data",
                    "SE/Head of Data",
                    "EX/Head of Machine Learning",
                    "EX/Head of Marketing",
                    "SE/IT Enterprise Data Architect",
                    "SE/Infrastructure Engineer",
                    "EN/Insight Analyst",
                    "MI/Insight Analyst",
                    "SE/Insight Analyst",
                    "EN/Integration Specialist",
                    "MI/Integration Specialist",
                    "MI/Java Developer",
                    "SE/Java Developer",
                    "SE/LLM Engineer",
                    "SE/Lead AI Engineer",
                    "SE/Lead Analyst",
                    "SE/Lead Data Analysis",
                    "MI/Lead Data Analyst",
                    "SE/Lead Data Analyst",
                    "EX/Lead Data Engineer",
                    "MI/Lead Data Engineer",
                    "SE/Lead Data Engineer",
                    "SE/Lead Data Management",
                    "MI/Lead Data Scientist",
                    "SE/Lead Data Scientist",
                    "SE/Lead Engineer",
                    "SE/Lead Machine Learning Engineer",
                    "MI/ML Infrastructure Engineer",
                    "SE/ML Infrastructure Engineer",
                    "EN/ML Scientist",
                    "MI/ML Scientist",
                    "SE/ML Scientist",
                    "EN/MLOps Engineer",
                    "MI/MLOps Engineer",
                    "SE/MLOps Engineer",
                    "SE/Machine Learning Architect",
                    "EN/Machine Learning Developer",
                    "MI/Machine Learning Developer",
                    "SE/Machine Learning Developer",
                    "EN/Machine Learning Engineer",
                    "EX/Machine Learning Engineer",
                    "MI/Machine Learning Engineer",
                    "SE/Machine Learning Engineer",
                    "MI/Machine Learning Infrastructure Engineer",
                    "SE/Machine Learning Infrastructure Engineer",
                    "SE/Machine Learning Lead",
                    "MI/Machine Learning Manager",
                    "SE/Machine Learning Manager",
                    "EN/Machine Learning Model Engineer",
                    "MI/Machine Learning Model Engineer",
                    "SE/Machine Learning Model Engineer",
                    "SE/Machine Learning Modeler",
                    "SE/Machine Learning Performance Engineer",
                    "MI/Machine Learning Platform Engineer",
                    "SE/Machine Learning Platform Engineer",
                    "MI/Machine Learning Quality Engineer",
                    "SE/Machine Learning Quality Engineer",
                    "EN/Machine Learning Research Engineer",
                    "MI/Machine Learning Research Engineer",
                    "EN/Machine Learning Researcher",
                    "MI/Machine Learning Researcher",
                    "SE/Machine Learning Researcher",
                    "EN/Machine Learning Scientist",
                    "EX/Machine Learning Scientist",
                    "MI/Machine Learning Scientist",
                    "SE/Machine Learning Scientist",
                    "MI/Machine Learning Software Engineer",
                    "SE/Machine Learning Software Engineer",
                    "EN/Machine Learning Specialist",
                    "MI/Machine Learning Specialist",
                    "SE/Machine Learning Specialist",
                    "SE/Machine Learning Tech Lead",
                    "MI/Machine Vision Engineer",
                    "EN/Manager",
                    "EX/Manager",
                    "MI/Manager",
                    "SE/Manager",
                    "SE/Manager Data Management",
                    "SE/Marketing Analyst",
                    "MI/Marketing Analytics Manager",
                    "SE/Marketing Data Analyst",
                    "EN/Marketing Data Engineer",
                    "SE/Marketing Data Scientist",
                    "MI/Marketing Science Partner",
                    "SE/Marketing Science Partner",
                    "EN/Master Data Management",
                    "EX/Master Data Management",
                    "MI/Master Data Management",
                    "SE/Master Data Management",
                    "MI/Master Data Specialist",
                    "SE/Member of Technical Staff",
                    "EX/NLP Engineer",
                    "MI/NLP Engineer",
                    "SE/NLP Engineer",
                    "MI/Network Engineer",
                    "EX/People Data Analyst",
                    "MI/Platform Data Engineer",
                    "EN/Platform Engineer",
                    "EX/Platform Engineer",
                    "MI/Platform Engineer",
                    "SE/Platform Engineer",
                    "MI/Post Doctoral Fellow",
                    "SE/Post Doctoral Fellow",
                    "EN/Postdoctoral Fellow",
                    "MI/Postdoctoral Fellow",
                    "SE/Postdoctoral Fellow",
                    "EX/Postdoctoral Research Fellow",
                    "MI/Postdoctoral Research Fellow",
                    "EN/Postdoctoral Researcher",
                    "MI/Postdoctoral Researcher",
                    "SE/Postdoctoral Researcher",
                    "MI/Postdoctoral Scholar",
                    "EN/Power BI",
                    "MI/Power BI",
                    "SE/Power BI",
                    "MI/Power BI Administrator",
                    "SE/Power BI Administrator",
                    "SE/Power BI Architect",
                    "SE/Power BI Consultant",
                    "EN/Power BI Developer",
                    "EX/Power BI Developer",
                    "MI/Power BI Developer",
                    "SE/Power BI Developer",
                    "SE/Power BI Expert",
                    "MI/Power BI Specialist",
                    "SE/Power BI Specialist",
                    "EN/Pricing Analyst",
                    "SE/Pricing Analyst",
                    "SE/Principal Application Delivery Consultant",
                    "MI/Principal Data Analyst",
                    "SE/Principal Data Analyst",
                    "SE/Principal Data Architect",
                    "SE/Principal Data Engineer",
                    "EX/Principal Data Scientist",
                    "MI/Principal Data Scientist",
                    "SE/Principal Data Scientist",
                    "EX/Principal Engineer",
                    "SE/Principal Engineer",
                    "SE/Principal Machine Learning Engineer",
                    "EX/Principal Researcher",
                    "SE/Principal Researcher",
                    "SE/Principal Scientist",
                    "SE/Principal Software Architect",
                    "MI/Principal Statistical Programmer",
                    "SE/Principal Statistical Programmer",
                    "EN/Product Analyst",
                    "MI/Product Analyst",
                    "SE/Product Analyst",
                    "EN/Product Data Analyst",
                    "MI/Product Data Analyst",
                    "SE/Product Data Analyst",
                    "EN/Product Designer",
                    "MI/Product Designer",
                    "SE/Product Designer",
                    "EN/Product Manager",
                    "EX/Product Manager",
                    "MI/Product Manager",
                    "SE/Product Manager",
                    "EN/Product Owner",
                    "EX/Product Owner",
                    "MI/Product Owner",
                    "SE/Product Owner",
                    "MI/Product Specialist",
                    "SE/Product Specialist",
                    "EN/Prompt Engineer",
                    "MI/Prompt Engineer",
                    "SE/Prompt Engineer",
                    "MI/Psychometrician",
                    "SE/Psychometrician",
                    "EN/Python Developer",
                    "EX/Python Developer",
                    "MI/Python Developer",
                    "SE/Python Developer",
                    "MI/QA Engineer",
                    "SE/QA Engineer",
                    "MI/QA Tutor Reviewer",
                    "EX/Quant Options Trader",
                    "EN/Quant Trader",
                    "EN/Quantitative Analyst",
                    "EX/Quantitative Analyst",
                    "MI/Quantitative Analyst",
                    "SE/Quantitative Analyst",
                    "EN/Quantitative Developer",
                    "MI/Quantitative Developer",
                    "SE/Quantitative Developer",
                    "EN/Quantitative Research Analyst",
                    "EN/Quantitative Researcher",
                    "EX/Quantitative Researcher",
                    "MI/Quantitative Researcher",
                    "SE/Quantitative Researcher",
                    "MI/Quantitative Risk Analyst",
                    "MI/Quantitative Trader",
                    "MI/RPA Developer",
                    "EN/Research Analyst",
                    "EX/Research Analyst",
                    "MI/Research Analyst",
                    "SE/Research Analyst",
                    "EN/Research Assistant",
                    "MI/Research Assistant",
                    "SE/Research Assistant",
                    "EN/Research Associate",
                    "MI/Research Associate",
                    "SE/Research Associate",
                    "MI/Research Data Manager",
                    "EN/Research Engineer",
                    "EX/Research Engineer",
                    "MI/Research Engineer",
                    "SE/Research Engineer",
                    "EN/Research Fellow",
                    "MI/Research Fellow",
                    "SE/Research Fellow",
                    "MI/Research Professional",
                    "SE/Research Professional",
                    "EN/Research Scientist",
                    "EX/Research Scientist",
                    "MI/Research Scientist",
                    "SE/Research Scientist",
                    "EN/Research Specialist",
                    "MI/Research Specialist",
                    "SE/Research Specialist",
                    "SE/Research Team Lead",
                    "EN/Researcher",
                    "EX/Researcher",
                    "MI/Researcher",
                    "SE/Researcher",
                    "EN/Risk Analyst",
                    "EX/Risk Analyst",
                    "MI/Risk Analyst",
                    "SE/Risk Analyst",
                    "EN/Robotics Engineer",
                    "MI/Robotics Engineer",
                    "SE/Robotics Engineer",
                    "EX/Robotics Software Engineer",
                    "MI/Robotics Software Engineer",
                    "SE/Robotics Software Engineer",
                    "SE/SAS Developer",
                    "SE/Safety Data Management Specialist",
                    "MI/Sales Data Analyst",
                    "EN/Sales Development Representative",
                    "MI/Sales Development Representative",
                    "SE/Sales Development Representative",
                    "MI/Sales Engineer",
                    "SE/Sales Engineer",
                    "MI/Salesforce Administrator",
                    "MI/Scala Spark Developer",
                    "MI/Security Engineer",
                    "SE/Security Engineer",
                    "MI/Security Researcher",
                    "SE/Security Researcher",
                    "EN/Site Reliability Engineer",
                    "MI/Site Reliability Engineer",
                    "SE/Site Reliability Engineer",
                    "EN/Software Architect",
                    "MI/Software Architect",
                    "SE/Software Architect",
                    "MI/Software Data Engineer",
                    "SE/Software Data Engineer",
                    "EN/Software Developer",
                    "EX/Software Developer",
                    "MI/Software Developer",
                    "SE/Software Developer",
                    "EX/Software Development Director",
                    "EN/Software Development Engineer",
                    "EX/Software Development Engineer",
                    "MI/Software Development Engineer",
                    "SE/Software Development Engineer",
                    "EN/Software Engineer",
                    "EX/Software Engineer",
                    "MI/Software Engineer",
                    "SE/Software Engineer",
                    "EN/Solution Architect",
                    "MI/Solution Architect",
                    "SE/Solution Architect",
                    "EN/Solution Engineer",
                    "EX/Solution Engineer",
                    "MI/Solution Engineer",
                    "SE/Solution Engineer",
                    "MI/Solution Specialist",
                    "EN/Solutions Architect",
                    "EX/Solutions Architect",
                    "MI/Solutions Architect",
                    "SE/Solutions Architect",
                    "EN/Solutions Engineer",
                    "EX/Solutions Engineer",
                    "MI/Solutions Engineer",
                    "SE/Solutions Engineer",
                    "EN/Staff Data Analyst",
                    "EX/Staff Data Analyst",
                    "MI/Staff Data Analyst",
                    "SE/Staff Data Scientist",
                    "EN/Staff Engineer",
                    "MI/Staff Engineer",
                    "SE/Staff Engineer",
                    "SE/Staff Machine Learning Engineer",
                    "EN/Stage",
                    "MI/Stage",
                    "SE/Stage",
                    "EN/Statistical Programmer",
                    "MI/Statistical Programmer",
                    "SE/Statistical Programmer",
                    "EN/Statistician",
                    "EX/Statistician",
                    "MI/Statistician",
                    "SE/Statistician",
                    "MI/System Administrator",
                    "SE/System Administrator",
                    "EN/System Engineer",
                    "MI/System Engineer",
                    "SE/System Engineer",
                    "EN/Systems Administrator",
                    "MI/Systems Administrator",
                    "SE/Systems Administrator",
                    "EN/Systems Engineer",
                    "EX/Systems Engineer",
                    "MI/Systems Engineer",
                    "SE/Systems Engineer",
                    "MI/Tableau Developer",
                    "SE/Tableau Developer",
                    "SE/Tech Lead",
                    "SE/Tech Lead Data",
                    "SE/Technical Architect",
                    "MI/Technical Consultant",
                    "EX/Technical Lead",
                    "SE/Technical Lead",
                    "EN/Technical Project Manager",
                    "MI/Technical Recruiter",
                    "SE/Technical Recruiter",
                    "EN/Technical Specialist",
                    "MI/Technical Specialist",
                    "SE/Technical Specialist",
                    "MI/Technical Support Engineer",
                    "SE/Technical Support Engineer",
                    "MI/Technical Support Specialist",
                    "EN/Technical Writer",
                    "MI/Technical Writer",
                    "SE/Technical Writer",
                    "MI/Technology Integrator",
                    "SE/Technology Integrator",
                    "EN/Trainee",
                    "EN/Web Developer",
                    "MI/Web Developer",
                    "SE/Web Developer",
                    "EN",
                    "EX",
                    "MI",
                    "SE"
                  ],
                  "labels": [
                    "AI Architect",
                    "AI Architect",
                    "AI Architect",
                    "AI Content Writer",
                    "AI Content Writer",
                    "AI Data Engineer",
                    "AI Data Engineer",
                    "AI Data Scientist",
                    "AI Data Scientist",
                    "AI Data Scientist",
                    "AI Developer",
                    "AI Developer",
                    "AI Developer",
                    "AI Developer",
                    "AI Engineer",
                    "AI Engineer",
                    "AI Engineer",
                    "AI Engineer",
                    "AI Engineering Lead",
                    "AI Engineering Manager",
                    "AI Governance Lead",
                    "AI Governance Specialist",
                    "AI Governance Specialist",
                    "AI Lead",
                    "AI Lead",
                    "AI Machine Learning Engineer",
                    "AI Machine Learning Engineer",
                    "AI Product Lead",
                    "AI Product Manager",
                    "AI Product Manager",
                    "AI Product Owner",
                    "AI Product Owner",
                    "AI Product Specialist",
                    "AI Programmer",
                    "AI Programmer",
                    "AI Programmer",
                    "AI Research Engineer",
                    "AI Research Engineer",
                    "AI Research Scientist",
                    "AI Research Scientist",
                    "AI Research Scientist",
                    "AI Researcher",
                    "AI Researcher",
                    "AI Researcher",
                    "AI Scientist",
                    "AI Scientist",
                    "AI Scientist",
                    "AI Scientist",
                    "AI Software Development Engineer",
                    "AI Software Engineer",
                    "AI Software Engineer",
                    "AI Software Engineer",
                    "AI Solution Architect",
                    "AI Solution Director",
                    "AI Solutions Consultant",
                    "AI Solutions Lead",
                    "AI Solutions Specialist",
                    "AI Solutions Specialist",
                    "AI Specialist",
                    "AI Specialist",
                    "AI Specialist",
                    "AI Specialist",
                    "AI Strategist",
                    "AI Tech Lead",
                    "AI Tech Lead",
                    "AIRS Solutions Specialist",
                    "AWS Data Architect",
                    "Account Executive",
                    "Account Executive",
                    "Actuarial Analyst",
                    "Actuarial Analyst",
                    "Actuary",
                    "Actuary",
                    "Actuary",
                    "Admin & Data Analyst",
                    "Admin & Data Analyst",
                    "Admin & Data Analyst",
                    "Advanced Analytics Manager",
                    "Advanced Data Analyst",
                    "Algorithm Developer",
                    "Algorithm Developer",
                    "Algorithm Developer",
                    "Alternance",
                    "Analyst",
                    "Analyst",
                    "Analyst",
                    "Analyst",
                    "Analytics Analyst",
                    "Analytics Engineer",
                    "Analytics Engineer",
                    "Analytics Engineer",
                    "Analytics Engineer",
                    "Analytics Engineering Manager",
                    "Analytics Lead",
                    "Analytics Manager",
                    "Analytics Manager",
                    "Analytics Specialist",
                    "Analytics Specialist",
                    "Analytics Specialist",
                    "Analytics Specialist",
                    "Application Developer",
                    "Application Developer",
                    "Application Developer",
                    "Applied AI ML Lead",
                    "Applied Data Scientist",
                    "Applied Data Scientist",
                    "Applied Data Scientist",
                    "Applied Machine Learning Engineer",
                    "Applied Machine Learning Engineer",
                    "Applied Machine Learning Scientist",
                    "Applied Machine Learning Scientist",
                    "Applied Machine Learning Scientist",
                    "Applied Research Scientist",
                    "Applied Research Scientist",
                    "Applied Scientist",
                    "Applied Scientist",
                    "Applied Scientist",
                    "Apprentice",
                    "Architect",
                    "Architect",
                    "Architect",
                    "Artificial Intelligence Engineer",
                    "Artificial Intelligence Engineer",
                    "Artificial Intelligence Engineer",
                    "Artificial Intelligence Engineer",
                    "Associate",
                    "Associate",
                    "Associate",
                    "Associate",
                    "Automation Engineer",
                    "Automation Engineer",
                    "Automation Engineer",
                    "Automation Engineer",
                    "Autonomous Vehicle Technician",
                    "Azure Data Engineer",
                    "Azure Data Engineer",
                    "BI & Data Analyst",
                    "BI Analyst",
                    "BI Analyst",
                    "BI Analyst",
                    "BI Data Analyst",
                    "BI Data Analyst",
                    "BI Data Analyst",
                    "BI Data Analyst",
                    "BI Data Engineer",
                    "BI Developer",
                    "BI Developer",
                    "BI Developer",
                    "BI Developer",
                    "BI Engineer",
                    "BI Engineer",
                    "BI Engineer",
                    "Backend Developer",
                    "Backend Developer",
                    "Backend Engineer",
                    "Backend Engineer",
                    "Backend Engineer",
                    "Backend Software Engineer",
                    "Bear Robotics",
                    "Bear Robotics",
                    "Bear Robotics",
                    "Big Data Analyst",
                    "Big Data Architect",
                    "Big Data Developer",
                    "Big Data Developer",
                    "Big Data Engineer",
                    "Big Data Engineer",
                    "Big Data Engineer",
                    "Bioinformatician",
                    "Bioinformatician",
                    "Bioinformatician",
                    "Bioinformatics Scientist",
                    "Bioinformatics Scientist",
                    "Bioinformatics Scientist",
                    "Bioinformatics Scientist",
                    "Bioinformatics Specialist",
                    "Business Analyst",
                    "Business Analyst",
                    "Business Analyst",
                    "Business Analyst",
                    "Business Data Analyst",
                    "Business Data Analyst",
                    "Business Data Analyst",
                    "Business Development Manager",
                    "Business Development Representative",
                    "Business Development Representative",
                    "Business Development Representative",
                    "Business Insights Manager",
                    "Business Intelligence",
                    "Business Intelligence",
                    "Business Intelligence",
                    "Business Intelligence",
                    "Business Intelligence Analyst",
                    "Business Intelligence Analyst",
                    "Business Intelligence Analyst",
                    "Business Intelligence Analyst",
                    "Business Intelligence Consultant",
                    "Business Intelligence Data Analyst",
                    "Business Intelligence Data Analyst",
                    "Business Intelligence Developer",
                    "Business Intelligence Developer",
                    "Business Intelligence Developer",
                    "Business Intelligence Developer",
                    "Business Intelligence Engineer",
                    "Business Intelligence Engineer",
                    "Business Intelligence Engineer",
                    "Business Intelligence Engineer",
                    "Business Intelligence Lead",
                    "Business Intelligence Lead",
                    "Business Intelligence Lead",
                    "Business Intelligence Manager",
                    "Business Intelligence Manager",
                    "Business Intelligence Specialist",
                    "Business Intelligence Specialist",
                    "Business Intelligence Specialist",
                    "CRM Data Analyst",
                    "Cdd",
                    "Chatbot Developer",
                    "Chatbot Developer",
                    "Cheminformatics Scientist",
                    "Cientista de Dados",
                    "Clinical Aide",
                    "Clinical Data Operator",
                    "Cloud Architect",
                    "Cloud Data Architect",
                    "Cloud Data Engineer",
                    "Cloud Data Engineer",
                    "Cloud Data Engineer",
                    "Cloud Database Administrator",
                    "Cloud Database Administrator",
                    "Cloud Database Administrator",
                    "Cloud Database Engineer",
                    "Cloud Database Engineer",
                    "Cloud Developer",
                    "Cloud Developer",
                    "Cloud Engineer",
                    "Cloud Engineer",
                    "Cloud Engineer",
                    "Cloud Engineer",
                    "Commercial Counsel",
                    "Commercial Counsel",
                    "Compliance Data Analyst",
                    "Computational Biologist",
                    "Computational Biologist",
                    "Computational Scientist",
                    "Computational Scientist",
                    "Computational Scientist",
                    "Computer Vision Engineer",
                    "Computer Vision Engineer",
                    "Computer Vision Engineer",
                    "Computer Vision Software Engineer",
                    "Computer Vision Software Engineer",
                    "Computer Vision Software Engineer",
                    "Consultant",
                    "Consultant",
                    "Consultant",
                    "Consultant",
                    "Consultant Data Engineer",
                    "Content Writer",
                    "Controls Engineer",
                    "Conversational AI Designer",
                    "Copywriter",
                    "Copywriter",
                    "Creative Technologist",
                    "Creative Technologist",
                    "Customer Success Engineer",
                    "Customer Success Manager",
                    "Data & Analytics Analyst",
                    "Data & Analytics Specialist",
                    "Data Analist",
                    "Data Analist",
                    "Data Analist",
                    "Data Analysis",
                    "Data Analysis",
                    "Data Analysis",
                    "Data Analysis",
                    "Data Analysis Specialist",
                    "Data Analyst",
                    "Data Analyst",
                    "Data Analyst",
                    "Data Analyst",
                    "Data Analyst Lead",
                    "Data Analyst Lead",
                    "Data Analytics Associate",
                    "Data Analytics Associate",
                    "Data Analytics Business Partner",
                    "Data Analytics Business Partner",
                    "Data Analytics Consultant",
                    "Data Analytics Consultant",
                    "Data Analytics Consultant",
                    "Data Analytics Developer",
                    "Data Analytics Developer",
                    "Data Analytics Developer",
                    "Data Analytics Engineer",
                    "Data Analytics Engineer",
                    "Data Analytics Engineer",
                    "Data Analytics Lead",
                    "Data Analytics Lead",
                    "Data Analytics Lead",
                    "Data Analytics Manager",
                    "Data Analytics Manager",
                    "Data Analytics Manager",
                    "Data Analytics Manager",
                    "Data Analytics Specialist",
                    "Data Analytics Specialist",
                    "Data Analytics Specialist",
                    "Data Analytics Team Lead",
                    "Data Architect",
                    "Data Architect",
                    "Data Architect",
                    "Data Architect",
                    "Data Archivist",
                    "Data Consultant",
                    "Data Consultant",
                    "Data Consultant",
                    "Data DevOps Engineer",
                    "Data DevOps Engineer",
                    "Data DevOps Engineer",
                    "Data Developer",
                    "Data Developer",
                    "Data Developer",
                    "Data Developer",
                    "Data Engineer",
                    "Data Engineer",
                    "Data Engineer",
                    "Data Engineer",
                    "Data Engineer 4",
                    "Data Governance",
                    "Data Governance",
                    "Data Governance",
                    "Data Governance",
                    "Data Governance Analyst",
                    "Data Governance Analyst",
                    "Data Governance Analyst",
                    "Data Governance Analyst",
                    "Data Governance Architect",
                    "Data Governance Consultant",
                    "Data Governance Consultant",
                    "Data Governance Engineer",
                    "Data Governance Engineer",
                    "Data Governance Engineer",
                    "Data Governance Lead",
                    "Data Governance Lead",
                    "Data Governance Manager",
                    "Data Governance Manager",
                    "Data Governance Manager",
                    "Data Governance Specialist",
                    "Data Governance Specialist",
                    "Data Governance Specialist",
                    "Data Governance Specialist",
                    "Data Infrastructure Engineer",
                    "Data Infrastructure Engineer",
                    "Data Integration Analyst",
                    "Data Integration Analyst",
                    "Data Integration Analyst",
                    "Data Integration Coordinator",
                    "Data Integration Developer",
                    "Data Integration Developer",
                    "Data Integration Engineer",
                    "Data Integration Engineer",
                    "Data Integration Engineer",
                    "Data Integration Engineer",
                    "Data Integration Lead",
                    "Data Integration Specialist",
                    "Data Integration Specialist",
                    "Data Integration Specialist",
                    "Data Integrator",
                    "Data Integrator",
                    "Data Integrity Analyst",
                    "Data Integrity Analyst",
                    "Data Integrity Specialist",
                    "Data Integrity Specialist",
                    "Data Lead",
                    "Data Lead",
                    "Data Lead",
                    "Data Management",
                    "Data Management",
                    "Data Management",
                    "Data Management",
                    "Data Management Analyst",
                    "Data Management Analyst",
                    "Data Management Analyst",
                    "Data Management Associate",
                    "Data Management Associate",
                    "Data Management Consultant",
                    "Data Management Consultant",
                    "Data Management Consultant",
                    "Data Management Coordinator",
                    "Data Management Expert",
                    "Data Management Lead",
                    "Data Management Lead",
                    "Data Management Manager",
                    "Data Management Officer",
                    "Data Management Professional",
                    "Data Management Specialist",
                    "Data Management Specialist",
                    "Data Management Specialist",
                    "Data Management Specialist",
                    "Data Management Technician",
                    "Data Manager",
                    "Data Manager",
                    "Data Manager",
                    "Data Manager",
                    "Data Modeler",
                    "Data Modeler",
                    "Data Modeler",
                    "Data Operations",
                    "Data Operations",
                    "Data Operations",
                    "Data Operations",
                    "Data Operations Analyst",
                    "Data Operations Analyst",
                    "Data Operations Analyst",
                    "Data Operations Associate",
                    "Data Operations Associate",
                    "Data Operations Engineer",
                    "Data Operations Engineer",
                    "Data Operations Engineer",
                    "Data Operations Engineer",
                    "Data Operations Lead",
                    "Data Operations Manager",
                    "Data Operations Manager",
                    "Data Operations Manager",
                    "Data Operations Specialist",
                    "Data Operations Specialist",
                    "Data Operations Specialist",
                    "Data Operator",
                    "Data Pipeline Engineer",
                    "Data Platform Engineer",
                    "Data Platform Engineer",
                    "Data Platform Engineer",
                    "Data Platform Engineer",
                    "Data Product Analyst",
                    "Data Product Lead",
                    "Data Product Manager",
                    "Data Product Manager",
                    "Data Product Manager",
                    "Data Product Manager",
                    "Data Product Owner",
                    "Data Product Owner",
                    "Data Product Owner",
                    "Data Quality Analyst",
                    "Data Quality Analyst",
                    "Data Quality Analyst",
                    "Data Quality Analyst",
                    "Data Quality Engineer",
                    "Data Quality Engineer",
                    "Data Quality Engineer",
                    "Data Quality Expert",
                    "Data Quality Lead",
                    "Data Quality Manager",
                    "Data Quality Manager",
                    "Data Quality Specialist",
                    "Data Quality Specialist",
                    "Data Quality Specialist",
                    "Data Quality Specialist",
                    "Data Reporter",
                    "Data Reporter",
                    "Data Reporting Analyst",
                    "Data Reporting Analyst",
                    "Data Reporting Analyst",
                    "Data Reporting Specialist",
                    "Data Reporting Specialist",
                    "Data Science Tech Lead",
                    "Data Scientist",
                    "Data Scientist",
                    "Data Scientist",
                    "Data Scientist",
                    "Data Scientist Associate",
                    "Data Scientist Expert",
                    "Data Scientist Lead",
                    "Data Scientist Lead",
                    "Data Scientist Manager",
                    "Data Specialist",
                    "Data Specialist",
                    "Data Specialist",
                    "Data Specialist",
                    "Data Steward",
                    "Data Steward",
                    "Data Strategist",
                    "Data Strategist",
                    "Data Strategist",
                    "Data Strategist",
                    "Data Strategy Lead",
                    "Data Strategy Manager",
                    "Data Strategy Manager",
                    "Data Team Lead",
                    "Data Visualization Analyst",
                    "Data Visualization Analyst",
                    "Data Visualization Analyst",
                    "Data Visualization Analyst",
                    "Data Visualization Designer",
                    "Data Visualization Designer",
                    "Data Visualization Designer",
                    "Data Visualization Developer",
                    "Data Visualization Developer",
                    "Data Visualization Engineer",
                    "Data Visualization Engineer",
                    "Data Visualization Engineer",
                    "Data Visualization Expert",
                    "Data Visualization Lead",
                    "Data Visualization Specialist",
                    "Data Visualization Specialist",
                    "Data Visualization Specialist",
                    "Data and Analytics Consultant",
                    "Data and Analytics Consultant",
                    "Data and Reporting Analyst",
                    "Data and Reporting Analyst",
                    "Data and Reporting Professional",
                    "Data and Reporting Professional",
                    "Data and Reporting Professional",
                    "DataOps Engineer",
                    "DataOps Engineer",
                    "DataOps Engineer",
                    "Database Administrator",
                    "Database Administrator",
                    "Databricks Engineer",
                    "Databricks Engineer",
                    "Decision Scientist",
                    "Decision Scientist",
                    "Decision Scientist",
                    "Deep Learning Engineer",
                    "Deep Learning Engineer",
                    "Deep Learning Engineer",
                    "Deep Learning Researcher",
                    "DevOps Engineer",
                    "DevOps Engineer",
                    "DevOps Engineer",
                    "DevOps Engineer",
                    "DevOps Lead",
                    "Developer",
                    "Developer",
                    "Developer",
                    "Developer",
                    "Developer Advocate",
                    "Developer Advocate",
                    "Director",
                    "Director",
                    "Director",
                    "Director of Artificial Intelligence",
                    "Director of Business Intelligence",
                    "Director of Data",
                    "Director of Engineering",
                    "Director of Machine Learning",
                    "Director of Machine Learning",
                    "Director of Product Management",
                    "ETL Developer",
                    "ETL Developer",
                    "ETL Developer",
                    "ETL Engineer",
                    "ETL Engineer",
                    "Economist",
                    "Economist",
                    "Elasticsearch Administrator",
                    "Encounter Data Management Professional",
                    "Encounter Data Management Professional",
                    "Encounter Data Management Professional",
                    "Engineer",
                    "Engineer",
                    "Engineer",
                    "Engineer",
                    "Engineering Manager",
                    "Engineering Manager",
                    "Engineering Manager",
                    "Enterprise Account Executive",
                    "Enterprise Account Executive",
                    "Executive",
                    "Executive",
                    "Experienced Quantitative Strategist",
                    "Finance Data Analyst",
                    "Finance Data Analyst",
                    "Financial Data Analyst",
                    "Financial Data Analyst",
                    "Forward Deployed Engineer",
                    "Forward Deployed Engineer",
                    "Fraud Data Analyst",
                    "Frontend Engineer",
                    "Frontend Engineer",
                    "Full Stack Developer",
                    "Full Stack Developer",
                    "Full Stack Developer",
                    "Full Stack Developer",
                    "Full Stack Engineer",
                    "Full Stack Engineer",
                    "Full Stack Engineer",
                    "Full Stack Engineer",
                    "Fullstack Engineer",
                    "Fullstack Engineer",
                    "GenAI Architect",
                    "Head of AI",
                    "Head of AI",
                    "Head of Applied AI",
                    "Head of Business Intelligence",
                    "Head of Data",
                    "Head of Data",
                    "Head of Data",
                    "Head of Data",
                    "Head of Machine Learning",
                    "Head of Marketing",
                    "IT Enterprise Data Architect",
                    "Infrastructure Engineer",
                    "Insight Analyst",
                    "Insight Analyst",
                    "Insight Analyst",
                    "Integration Specialist",
                    "Integration Specialist",
                    "Java Developer",
                    "Java Developer",
                    "LLM Engineer",
                    "Lead AI Engineer",
                    "Lead Analyst",
                    "Lead Data Analysis",
                    "Lead Data Analyst",
                    "Lead Data Analyst",
                    "Lead Data Engineer",
                    "Lead Data Engineer",
                    "Lead Data Engineer",
                    "Lead Data Management",
                    "Lead Data Scientist",
                    "Lead Data Scientist",
                    "Lead Engineer",
                    "Lead Machine Learning Engineer",
                    "ML Infrastructure Engineer",
                    "ML Infrastructure Engineer",
                    "ML Scientist",
                    "ML Scientist",
                    "ML Scientist",
                    "MLOps Engineer",
                    "MLOps Engineer",
                    "MLOps Engineer",
                    "Machine Learning Architect",
                    "Machine Learning Developer",
                    "Machine Learning Developer",
                    "Machine Learning Developer",
                    "Machine Learning Engineer",
                    "Machine Learning Engineer",
                    "Machine Learning Engineer",
                    "Machine Learning Engineer",
                    "Machine Learning Infrastructure Engineer",
                    "Machine Learning Infrastructure Engineer",
                    "Machine Learning Lead",
                    "Machine Learning Manager",
                    "Machine Learning Manager",
                    "Machine Learning Model Engineer",
                    "Machine Learning Model Engineer",
                    "Machine Learning Model Engineer",
                    "Machine Learning Modeler",
                    "Machine Learning Performance Engineer",
                    "Machine Learning Platform Engineer",
                    "Machine Learning Platform Engineer",
                    "Machine Learning Quality Engineer",
                    "Machine Learning Quality Engineer",
                    "Machine Learning Research Engineer",
                    "Machine Learning Research Engineer",
                    "Machine Learning Researcher",
                    "Machine Learning Researcher",
                    "Machine Learning Researcher",
                    "Machine Learning Scientist",
                    "Machine Learning Scientist",
                    "Machine Learning Scientist",
                    "Machine Learning Scientist",
                    "Machine Learning Software Engineer",
                    "Machine Learning Software Engineer",
                    "Machine Learning Specialist",
                    "Machine Learning Specialist",
                    "Machine Learning Specialist",
                    "Machine Learning Tech Lead",
                    "Machine Vision Engineer",
                    "Manager",
                    "Manager",
                    "Manager",
                    "Manager",
                    "Manager Data Management",
                    "Marketing Analyst",
                    "Marketing Analytics Manager",
                    "Marketing Data Analyst",
                    "Marketing Data Engineer",
                    "Marketing Data Scientist",
                    "Marketing Science Partner",
                    "Marketing Science Partner",
                    "Master Data Management",
                    "Master Data Management",
                    "Master Data Management",
                    "Master Data Management",
                    "Master Data Specialist",
                    "Member of Technical Staff",
                    "NLP Engineer",
                    "NLP Engineer",
                    "NLP Engineer",
                    "Network Engineer",
                    "People Data Analyst",
                    "Platform Data Engineer",
                    "Platform Engineer",
                    "Platform Engineer",
                    "Platform Engineer",
                    "Platform Engineer",
                    "Post Doctoral Fellow",
                    "Post Doctoral Fellow",
                    "Postdoctoral Fellow",
                    "Postdoctoral Fellow",
                    "Postdoctoral Fellow",
                    "Postdoctoral Research Fellow",
                    "Postdoctoral Research Fellow",
                    "Postdoctoral Researcher",
                    "Postdoctoral Researcher",
                    "Postdoctoral Researcher",
                    "Postdoctoral Scholar",
                    "Power BI",
                    "Power BI",
                    "Power BI",
                    "Power BI Administrator",
                    "Power BI Administrator",
                    "Power BI Architect",
                    "Power BI Consultant",
                    "Power BI Developer",
                    "Power BI Developer",
                    "Power BI Developer",
                    "Power BI Developer",
                    "Power BI Expert",
                    "Power BI Specialist",
                    "Power BI Specialist",
                    "Pricing Analyst",
                    "Pricing Analyst",
                    "Principal Application Delivery Consultant",
                    "Principal Data Analyst",
                    "Principal Data Analyst",
                    "Principal Data Architect",
                    "Principal Data Engineer",
                    "Principal Data Scientist",
                    "Principal Data Scientist",
                    "Principal Data Scientist",
                    "Principal Engineer",
                    "Principal Engineer",
                    "Principal Machine Learning Engineer",
                    "Principal Researcher",
                    "Principal Researcher",
                    "Principal Scientist",
                    "Principal Software Architect",
                    "Principal Statistical Programmer",
                    "Principal Statistical Programmer",
                    "Product Analyst",
                    "Product Analyst",
                    "Product Analyst",
                    "Product Data Analyst",
                    "Product Data Analyst",
                    "Product Data Analyst",
                    "Product Designer",
                    "Product Designer",
                    "Product Designer",
                    "Product Manager",
                    "Product Manager",
                    "Product Manager",
                    "Product Manager",
                    "Product Owner",
                    "Product Owner",
                    "Product Owner",
                    "Product Owner",
                    "Product Specialist",
                    "Product Specialist",
                    "Prompt Engineer",
                    "Prompt Engineer",
                    "Prompt Engineer",
                    "Psychometrician",
                    "Psychometrician",
                    "Python Developer",
                    "Python Developer",
                    "Python Developer",
                    "Python Developer",
                    "QA Engineer",
                    "QA Engineer",
                    "QA Tutor Reviewer",
                    "Quant Options Trader",
                    "Quant Trader",
                    "Quantitative Analyst",
                    "Quantitative Analyst",
                    "Quantitative Analyst",
                    "Quantitative Analyst",
                    "Quantitative Developer",
                    "Quantitative Developer",
                    "Quantitative Developer",
                    "Quantitative Research Analyst",
                    "Quantitative Researcher",
                    "Quantitative Researcher",
                    "Quantitative Researcher",
                    "Quantitative Researcher",
                    "Quantitative Risk Analyst",
                    "Quantitative Trader",
                    "RPA Developer",
                    "Research Analyst",
                    "Research Analyst",
                    "Research Analyst",
                    "Research Analyst",
                    "Research Assistant",
                    "Research Assistant",
                    "Research Assistant",
                    "Research Associate",
                    "Research Associate",
                    "Research Associate",
                    "Research Data Manager",
                    "Research Engineer",
                    "Research Engineer",
                    "Research Engineer",
                    "Research Engineer",
                    "Research Fellow",
                    "Research Fellow",
                    "Research Fellow",
                    "Research Professional",
                    "Research Professional",
                    "Research Scientist",
                    "Research Scientist",
                    "Research Scientist",
                    "Research Scientist",
                    "Research Specialist",
                    "Research Specialist",
                    "Research Specialist",
                    "Research Team Lead",
                    "Researcher",
                    "Researcher",
                    "Researcher",
                    "Researcher",
                    "Risk Analyst",
                    "Risk Analyst",
                    "Risk Analyst",
                    "Risk Analyst",
                    "Robotics Engineer",
                    "Robotics Engineer",
                    "Robotics Engineer",
                    "Robotics Software Engineer",
                    "Robotics Software Engineer",
                    "Robotics Software Engineer",
                    "SAS Developer",
                    "Safety Data Management Specialist",
                    "Sales Data Analyst",
                    "Sales Development Representative",
                    "Sales Development Representative",
                    "Sales Development Representative",
                    "Sales Engineer",
                    "Sales Engineer",
                    "Salesforce Administrator",
                    "Scala Spark Developer",
                    "Security Engineer",
                    "Security Engineer",
                    "Security Researcher",
                    "Security Researcher",
                    "Site Reliability Engineer",
                    "Site Reliability Engineer",
                    "Site Reliability Engineer",
                    "Software Architect",
                    "Software Architect",
                    "Software Architect",
                    "Software Data Engineer",
                    "Software Data Engineer",
                    "Software Developer",
                    "Software Developer",
                    "Software Developer",
                    "Software Developer",
                    "Software Development Director",
                    "Software Development Engineer",
                    "Software Development Engineer",
                    "Software Development Engineer",
                    "Software Development Engineer",
                    "Software Engineer",
                    "Software Engineer",
                    "Software Engineer",
                    "Software Engineer",
                    "Solution Architect",
                    "Solution Architect",
                    "Solution Architect",
                    "Solution Engineer",
                    "Solution Engineer",
                    "Solution Engineer",
                    "Solution Engineer",
                    "Solution Specialist",
                    "Solutions Architect",
                    "Solutions Architect",
                    "Solutions Architect",
                    "Solutions Architect",
                    "Solutions Engineer",
                    "Solutions Engineer",
                    "Solutions Engineer",
                    "Solutions Engineer",
                    "Staff Data Analyst",
                    "Staff Data Analyst",
                    "Staff Data Analyst",
                    "Staff Data Scientist",
                    "Staff Engineer",
                    "Staff Engineer",
                    "Staff Engineer",
                    "Staff Machine Learning Engineer",
                    "Stage",
                    "Stage",
                    "Stage",
                    "Statistical Programmer",
                    "Statistical Programmer",
                    "Statistical Programmer",
                    "Statistician",
                    "Statistician",
                    "Statistician",
                    "Statistician",
                    "System Administrator",
                    "System Administrator",
                    "System Engineer",
                    "System Engineer",
                    "System Engineer",
                    "Systems Administrator",
                    "Systems Administrator",
                    "Systems Administrator",
                    "Systems Engineer",
                    "Systems Engineer",
                    "Systems Engineer",
                    "Systems Engineer",
                    "Tableau Developer",
                    "Tableau Developer",
                    "Tech Lead",
                    "Tech Lead Data",
                    "Technical Architect",
                    "Technical Consultant",
                    "Technical Lead",
                    "Technical Lead",
                    "Technical Project Manager",
                    "Technical Recruiter",
                    "Technical Recruiter",
                    "Technical Specialist",
                    "Technical Specialist",
                    "Technical Specialist",
                    "Technical Support Engineer",
                    "Technical Support Engineer",
                    "Technical Support Specialist",
                    "Technical Writer",
                    "Technical Writer",
                    "Technical Writer",
                    "Technology Integrator",
                    "Technology Integrator",
                    "Trainee",
                    "Web Developer",
                    "Web Developer",
                    "Web Developer",
                    "EN",
                    "EX",
                    "MI",
                    "SE"
                  ],
                  "marker": {
                    "coloraxis": "coloraxis",
                    "colors": [
                      1,
                      1,
                      287,
                      1,
                      2,
                      1,
                      1,
                      3,
                      7,
                      2,
                      22,
                      2,
                      103,
                      95,
                      80,
                      58,
                      683,
                      1192,
                      1,
                      2,
                      4,
                      4,
                      4,
                      1,
                      34,
                      1,
                      2,
                      14,
                      18,
                      9,
                      10,
                      16,
                      4,
                      6,
                      1,
                      3,
                      4,
                      4,
                      3,
                      1,
                      4,
                      11,
                      50,
                      45,
                      10,
                      1,
                      34,
                      93,
                      1,
                      1,
                      4,
                      6,
                      10,
                      16,
                      1,
                      8,
                      2,
                      2,
                      8,
                      2,
                      52,
                      46,
                      4,
                      1,
                      4,
                      6,
                      1,
                      192,
                      13,
                      12,
                      2,
                      6,
                      22,
                      18,
                      3,
                      2,
                      1,
                      1,
                      1,
                      8,
                      22,
                      10,
                      2,
                      1671,
                      78,
                      906,
                      2741,
                      1,
                      52,
                      36,
                      714,
                      1337,
                      1,
                      122,
                      28,
                      12,
                      4,
                      2,
                      16,
                      40,
                      4,
                      18,
                      10,
                      2,
                      5,
                      4,
                      4,
                      1,
                      2,
                      3,
                      7,
                      4,
                      1,
                      1,
                      72,
                      734,
                      1575,
                      2,
                      8,
                      2,
                      835,
                      4,
                      12,
                      12,
                      22,
                      93,
                      28,
                      1922,
                      336,
                      2,
                      2,
                      16,
                      22,
                      2,
                      1,
                      1,
                      1,
                      74,
                      42,
                      331,
                      7,
                      1,
                      9,
                      2,
                      1,
                      14,
                      2,
                      150,
                      140,
                      12,
                      46,
                      62,
                      4,
                      6,
                      2,
                      68,
                      315,
                      1,
                      4,
                      4,
                      4,
                      1,
                      2,
                      5,
                      6,
                      4,
                      6,
                      4,
                      2,
                      20,
                      26,
                      2,
                      4,
                      14,
                      66,
                      4,
                      203,
                      10,
                      66,
                      222,
                      5,
                      11,
                      5,
                      1,
                      2,
                      9,
                      4,
                      1,
                      34,
                      90,
                      80,
                      156,
                      233,
                      2,
                      145,
                      286,
                      2,
                      1,
                      1,
                      38,
                      4,
                      215,
                      158,
                      18,
                      14,
                      350,
                      574,
                      2,
                      2,
                      42,
                      30,
                      10,
                      2,
                      10,
                      20,
                      1,
                      2,
                      2,
                      4,
                      2,
                      1,
                      6,
                      10,
                      2,
                      1,
                      2,
                      1,
                      1,
                      4,
                      12,
                      18,
                      18,
                      25,
                      4,
                      8,
                      6,
                      8,
                      88,
                      104,
                      8,
                      8,
                      2,
                      30,
                      48,
                      2,
                      6,
                      10,
                      12,
                      46,
                      106,
                      3,
                      1,
                      1,
                      114,
                      9,
                      472,
                      768,
                      2,
                      4,
                      1,
                      4,
                      1,
                      14,
                      2,
                      2,
                      1,
                      1,
                      1,
                      2,
                      5,
                      2,
                      2,
                      10,
                      16,
                      10,
                      34,
                      2,
                      5227,
                      110,
                      2600,
                      5842,
                      1,
                      1,
                      2,
                      5,
                      2,
                      8,
                      5,
                      27,
                      8,
                      2,
                      4,
                      6,
                      1,
                      2,
                      2,
                      2,
                      3,
                      130,
                      3,
                      6,
                      201,
                      58,
                      8,
                      50,
                      30,
                      2,
                      12,
                      16,
                      55,
                      2133,
                      4,
                      2,
                      16,
                      12,
                      1,
                      1,
                      1,
                      4,
                      2,
                      90,
                      64,
                      655,
                      577,
                      5242,
                      9878,
                      1,
                      12,
                      128,
                      50,
                      172,
                      72,
                      6,
                      44,
                      72,
                      2,
                      2,
                      4,
                      2,
                      4,
                      20,
                      4,
                      122,
                      2,
                      51,
                      16,
                      6,
                      4,
                      52,
                      34,
                      34,
                      74,
                      8,
                      4,
                      2,
                      4,
                      6,
                      10,
                      4,
                      8,
                      48,
                      34,
                      6,
                      12,
                      58,
                      11,
                      8,
                      10,
                      10,
                      4,
                      6,
                      4,
                      6,
                      10,
                      306,
                      10,
                      34,
                      22,
                      56,
                      168,
                      56,
                      130,
                      26,
                      2,
                      2,
                      2,
                      12,
                      2,
                      2,
                      4,
                      60,
                      8,
                      2,
                      2,
                      16,
                      2,
                      186,
                      67,
                      2,
                      20,
                      22,
                      658,
                      373,
                      2,
                      70,
                      138,
                      2,
                      22,
                      22,
                      10,
                      54,
                      42,
                      32,
                      2,
                      16,
                      4,
                      2,
                      38,
                      34,
                      12,
                      2,
                      26,
                      12,
                      4,
                      38,
                      16,
                      4,
                      2,
                      2,
                      8,
                      12,
                      32,
                      2,
                      4,
                      2,
                      8,
                      156,
                      168,
                      16,
                      86,
                      76,
                      87,
                      4,
                      18,
                      60,
                      1,
                      36,
                      32,
                      2,
                      60,
                      12,
                      4,
                      3,
                      2,
                      14,
                      8,
                      6,
                      2,
                      36,
                      8,
                      24,
                      4,
                      2,
                      1,
                      829,
                      285,
                      5786,
                      11851,
                      1,
                      1,
                      1,
                      2,
                      2,
                      149,
                      4,
                      628,
                      203,
                      2,
                      4,
                      2,
                      2,
                      66,
                      58,
                      24,
                      2,
                      4,
                      50,
                      14,
                      2,
                      9,
                      14,
                      2,
                      2,
                      6,
                      22,
                      6,
                      2,
                      46,
                      46,
                      4,
                      4,
                      4,
                      40,
                      30,
                      2,
                      6,
                      16,
                      6,
                      2,
                      18,
                      20,
                      2,
                      2,
                      26,
                      12,
                      14,
                      2,
                      4,
                      2,
                      70,
                      144,
                      2,
                      4,
                      6,
                      1,
                      22,
                      2,
                      208,
                      331,
                      4,
                      66,
                      26,
                      424,
                      524,
                      2,
                      12,
                      8,
                      616,
                      168,
                      4,
                      2,
                      6,
                      1,
                      32,
                      6,
                      28,
                      2,
                      28,
                      26,
                      1,
                      6,
                      2,
                      22,
                      2,
                      4,
                      26,
                      20,
                      550,
                      382,
                      3376,
                      6696,
                      12,
                      580,
                      310,
                      58,
                      14,
                      84,
                      2,
                      2,
                      1,
                      2,
                      2,
                      2,
                      12,
                      4,
                      1,
                      2,
                      10,
                      10,
                      2,
                      58,
                      76,
                      8,
                      12,
                      60,
                      148,
                      2,
                      22,
                      12,
                      60,
                      2,
                      8,
                      2,
                      4,
                      309,
                      5,
                      18,
                      19,
                      4,
                      1,
                      16,
                      68,
                      40,
                      46,
                      2,
                      2,
                      4,
                      16,
                      1,
                      1,
                      54,
                      8,
                      5,
                      1,
                      1,
                      1,
                      5,
                      2,
                      2,
                      9,
                      106,
                      5,
                      6,
                      12,
                      2,
                      8,
                      38,
                      4,
                      49,
                      144,
                      32,
                      9,
                      27,
                      20,
                      416,
                      76,
                      1991,
                      6404,
                      10,
                      31,
                      12,
                      4,
                      10,
                      2,
                      12,
                      2,
                      10,
                      2,
                      6,
                      10,
                      6,
                      8,
                      3,
                      2,
                      6,
                      64,
                      629,
                      19,
                      4,
                      165,
                      349,
                      4,
                      11,
                      2,
                      13,
                      9,
                      2,
                      2,
                      62,
                      132,
                      4100,
                      3517,
                      2,
                      8,
                      2,
                      2,
                      1,
                      1,
                      2,
                      6,
                      2,
                      8,
                      2,
                      8,
                      2,
                      202,
                      8,
                      5,
                      10,
                      1,
                      1,
                      1,
                      20,
                      42,
                      172,
                      326,
                      2,
                      6,
                      10,
                      66,
                      12,
                      2,
                      4,
                      10,
                      45,
                      8,
                      2,
                      14,
                      12,
                      14,
                      10,
                      8,
                      2,
                      2,
                      10,
                      2,
                      87,
                      52,
                      10,
                      6,
                      4,
                      12,
                      2,
                      40,
                      1,
                      1,
                      1,
                      3,
                      1,
                      1,
                      8,
                      2,
                      52,
                      3,
                      2,
                      32,
                      36,
                      6,
                      8,
                      60,
                      74,
                      44,
                      124,
                      2,
                      3,
                      1,
                      3,
                      18,
                      184,
                      30,
                      30,
                      930,
                      1586,
                      2,
                      6,
                      80,
                      53,
                      16,
                      10,
                      4,
                      46,
                      60,
                      2,
                      4,
                      4,
                      4,
                      56,
                      52,
                      49,
                      44,
                      16,
                      10,
                      1,
                      50,
                      46,
                      49,
                      76,
                      1,
                      28,
                      12,
                      1,
                      10,
                      6,
                      86,
                      20,
                      1,
                      4,
                      2,
                      245,
                      4,
                      51,
                      140,
                      63,
                      52,
                      4,
                      16,
                      226,
                      18,
                      1,
                      107,
                      2,
                      633,
                      995,
                      4,
                      8,
                      2,
                      8,
                      2,
                      365,
                      3,
                      1387,
                      1705,
                      4,
                      14,
                      2,
                      2,
                      14,
                      2,
                      60,
                      86,
                      3,
                      2,
                      4,
                      2,
                      5,
                      42,
                      42,
                      2,
                      4,
                      6,
                      4,
                      1,
                      1,
                      5,
                      8,
                      8,
                      16,
                      14,
                      2,
                      6,
                      16,
                      40,
                      12,
                      28,
                      16,
                      154,
                      332,
                      4,
                      2,
                      68,
                      1,
                      2,
                      50,
                      10,
                      364,
                      374,
                      4,
                      45,
                      4,
                      274,
                      424,
                      626,
                      162,
                      4492,
                      11668,
                      4,
                      6,
                      288,
                      8,
                      4,
                      40,
                      58,
                      8,
                      6,
                      2,
                      16,
                      952,
                      4,
                      14,
                      129,
                      270,
                      1,
                      1,
                      1,
                      3,
                      2,
                      2,
                      46,
                      1,
                      24,
                      2,
                      2,
                      4,
                      44,
                      68,
                      14,
                      6,
                      51,
                      58,
                      2,
                      2,
                      4,
                      40,
                      46,
                      2,
                      6,
                      8,
                      36,
                      2,
                      288,
                      528,
                      2,
                      6,
                      70,
                      2,
                      42,
                      1,
                      4,
                      244,
                      1,
                      8,
                      12,
                      2,
                      6,
                      12,
                      8,
                      20,
                      10,
                      1,
                      14,
                      22,
                      10,
                      2,
                      12,
                      1,
                      2,
                      6,
                      2382.3152309156117,
                      287.39586836416044,
                      2858.337322233784,
                      6134.0663954006695
                    ]
                  },
                  "name": "",
                  "parents": [
                    "EX",
                    "MI",
                    "SE",
                    "EN",
                    "MI",
                    "EN",
                    "SE",
                    "EN",
                    "MI",
                    "SE",
                    "EN",
                    "EX",
                    "MI",
                    "SE",
                    "EN",
                    "EX",
                    "MI",
                    "SE",
                    "SE",
                    "SE",
                    "SE",
                    "MI",
                    "SE",
                    "MI",
                    "SE",
                    "EN",
                    "SE",
                    "SE",
                    "MI",
                    "SE",
                    "MI",
                    "SE",
                    "MI",
                    "EN",
                    "MI",
                    "SE",
                    "EN",
                    "MI",
                    "EN",
                    "MI",
                    "SE",
                    "EN",
                    "MI",
                    "SE",
                    "EN",
                    "EX",
                    "MI",
                    "SE",
                    "SE",
                    "EN",
                    "MI",
                    "SE",
                    "SE",
                    "EX",
                    "SE",
                    "SE",
                    "MI",
                    "SE",
                    "EN",
                    "EX",
                    "MI",
                    "SE",
                    "SE",
                    "EX",
                    "SE",
                    "SE",
                    "MI",
                    "EX",
                    "SE",
                    "EN",
                    "SE",
                    "EX",
                    "MI",
                    "SE",
                    "EN",
                    "MI",
                    "SE",
                    "MI",
                    "SE",
                    "EN",
                    "MI",
                    "SE",
                    "EN",
                    "EN",
                    "EX",
                    "MI",
                    "SE",
                    "MI",
                    "EN",
                    "EX",
                    "MI",
                    "SE",
                    "SE",
                    "SE",
                    "MI",
                    "SE",
                    "EN",
                    "EX",
                    "MI",
                    "SE",
                    "EN",
                    "MI",
                    "SE",
                    "SE",
                    "EN",
                    "MI",
                    "SE",
                    "EX",
                    "MI",
                    "EN",
                    "MI",
                    "SE",
                    "MI",
                    "SE",
                    "EN",
                    "MI",
                    "SE",
                    "EN",
                    "EN",
                    "EX",
                    "SE",
                    "EN",
                    "EX",
                    "MI",
                    "SE",
                    "EN",
                    "EX",
                    "MI",
                    "SE",
                    "EN",
                    "EX",
                    "MI",
                    "SE",
                    "MI",
                    "EN",
                    "SE",
                    "MI",
                    "EN",
                    "MI",
                    "SE",
                    "EN",
                    "EX",
                    "MI",
                    "SE",
                    "EN",
                    "EN",
                    "EX",
                    "MI",
                    "SE",
                    "EN",
                    "MI",
                    "SE",
                    "MI",
                    "SE",
                    "EX",
                    "MI",
                    "SE",
                    "MI",
                    "EN",
                    "MI",
                    "SE",
                    "MI",
                    "SE",
                    "MI",
                    "SE",
                    "EN",
                    "MI",
                    "SE",
                    "EN",
                    "MI",
                    "SE",
                    "EN",
                    "EX",
                    "MI",
                    "SE",
                    "MI",
                    "EN",
                    "EX",
                    "MI",
                    "SE",
                    "EN",
                    "MI",
                    "SE",
                    "MI",
                    "EN",
                    "MI",
                    "SE",
                    "MI",
                    "EN",
                    "EX",
                    "MI",
                    "SE",
                    "EN",
                    "EX",
                    "MI",
                    "SE",
                    "SE",
                    "EN",
                    "MI",
                    "EN",
                    "EX",
                    "MI",
                    "SE",
                    "EN",
                    "EX",
                    "MI",
                    "SE",
                    "EN",
                    "MI",
                    "SE",
                    "MI",
                    "SE",
                    "EN",
                    "MI",
                    "SE",
                    "SE",
                    "EN",
                    "EN",
                    "SE",
                    "MI",
                    "EN",
                    "MI",
                    "MI",
                    "SE",
                    "SE",
                    "EN",
                    "MI",
                    "SE",
                    "EN",
                    "MI",
                    "SE",
                    "MI",
                    "SE",
                    "MI",
                    "SE",
                    "EN",
                    "EX",
                    "MI",
                    "SE",
                    "MI",
                    "SE",
                    "EN",
                    "MI",
                    "SE",
                    "EN",
                    "MI",
                    "SE",
                    "EN",
                    "MI",
                    "SE",
                    "EN",
                    "MI",
                    "SE",
                    "EN",
                    "EX",
                    "MI",
                    "SE",
                    "SE",
                    "MI",
                    "SE",
                    "MI",
                    "MI",
                    "SE",
                    "EN",
                    "MI",
                    "MI",
                    "MI",
                    "EN",
                    "MI",
                    "EN",
                    "MI",
                    "SE",
                    "EN",
                    "EX",
                    "MI",
                    "SE",
                    "MI",
                    "EN",
                    "EX",
                    "MI",
                    "SE",
                    "EN",
                    "MI",
                    "EN",
                    "SE",
                    "MI",
                    "SE",
                    "EN",
                    "MI",
                    "SE",
                    "EN",
                    "MI",
                    "SE",
                    "EN",
                    "MI",
                    "SE",
                    "EN",
                    "MI",
                    "SE",
                    "EN",
                    "EX",
                    "MI",
                    "SE",
                    "EN",
                    "MI",
                    "SE",
                    "SE",
                    "EN",
                    "EX",
                    "MI",
                    "SE",
                    "MI",
                    "EN",
                    "MI",
                    "SE",
                    "EN",
                    "MI",
                    "SE",
                    "EN",
                    "EX",
                    "MI",
                    "SE",
                    "EN",
                    "EX",
                    "MI",
                    "SE",
                    "SE",
                    "EN",
                    "EX",
                    "MI",
                    "SE",
                    "EN",
                    "EX",
                    "MI",
                    "SE",
                    "SE",
                    "EN",
                    "MI",
                    "EN",
                    "MI",
                    "SE",
                    "MI",
                    "SE",
                    "EX",
                    "MI",
                    "SE",
                    "EN",
                    "EX",
                    "MI",
                    "SE",
                    "MI",
                    "SE",
                    "EN",
                    "MI",
                    "SE",
                    "MI",
                    "MI",
                    "SE",
                    "EN",
                    "EX",
                    "MI",
                    "SE",
                    "SE",
                    "EN",
                    "MI",
                    "SE",
                    "MI",
                    "SE",
                    "EN",
                    "MI",
                    "EN",
                    "MI",
                    "EX",
                    "MI",
                    "SE",
                    "EN",
                    "EX",
                    "MI",
                    "SE",
                    "EN",
                    "MI",
                    "SE",
                    "MI",
                    "SE",
                    "EN",
                    "MI",
                    "SE",
                    "SE",
                    "SE",
                    "EX",
                    "SE",
                    "MI",
                    "MI",
                    "MI",
                    "EN",
                    "EX",
                    "MI",
                    "SE",
                    "SE",
                    "EN",
                    "EX",
                    "MI",
                    "SE",
                    "EX",
                    "MI",
                    "SE",
                    "EN",
                    "EX",
                    "MI",
                    "SE",
                    "EN",
                    "MI",
                    "SE",
                    "EN",
                    "MI",
                    "EN",
                    "EX",
                    "MI",
                    "SE",
                    "SE",
                    "EN",
                    "MI",
                    "SE",
                    "EX",
                    "MI",
                    "SE",
                    "MI",
                    "SE",
                    "EN",
                    "EX",
                    "MI",
                    "SE",
                    "EN",
                    "SE",
                    "EN",
                    "EX",
                    "MI",
                    "SE",
                    "EX",
                    "MI",
                    "SE",
                    "EN",
                    "EX",
                    "MI",
                    "SE",
                    "EN",
                    "MI",
                    "SE",
                    "SE",
                    "SE",
                    "MI",
                    "SE",
                    "EN",
                    "EX",
                    "MI",
                    "SE",
                    "MI",
                    "SE",
                    "EN",
                    "MI",
                    "SE",
                    "MI",
                    "SE",
                    "SE",
                    "EN",
                    "EX",
                    "MI",
                    "SE",
                    "MI",
                    "SE",
                    "MI",
                    "SE",
                    "SE",
                    "EN",
                    "EX",
                    "MI",
                    "SE",
                    "MI",
                    "SE",
                    "EN",
                    "EX",
                    "MI",
                    "SE",
                    "SE",
                    "MI",
                    "SE",
                    "SE",
                    "EN",
                    "EX",
                    "MI",
                    "SE",
                    "EN",
                    "EX",
                    "MI",
                    "MI",
                    "SE",
                    "EN",
                    "MI",
                    "SE",
                    "SE",
                    "SE",
                    "EN",
                    "MI",
                    "SE",
                    "MI",
                    "SE",
                    "EN",
                    "SE",
                    "EN",
                    "MI",
                    "SE",
                    "EN",
                    "MI",
                    "SE",
                    "MI",
                    "SE",
                    "MI",
                    "SE",
                    "EX",
                    "MI",
                    "SE",
                    "EN",
                    "MI",
                    "SE",
                    "SE",
                    "EN",
                    "EX",
                    "MI",
                    "SE",
                    "SE",
                    "EN",
                    "EX",
                    "MI",
                    "SE",
                    "MI",
                    "SE",
                    "EN",
                    "EX",
                    "SE",
                    "EX",
                    "EX",
                    "EX",
                    "EX",
                    "EX",
                    "SE",
                    "EX",
                    "EN",
                    "MI",
                    "SE",
                    "EX",
                    "MI",
                    "MI",
                    "SE",
                    "SE",
                    "EN",
                    "MI",
                    "SE",
                    "EN",
                    "EX",
                    "MI",
                    "SE",
                    "EN",
                    "MI",
                    "SE",
                    "EX",
                    "SE",
                    "EX",
                    "SE",
                    "SE",
                    "EN",
                    "SE",
                    "EN",
                    "MI",
                    "MI",
                    "SE",
                    "EN",
                    "MI",
                    "SE",
                    "EN",
                    "EX",
                    "MI",
                    "SE",
                    "EN",
                    "EX",
                    "MI",
                    "SE",
                    "MI",
                    "SE",
                    "SE",
                    "EX",
                    "SE",
                    "EX",
                    "EX",
                    "EN",
                    "EX",
                    "MI",
                    "SE",
                    "EX",
                    "EX",
                    "SE",
                    "SE",
                    "EN",
                    "MI",
                    "SE",
                    "EN",
                    "MI",
                    "MI",
                    "SE",
                    "SE",
                    "SE",
                    "SE",
                    "SE",
                    "MI",
                    "SE",
                    "EX",
                    "MI",
                    "SE",
                    "SE",
                    "MI",
                    "SE",
                    "SE",
                    "SE",
                    "MI",
                    "SE",
                    "EN",
                    "MI",
                    "SE",
                    "EN",
                    "MI",
                    "SE",
                    "SE",
                    "EN",
                    "MI",
                    "SE",
                    "EN",
                    "EX",
                    "MI",
                    "SE",
                    "MI",
                    "SE",
                    "SE",
                    "MI",
                    "SE",
                    "EN",
                    "MI",
                    "SE",
                    "SE",
                    "SE",
                    "MI",
                    "SE",
                    "MI",
                    "SE",
                    "EN",
                    "MI",
                    "EN",
                    "MI",
                    "SE",
                    "EN",
                    "EX",
                    "MI",
                    "SE",
                    "MI",
                    "SE",
                    "EN",
                    "MI",
                    "SE",
                    "SE",
                    "MI",
                    "EN",
                    "EX",
                    "MI",
                    "SE",
                    "SE",
                    "SE",
                    "MI",
                    "SE",
                    "EN",
                    "SE",
                    "MI",
                    "SE",
                    "EN",
                    "EX",
                    "MI",
                    "SE",
                    "MI",
                    "SE",
                    "EX",
                    "MI",
                    "SE",
                    "MI",
                    "EX",
                    "MI",
                    "EN",
                    "EX",
                    "MI",
                    "SE",
                    "MI",
                    "SE",
                    "EN",
                    "MI",
                    "SE",
                    "EX",
                    "MI",
                    "EN",
                    "MI",
                    "SE",
                    "MI",
                    "EN",
                    "MI",
                    "SE",
                    "MI",
                    "SE",
                    "SE",
                    "SE",
                    "EN",
                    "EX",
                    "MI",
                    "SE",
                    "SE",
                    "MI",
                    "SE",
                    "EN",
                    "SE",
                    "SE",
                    "MI",
                    "SE",
                    "SE",
                    "SE",
                    "EX",
                    "MI",
                    "SE",
                    "EX",
                    "SE",
                    "SE",
                    "EX",
                    "SE",
                    "SE",
                    "SE",
                    "MI",
                    "SE",
                    "EN",
                    "MI",
                    "SE",
                    "EN",
                    "MI",
                    "SE",
                    "EN",
                    "MI",
                    "SE",
                    "EN",
                    "EX",
                    "MI",
                    "SE",
                    "EN",
                    "EX",
                    "MI",
                    "SE",
                    "MI",
                    "SE",
                    "EN",
                    "MI",
                    "SE",
                    "MI",
                    "SE",
                    "EN",
                    "EX",
                    "MI",
                    "SE",
                    "MI",
                    "SE",
                    "MI",
                    "EX",
                    "EN",
                    "EN",
                    "EX",
                    "MI",
                    "SE",
                    "EN",
                    "MI",
                    "SE",
                    "EN",
                    "EN",
                    "EX",
                    "MI",
                    "SE",
                    "MI",
                    "MI",
                    "MI",
                    "EN",
                    "EX",
                    "MI",
                    "SE",
                    "EN",
                    "MI",
                    "SE",
                    "EN",
                    "MI",
                    "SE",
                    "MI",
                    "EN",
                    "EX",
                    "MI",
                    "SE",
                    "EN",
                    "MI",
                    "SE",
                    "MI",
                    "SE",
                    "EN",
                    "EX",
                    "MI",
                    "SE",
                    "EN",
                    "MI",
                    "SE",
                    "SE",
                    "EN",
                    "EX",
                    "MI",
                    "SE",
                    "EN",
                    "EX",
                    "MI",
                    "SE",
                    "EN",
                    "MI",
                    "SE",
                    "EX",
                    "MI",
                    "SE",
                    "SE",
                    "SE",
                    "MI",
                    "EN",
                    "MI",
                    "SE",
                    "MI",
                    "SE",
                    "MI",
                    "MI",
                    "MI",
                    "SE",
                    "MI",
                    "SE",
                    "EN",
                    "MI",
                    "SE",
                    "EN",
                    "MI",
                    "SE",
                    "MI",
                    "SE",
                    "EN",
                    "EX",
                    "MI",
                    "SE",
                    "EX",
                    "EN",
                    "EX",
                    "MI",
                    "SE",
                    "EN",
                    "EX",
                    "MI",
                    "SE",
                    "EN",
                    "MI",
                    "SE",
                    "EN",
                    "EX",
                    "MI",
                    "SE",
                    "MI",
                    "EN",
                    "EX",
                    "MI",
                    "SE",
                    "EN",
                    "EX",
                    "MI",
                    "SE",
                    "EN",
                    "EX",
                    "MI",
                    "SE",
                    "EN",
                    "MI",
                    "SE",
                    "SE",
                    "EN",
                    "MI",
                    "SE",
                    "EN",
                    "MI",
                    "SE",
                    "EN",
                    "EX",
                    "MI",
                    "SE",
                    "MI",
                    "SE",
                    "EN",
                    "MI",
                    "SE",
                    "EN",
                    "MI",
                    "SE",
                    "EN",
                    "EX",
                    "MI",
                    "SE",
                    "MI",
                    "SE",
                    "SE",
                    "SE",
                    "SE",
                    "MI",
                    "EX",
                    "SE",
                    "EN",
                    "MI",
                    "SE",
                    "EN",
                    "MI",
                    "SE",
                    "MI",
                    "SE",
                    "MI",
                    "EN",
                    "MI",
                    "SE",
                    "MI",
                    "SE",
                    "EN",
                    "EN",
                    "MI",
                    "SE",
                    "",
                    "",
                    "",
                    ""
                  ],
                  "type": "sunburst",
                  "values": [
                    1,
                    1,
                    287,
                    1,
                    2,
                    1,
                    1,
                    3,
                    7,
                    2,
                    22,
                    2,
                    103,
                    95,
                    80,
                    58,
                    683,
                    1192,
                    1,
                    2,
                    4,
                    4,
                    4,
                    1,
                    34,
                    1,
                    2,
                    14,
                    18,
                    9,
                    10,
                    16,
                    4,
                    6,
                    1,
                    3,
                    4,
                    4,
                    3,
                    1,
                    4,
                    11,
                    50,
                    45,
                    10,
                    1,
                    34,
                    93,
                    1,
                    1,
                    4,
                    6,
                    10,
                    16,
                    1,
                    8,
                    2,
                    2,
                    8,
                    2,
                    52,
                    46,
                    4,
                    1,
                    4,
                    6,
                    1,
                    192,
                    13,
                    12,
                    2,
                    6,
                    22,
                    18,
                    3,
                    2,
                    1,
                    1,
                    1,
                    8,
                    22,
                    10,
                    2,
                    1671,
                    78,
                    906,
                    2741,
                    1,
                    52,
                    36,
                    714,
                    1337,
                    1,
                    122,
                    28,
                    12,
                    4,
                    2,
                    16,
                    40,
                    4,
                    18,
                    10,
                    2,
                    5,
                    4,
                    4,
                    1,
                    2,
                    3,
                    7,
                    4,
                    1,
                    1,
                    72,
                    734,
                    1575,
                    2,
                    8,
                    2,
                    835,
                    4,
                    12,
                    12,
                    22,
                    93,
                    28,
                    1922,
                    336,
                    2,
                    2,
                    16,
                    22,
                    2,
                    1,
                    1,
                    1,
                    74,
                    42,
                    331,
                    7,
                    1,
                    9,
                    2,
                    1,
                    14,
                    2,
                    150,
                    140,
                    12,
                    46,
                    62,
                    4,
                    6,
                    2,
                    68,
                    315,
                    1,
                    4,
                    4,
                    4,
                    1,
                    2,
                    5,
                    6,
                    4,
                    6,
                    4,
                    2,
                    20,
                    26,
                    2,
                    4,
                    14,
                    66,
                    4,
                    203,
                    10,
                    66,
                    222,
                    5,
                    11,
                    5,
                    1,
                    2,
                    9,
                    4,
                    1,
                    34,
                    90,
                    80,
                    156,
                    233,
                    2,
                    145,
                    286,
                    2,
                    1,
                    1,
                    38,
                    4,
                    215,
                    158,
                    18,
                    14,
                    350,
                    574,
                    2,
                    2,
                    42,
                    30,
                    10,
                    2,
                    10,
                    20,
                    1,
                    2,
                    2,
                    4,
                    2,
                    1,
                    6,
                    10,
                    2,
                    1,
                    2,
                    1,
                    1,
                    4,
                    12,
                    18,
                    18,
                    25,
                    4,
                    8,
                    6,
                    8,
                    88,
                    104,
                    8,
                    8,
                    2,
                    30,
                    48,
                    2,
                    6,
                    10,
                    12,
                    46,
                    106,
                    3,
                    1,
                    1,
                    114,
                    9,
                    472,
                    768,
                    2,
                    4,
                    1,
                    4,
                    1,
                    14,
                    2,
                    2,
                    1,
                    1,
                    1,
                    2,
                    5,
                    2,
                    2,
                    10,
                    16,
                    10,
                    34,
                    2,
                    5227,
                    110,
                    2600,
                    5842,
                    1,
                    1,
                    2,
                    5,
                    2,
                    8,
                    5,
                    27,
                    8,
                    2,
                    4,
                    6,
                    1,
                    2,
                    2,
                    2,
                    3,
                    130,
                    3,
                    6,
                    201,
                    58,
                    8,
                    50,
                    30,
                    2,
                    12,
                    16,
                    55,
                    2133,
                    4,
                    2,
                    16,
                    12,
                    1,
                    1,
                    1,
                    4,
                    2,
                    90,
                    64,
                    655,
                    577,
                    5242,
                    9878,
                    1,
                    12,
                    128,
                    50,
                    172,
                    72,
                    6,
                    44,
                    72,
                    2,
                    2,
                    4,
                    2,
                    4,
                    20,
                    4,
                    122,
                    2,
                    51,
                    16,
                    6,
                    4,
                    52,
                    34,
                    34,
                    74,
                    8,
                    4,
                    2,
                    4,
                    6,
                    10,
                    4,
                    8,
                    48,
                    34,
                    6,
                    12,
                    58,
                    11,
                    8,
                    10,
                    10,
                    4,
                    6,
                    4,
                    6,
                    10,
                    306,
                    10,
                    34,
                    22,
                    56,
                    168,
                    56,
                    130,
                    26,
                    2,
                    2,
                    2,
                    12,
                    2,
                    2,
                    4,
                    60,
                    8,
                    2,
                    2,
                    16,
                    2,
                    186,
                    67,
                    2,
                    20,
                    22,
                    658,
                    373,
                    2,
                    70,
                    138,
                    2,
                    22,
                    22,
                    10,
                    54,
                    42,
                    32,
                    2,
                    16,
                    4,
                    2,
                    38,
                    34,
                    12,
                    2,
                    26,
                    12,
                    4,
                    38,
                    16,
                    4,
                    2,
                    2,
                    8,
                    12,
                    32,
                    2,
                    4,
                    2,
                    8,
                    156,
                    168,
                    16,
                    86,
                    76,
                    87,
                    4,
                    18,
                    60,
                    1,
                    36,
                    32,
                    2,
                    60,
                    12,
                    4,
                    3,
                    2,
                    14,
                    8,
                    6,
                    2,
                    36,
                    8,
                    24,
                    4,
                    2,
                    1,
                    829,
                    285,
                    5786,
                    11851,
                    1,
                    1,
                    1,
                    2,
                    2,
                    149,
                    4,
                    628,
                    203,
                    2,
                    4,
                    2,
                    2,
                    66,
                    58,
                    24,
                    2,
                    4,
                    50,
                    14,
                    2,
                    9,
                    14,
                    2,
                    2,
                    6,
                    22,
                    6,
                    2,
                    46,
                    46,
                    4,
                    4,
                    4,
                    40,
                    30,
                    2,
                    6,
                    16,
                    6,
                    2,
                    18,
                    20,
                    2,
                    2,
                    26,
                    12,
                    14,
                    2,
                    4,
                    2,
                    70,
                    144,
                    2,
                    4,
                    6,
                    1,
                    22,
                    2,
                    208,
                    331,
                    4,
                    66,
                    26,
                    424,
                    524,
                    2,
                    12,
                    8,
                    616,
                    168,
                    4,
                    2,
                    6,
                    1,
                    32,
                    6,
                    28,
                    2,
                    28,
                    26,
                    1,
                    6,
                    2,
                    22,
                    2,
                    4,
                    26,
                    20,
                    550,
                    382,
                    3376,
                    6696,
                    12,
                    580,
                    310,
                    58,
                    14,
                    84,
                    2,
                    2,
                    1,
                    2,
                    2,
                    2,
                    12,
                    4,
                    1,
                    2,
                    10,
                    10,
                    2,
                    58,
                    76,
                    8,
                    12,
                    60,
                    148,
                    2,
                    22,
                    12,
                    60,
                    2,
                    8,
                    2,
                    4,
                    309,
                    5,
                    18,
                    19,
                    4,
                    1,
                    16,
                    68,
                    40,
                    46,
                    2,
                    2,
                    4,
                    16,
                    1,
                    1,
                    54,
                    8,
                    5,
                    1,
                    1,
                    1,
                    5,
                    2,
                    2,
                    9,
                    106,
                    5,
                    6,
                    12,
                    2,
                    8,
                    38,
                    4,
                    49,
                    144,
                    32,
                    9,
                    27,
                    20,
                    416,
                    76,
                    1991,
                    6404,
                    10,
                    31,
                    12,
                    4,
                    10,
                    2,
                    12,
                    2,
                    10,
                    2,
                    6,
                    10,
                    6,
                    8,
                    3,
                    2,
                    6,
                    64,
                    629,
                    19,
                    4,
                    165,
                    349,
                    4,
                    11,
                    2,
                    13,
                    9,
                    2,
                    2,
                    62,
                    132,
                    4100,
                    3517,
                    2,
                    8,
                    2,
                    2,
                    1,
                    1,
                    2,
                    6,
                    2,
                    8,
                    2,
                    8,
                    2,
                    202,
                    8,
                    5,
                    10,
                    1,
                    1,
                    1,
                    20,
                    42,
                    172,
                    326,
                    2,
                    6,
                    10,
                    66,
                    12,
                    2,
                    4,
                    10,
                    45,
                    8,
                    2,
                    14,
                    12,
                    14,
                    10,
                    8,
                    2,
                    2,
                    10,
                    2,
                    87,
                    52,
                    10,
                    6,
                    4,
                    12,
                    2,
                    40,
                    1,
                    1,
                    1,
                    3,
                    1,
                    1,
                    8,
                    2,
                    52,
                    3,
                    2,
                    32,
                    36,
                    6,
                    8,
                    60,
                    74,
                    44,
                    124,
                    2,
                    3,
                    1,
                    3,
                    18,
                    184,
                    30,
                    30,
                    930,
                    1586,
                    2,
                    6,
                    80,
                    53,
                    16,
                    10,
                    4,
                    46,
                    60,
                    2,
                    4,
                    4,
                    4,
                    56,
                    52,
                    49,
                    44,
                    16,
                    10,
                    1,
                    50,
                    46,
                    49,
                    76,
                    1,
                    28,
                    12,
                    1,
                    10,
                    6,
                    86,
                    20,
                    1,
                    4,
                    2,
                    245,
                    4,
                    51,
                    140,
                    63,
                    52,
                    4,
                    16,
                    226,
                    18,
                    1,
                    107,
                    2,
                    633,
                    995,
                    4,
                    8,
                    2,
                    8,
                    2,
                    365,
                    3,
                    1387,
                    1705,
                    4,
                    14,
                    2,
                    2,
                    14,
                    2,
                    60,
                    86,
                    3,
                    2,
                    4,
                    2,
                    5,
                    42,
                    42,
                    2,
                    4,
                    6,
                    4,
                    1,
                    1,
                    5,
                    8,
                    8,
                    16,
                    14,
                    2,
                    6,
                    16,
                    40,
                    12,
                    28,
                    16,
                    154,
                    332,
                    4,
                    2,
                    68,
                    1,
                    2,
                    50,
                    10,
                    364,
                    374,
                    4,
                    45,
                    4,
                    274,
                    424,
                    626,
                    162,
                    4492,
                    11668,
                    4,
                    6,
                    288,
                    8,
                    4,
                    40,
                    58,
                    8,
                    6,
                    2,
                    16,
                    952,
                    4,
                    14,
                    129,
                    270,
                    1,
                    1,
                    1,
                    3,
                    2,
                    2,
                    46,
                    1,
                    24,
                    2,
                    2,
                    4,
                    44,
                    68,
                    14,
                    6,
                    51,
                    58,
                    2,
                    2,
                    4,
                    40,
                    46,
                    2,
                    6,
                    8,
                    36,
                    2,
                    288,
                    528,
                    2,
                    6,
                    70,
                    2,
                    42,
                    1,
                    4,
                    244,
                    1,
                    8,
                    12,
                    2,
                    6,
                    12,
                    8,
                    20,
                    10,
                    1,
                    14,
                    22,
                    10,
                    2,
                    12,
                    1,
                    2,
                    6,
                    13663,
                    4163,
                    46128,
                    87491
                  ]
                }
              ],
              "layout": {
                "coloraxis": {
                  "colorbar": {
                    "title": {
                      "text": "count"
                    }
                  },
                  "colorscale": [
                    [
                      0,
                      "rgb(247,251,255)"
                    ],
                    [
                      0.125,
                      "rgb(222,235,247)"
                    ],
                    [
                      0.25,
                      "rgb(198,219,239)"
                    ],
                    [
                      0.375,
                      "rgb(158,202,225)"
                    ],
                    [
                      0.5,
                      "rgb(107,174,214)"
                    ],
                    [
                      0.625,
                      "rgb(66,146,198)"
                    ],
                    [
                      0.75,
                      "rgb(33,113,181)"
                    ],
                    [
                      0.875,
                      "rgb(8,81,156)"
                    ],
                    [
                      1,
                      "rgb(8,48,107)"
                    ]
                  ]
                },
                "legend": {
                  "tracegroupgap": 0
                },
                "template": {
                  "data": {
                    "bar": [
                      {
                        "error_x": {
                          "color": "#2a3f5f"
                        },
                        "error_y": {
                          "color": "#2a3f5f"
                        },
                        "marker": {
                          "line": {
                            "color": "#E5ECF6",
                            "width": 0.5
                          },
                          "pattern": {
                            "fillmode": "overlay",
                            "size": 10,
                            "solidity": 0.2
                          }
                        },
                        "type": "bar"
                      }
                    ],
                    "barpolar": [
                      {
                        "marker": {
                          "line": {
                            "color": "#E5ECF6",
                            "width": 0.5
                          },
                          "pattern": {
                            "fillmode": "overlay",
                            "size": 10,
                            "solidity": 0.2
                          }
                        },
                        "type": "barpolar"
                      }
                    ],
                    "carpet": [
                      {
                        "aaxis": {
                          "endlinecolor": "#2a3f5f",
                          "gridcolor": "white",
                          "linecolor": "white",
                          "minorgridcolor": "white",
                          "startlinecolor": "#2a3f5f"
                        },
                        "baxis": {
                          "endlinecolor": "#2a3f5f",
                          "gridcolor": "white",
                          "linecolor": "white",
                          "minorgridcolor": "white",
                          "startlinecolor": "#2a3f5f"
                        },
                        "type": "carpet"
                      }
                    ],
                    "choropleth": [
                      {
                        "colorbar": {
                          "outlinewidth": 0,
                          "ticks": ""
                        },
                        "type": "choropleth"
                      }
                    ],
                    "contour": [
                      {
                        "colorbar": {
                          "outlinewidth": 0,
                          "ticks": ""
                        },
                        "colorscale": [
                          [
                            0,
                            "#0d0887"
                          ],
                          [
                            0.1111111111111111,
                            "#46039f"
                          ],
                          [
                            0.2222222222222222,
                            "#7201a8"
                          ],
                          [
                            0.3333333333333333,
                            "#9c179e"
                          ],
                          [
                            0.4444444444444444,
                            "#bd3786"
                          ],
                          [
                            0.5555555555555556,
                            "#d8576b"
                          ],
                          [
                            0.6666666666666666,
                            "#ed7953"
                          ],
                          [
                            0.7777777777777778,
                            "#fb9f3a"
                          ],
                          [
                            0.8888888888888888,
                            "#fdca26"
                          ],
                          [
                            1,
                            "#f0f921"
                          ]
                        ],
                        "type": "contour"
                      }
                    ],
                    "contourcarpet": [
                      {
                        "colorbar": {
                          "outlinewidth": 0,
                          "ticks": ""
                        },
                        "type": "contourcarpet"
                      }
                    ],
                    "heatmap": [
                      {
                        "colorbar": {
                          "outlinewidth": 0,
                          "ticks": ""
                        },
                        "colorscale": [
                          [
                            0,
                            "#0d0887"
                          ],
                          [
                            0.1111111111111111,
                            "#46039f"
                          ],
                          [
                            0.2222222222222222,
                            "#7201a8"
                          ],
                          [
                            0.3333333333333333,
                            "#9c179e"
                          ],
                          [
                            0.4444444444444444,
                            "#bd3786"
                          ],
                          [
                            0.5555555555555556,
                            "#d8576b"
                          ],
                          [
                            0.6666666666666666,
                            "#ed7953"
                          ],
                          [
                            0.7777777777777778,
                            "#fb9f3a"
                          ],
                          [
                            0.8888888888888888,
                            "#fdca26"
                          ],
                          [
                            1,
                            "#f0f921"
                          ]
                        ],
                        "type": "heatmap"
                      }
                    ],
                    "heatmapgl": [
                      {
                        "colorbar": {
                          "outlinewidth": 0,
                          "ticks": ""
                        },
                        "colorscale": [
                          [
                            0,
                            "#0d0887"
                          ],
                          [
                            0.1111111111111111,
                            "#46039f"
                          ],
                          [
                            0.2222222222222222,
                            "#7201a8"
                          ],
                          [
                            0.3333333333333333,
                            "#9c179e"
                          ],
                          [
                            0.4444444444444444,
                            "#bd3786"
                          ],
                          [
                            0.5555555555555556,
                            "#d8576b"
                          ],
                          [
                            0.6666666666666666,
                            "#ed7953"
                          ],
                          [
                            0.7777777777777778,
                            "#fb9f3a"
                          ],
                          [
                            0.8888888888888888,
                            "#fdca26"
                          ],
                          [
                            1,
                            "#f0f921"
                          ]
                        ],
                        "type": "heatmapgl"
                      }
                    ],
                    "histogram": [
                      {
                        "marker": {
                          "pattern": {
                            "fillmode": "overlay",
                            "size": 10,
                            "solidity": 0.2
                          }
                        },
                        "type": "histogram"
                      }
                    ],
                    "histogram2d": [
                      {
                        "colorbar": {
                          "outlinewidth": 0,
                          "ticks": ""
                        },
                        "colorscale": [
                          [
                            0,
                            "#0d0887"
                          ],
                          [
                            0.1111111111111111,
                            "#46039f"
                          ],
                          [
                            0.2222222222222222,
                            "#7201a8"
                          ],
                          [
                            0.3333333333333333,
                            "#9c179e"
                          ],
                          [
                            0.4444444444444444,
                            "#bd3786"
                          ],
                          [
                            0.5555555555555556,
                            "#d8576b"
                          ],
                          [
                            0.6666666666666666,
                            "#ed7953"
                          ],
                          [
                            0.7777777777777778,
                            "#fb9f3a"
                          ],
                          [
                            0.8888888888888888,
                            "#fdca26"
                          ],
                          [
                            1,
                            "#f0f921"
                          ]
                        ],
                        "type": "histogram2d"
                      }
                    ],
                    "histogram2dcontour": [
                      {
                        "colorbar": {
                          "outlinewidth": 0,
                          "ticks": ""
                        },
                        "colorscale": [
                          [
                            0,
                            "#0d0887"
                          ],
                          [
                            0.1111111111111111,
                            "#46039f"
                          ],
                          [
                            0.2222222222222222,
                            "#7201a8"
                          ],
                          [
                            0.3333333333333333,
                            "#9c179e"
                          ],
                          [
                            0.4444444444444444,
                            "#bd3786"
                          ],
                          [
                            0.5555555555555556,
                            "#d8576b"
                          ],
                          [
                            0.6666666666666666,
                            "#ed7953"
                          ],
                          [
                            0.7777777777777778,
                            "#fb9f3a"
                          ],
                          [
                            0.8888888888888888,
                            "#fdca26"
                          ],
                          [
                            1,
                            "#f0f921"
                          ]
                        ],
                        "type": "histogram2dcontour"
                      }
                    ],
                    "mesh3d": [
                      {
                        "colorbar": {
                          "outlinewidth": 0,
                          "ticks": ""
                        },
                        "type": "mesh3d"
                      }
                    ],
                    "parcoords": [
                      {
                        "line": {
                          "colorbar": {
                            "outlinewidth": 0,
                            "ticks": ""
                          }
                        },
                        "type": "parcoords"
                      }
                    ],
                    "pie": [
                      {
                        "automargin": true,
                        "type": "pie"
                      }
                    ],
                    "scatter": [
                      {
                        "fillpattern": {
                          "fillmode": "overlay",
                          "size": 10,
                          "solidity": 0.2
                        },
                        "type": "scatter"
                      }
                    ],
                    "scatter3d": [
                      {
                        "line": {
                          "colorbar": {
                            "outlinewidth": 0,
                            "ticks": ""
                          }
                        },
                        "marker": {
                          "colorbar": {
                            "outlinewidth": 0,
                            "ticks": ""
                          }
                        },
                        "type": "scatter3d"
                      }
                    ],
                    "scattercarpet": [
                      {
                        "marker": {
                          "colorbar": {
                            "outlinewidth": 0,
                            "ticks": ""
                          }
                        },
                        "type": "scattercarpet"
                      }
                    ],
                    "scattergeo": [
                      {
                        "marker": {
                          "colorbar": {
                            "outlinewidth": 0,
                            "ticks": ""
                          }
                        },
                        "type": "scattergeo"
                      }
                    ],
                    "scattergl": [
                      {
                        "marker": {
                          "colorbar": {
                            "outlinewidth": 0,
                            "ticks": ""
                          }
                        },
                        "type": "scattergl"
                      }
                    ],
                    "scattermapbox": [
                      {
                        "marker": {
                          "colorbar": {
                            "outlinewidth": 0,
                            "ticks": ""
                          }
                        },
                        "type": "scattermapbox"
                      }
                    ],
                    "scatterpolar": [
                      {
                        "marker": {
                          "colorbar": {
                            "outlinewidth": 0,
                            "ticks": ""
                          }
                        },
                        "type": "scatterpolar"
                      }
                    ],
                    "scatterpolargl": [
                      {
                        "marker": {
                          "colorbar": {
                            "outlinewidth": 0,
                            "ticks": ""
                          }
                        },
                        "type": "scatterpolargl"
                      }
                    ],
                    "scatterternary": [
                      {
                        "marker": {
                          "colorbar": {
                            "outlinewidth": 0,
                            "ticks": ""
                          }
                        },
                        "type": "scatterternary"
                      }
                    ],
                    "surface": [
                      {
                        "colorbar": {
                          "outlinewidth": 0,
                          "ticks": ""
                        },
                        "colorscale": [
                          [
                            0,
                            "#0d0887"
                          ],
                          [
                            0.1111111111111111,
                            "#46039f"
                          ],
                          [
                            0.2222222222222222,
                            "#7201a8"
                          ],
                          [
                            0.3333333333333333,
                            "#9c179e"
                          ],
                          [
                            0.4444444444444444,
                            "#bd3786"
                          ],
                          [
                            0.5555555555555556,
                            "#d8576b"
                          ],
                          [
                            0.6666666666666666,
                            "#ed7953"
                          ],
                          [
                            0.7777777777777778,
                            "#fb9f3a"
                          ],
                          [
                            0.8888888888888888,
                            "#fdca26"
                          ],
                          [
                            1,
                            "#f0f921"
                          ]
                        ],
                        "type": "surface"
                      }
                    ],
                    "table": [
                      {
                        "cells": {
                          "fill": {
                            "color": "#EBF0F8"
                          },
                          "line": {
                            "color": "white"
                          }
                        },
                        "header": {
                          "fill": {
                            "color": "#C8D4E3"
                          },
                          "line": {
                            "color": "white"
                          }
                        },
                        "type": "table"
                      }
                    ]
                  },
                  "layout": {
                    "annotationdefaults": {
                      "arrowcolor": "#2a3f5f",
                      "arrowhead": 0,
                      "arrowwidth": 1
                    },
                    "autotypenumbers": "strict",
                    "coloraxis": {
                      "colorbar": {
                        "outlinewidth": 0,
                        "ticks": ""
                      }
                    },
                    "colorscale": {
                      "diverging": [
                        [
                          0,
                          "#8e0152"
                        ],
                        [
                          0.1,
                          "#c51b7d"
                        ],
                        [
                          0.2,
                          "#de77ae"
                        ],
                        [
                          0.3,
                          "#f1b6da"
                        ],
                        [
                          0.4,
                          "#fde0ef"
                        ],
                        [
                          0.5,
                          "#f7f7f7"
                        ],
                        [
                          0.6,
                          "#e6f5d0"
                        ],
                        [
                          0.7,
                          "#b8e186"
                        ],
                        [
                          0.8,
                          "#7fbc41"
                        ],
                        [
                          0.9,
                          "#4d9221"
                        ],
                        [
                          1,
                          "#276419"
                        ]
                      ],
                      "sequential": [
                        [
                          0,
                          "#0d0887"
                        ],
                        [
                          0.1111111111111111,
                          "#46039f"
                        ],
                        [
                          0.2222222222222222,
                          "#7201a8"
                        ],
                        [
                          0.3333333333333333,
                          "#9c179e"
                        ],
                        [
                          0.4444444444444444,
                          "#bd3786"
                        ],
                        [
                          0.5555555555555556,
                          "#d8576b"
                        ],
                        [
                          0.6666666666666666,
                          "#ed7953"
                        ],
                        [
                          0.7777777777777778,
                          "#fb9f3a"
                        ],
                        [
                          0.8888888888888888,
                          "#fdca26"
                        ],
                        [
                          1,
                          "#f0f921"
                        ]
                      ],
                      "sequentialminus": [
                        [
                          0,
                          "#0d0887"
                        ],
                        [
                          0.1111111111111111,
                          "#46039f"
                        ],
                        [
                          0.2222222222222222,
                          "#7201a8"
                        ],
                        [
                          0.3333333333333333,
                          "#9c179e"
                        ],
                        [
                          0.4444444444444444,
                          "#bd3786"
                        ],
                        [
                          0.5555555555555556,
                          "#d8576b"
                        ],
                        [
                          0.6666666666666666,
                          "#ed7953"
                        ],
                        [
                          0.7777777777777778,
                          "#fb9f3a"
                        ],
                        [
                          0.8888888888888888,
                          "#fdca26"
                        ],
                        [
                          1,
                          "#f0f921"
                        ]
                      ]
                    },
                    "colorway": [
                      "#636efa",
                      "#EF553B",
                      "#00cc96",
                      "#ab63fa",
                      "#FFA15A",
                      "#19d3f3",
                      "#FF6692",
                      "#B6E880",
                      "#FF97FF",
                      "#FECB52"
                    ],
                    "font": {
                      "color": "#2a3f5f"
                    },
                    "geo": {
                      "bgcolor": "white",
                      "lakecolor": "white",
                      "landcolor": "#E5ECF6",
                      "showlakes": true,
                      "showland": true,
                      "subunitcolor": "white"
                    },
                    "hoverlabel": {
                      "align": "left"
                    },
                    "hovermode": "closest",
                    "mapbox": {
                      "style": "light"
                    },
                    "paper_bgcolor": "white",
                    "plot_bgcolor": "#E5ECF6",
                    "polar": {
                      "angularaxis": {
                        "gridcolor": "white",
                        "linecolor": "white",
                        "ticks": ""
                      },
                      "bgcolor": "#E5ECF6",
                      "radialaxis": {
                        "gridcolor": "white",
                        "linecolor": "white",
                        "ticks": ""
                      }
                    },
                    "scene": {
                      "xaxis": {
                        "backgroundcolor": "#E5ECF6",
                        "gridcolor": "white",
                        "gridwidth": 2,
                        "linecolor": "white",
                        "showbackground": true,
                        "ticks": "",
                        "zerolinecolor": "white"
                      },
                      "yaxis": {
                        "backgroundcolor": "#E5ECF6",
                        "gridcolor": "white",
                        "gridwidth": 2,
                        "linecolor": "white",
                        "showbackground": true,
                        "ticks": "",
                        "zerolinecolor": "white"
                      },
                      "zaxis": {
                        "backgroundcolor": "#E5ECF6",
                        "gridcolor": "white",
                        "gridwidth": 2,
                        "linecolor": "white",
                        "showbackground": true,
                        "ticks": "",
                        "zerolinecolor": "white"
                      }
                    },
                    "shapedefaults": {
                      "line": {
                        "color": "#2a3f5f"
                      }
                    },
                    "ternary": {
                      "aaxis": {
                        "gridcolor": "white",
                        "linecolor": "white",
                        "ticks": ""
                      },
                      "baxis": {
                        "gridcolor": "white",
                        "linecolor": "white",
                        "ticks": ""
                      },
                      "bgcolor": "#E5ECF6",
                      "caxis": {
                        "gridcolor": "white",
                        "linecolor": "white",
                        "ticks": ""
                      }
                    },
                    "title": {
                      "x": 0.05
                    },
                    "xaxis": {
                      "automargin": true,
                      "gridcolor": "white",
                      "linecolor": "white",
                      "ticks": "",
                      "title": {
                        "standoff": 15
                      },
                      "zerolinecolor": "white",
                      "zerolinewidth": 2
                    },
                    "yaxis": {
                      "automargin": true,
                      "gridcolor": "white",
                      "linecolor": "white",
                      "ticks": "",
                      "title": {
                        "standoff": 15
                      },
                      "zerolinecolor": "white",
                      "zerolinewidth": 2
                    }
                  }
                },
                "title": {
                  "text": "Sunburst Chart: Job Titles by Experience Level"
                }
              }
            }
          },
          "metadata": {},
          "output_type": "display_data"
        }
      ],
      "source": [
        "sunburst_data = df.groupby(['experience_level', 'job_title']).size().reset_index(name='count')\n",
        "fig = px.sunburst(sunburst_data, path=['experience_level', 'job_title'], values='count',\n",
        "                  title='Sunburst Chart: Job Titles by Experience Level',\n",
        "                  color='count', color_continuous_scale='Blues')\n",
        "fig.show()"
      ]
    },
    {
      "cell_type": "markdown",
      "metadata": {},
      "source": [
        "The sunburst chart above visualizes the hierarchical relationship between experience level, employment type, and job title in the dataset. Each segment represents a category, with the center showing the highest level (experience level), followed by employment type, and then job title at the outermost ring. The size of each segment is proportional to the number of records in that category. This visualization helps to explore the distribution and composition of job roles within each experience and employment type, making it easy to identify dominant categories and compare their relative sizes."
      ]
    },
    {
      "cell_type": "markdown",
      "metadata": {},
      "source": [
        "---"
      ]
    },
    {
      "cell_type": "markdown",
      "metadata": {},
      "source": [
        "NOTE"
      ]
    },
    {
      "cell_type": "markdown",
      "metadata": {},
      "source": [
        "* You may add as many sections as you want, as long as it supports your project workflow.\n",
        "* All notebook's cells should be run top-down (you can't create a dynamic wherein a given point you need to go back to a previous cell to execute some task, like go back to a previous cell and refresh a variable content)"
      ]
    },
    {
      "cell_type": "markdown",
      "metadata": {},
      "source": [
        "---"
      ]
    }
  ],
  "metadata": {
    "accelerator": "GPU",
    "colab": {
      "name": "Data Practitioner Jupyter Notebook.ipynb",
      "provenance": [],
      "toc_visible": true
    },
    "kernelspec": {
      "display_name": ".venv",
      "language": "python",
      "name": "python3"
    },
    "language_info": {
      "codemirror_mode": {
        "name": "ipython",
        "version": 3
      },
      "file_extension": ".py",
      "mimetype": "text/x-python",
      "name": "python",
      "nbconvert_exporter": "python",
      "pygments_lexer": "ipython3",
      "version": "3.12.8"
    },
    "orig_nbformat": 2
  },
  "nbformat": 4,
  "nbformat_minor": 2
}
