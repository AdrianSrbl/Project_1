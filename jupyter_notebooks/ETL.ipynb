{
  "cells": [
    {
      "cell_type": "markdown",
      "metadata": {
        "id": "0aStgWSO0E0E"
      },
      "source": [
        "# **Data Science Salaries on US Marketplace**\n"
      ]
    },
    {
      "cell_type": "markdown",
      "metadata": {},
      "source": []
    },
    {
      "cell_type": "markdown",
      "metadata": {
        "id": "1eLEkw5O0ECa"
      },
      "source": [
        "## Objectives\n",
        "\n",
        "* Analysing salary trends and how they vary across year, title, experience and location\n",
        "\n",
        "## Inputs\n",
        "\n",
        "* The input is \"salaries.csv\"\n",
        "\n",
        "## Outputs\n",
        "\n",
        "* The output is \"salaries_processed.csv\" and is saved into dataset folder/processed in our project ready for data visualisation.\n"
      ]
    },
    {
      "cell_type": "markdown",
      "metadata": {
        "id": "9uWZXH9LwoQg"
      },
      "source": [
        "---"
      ]
    },
    {
      "cell_type": "markdown",
      "metadata": {
        "id": "cqP-UeN-z3i2"
      },
      "source": [
        "# Change working directory"
      ]
    },
    {
      "cell_type": "markdown",
      "metadata": {},
      "source": [
        "* We are assuming you will store the notebooks in a subfolder, therefore when running the notebook in the editor, you will need to change the working directory"
      ]
    },
    {
      "cell_type": "markdown",
      "metadata": {
        "id": "aOGIGS-uz3i2"
      },
      "source": [
        "We need to change the working directory from its current folder to its parent folder\n",
        "* We access the current directory with os.getcwd()"
      ]
    },
    {
      "cell_type": "code",
      "execution_count": 2,
      "metadata": {
        "id": "wZfF_j-Bz3i4",
        "outputId": "66943449-1436-4c3d-85c7-b85f9f78349b"
      },
      "outputs": [
        {
          "data": {
            "text/plain": [
              "'d:\\\\VS-projects\\\\my_first_project\\\\Project_1\\\\jupyter_notebooks'"
            ]
          },
          "execution_count": 2,
          "metadata": {},
          "output_type": "execute_result"
        }
      ],
      "source": [
        "import os\n",
        "current_dir = os.getcwd()\n",
        "current_dir"
      ]
    },
    {
      "cell_type": "markdown",
      "metadata": {
        "id": "9MWW8E7lz3i7"
      },
      "source": [
        "We want to make the parent of the current directory the new current directory\n",
        "* os.path.dirname() gets the parent directory\n",
        "* os.chir() defines the new current directory"
      ]
    },
    {
      "cell_type": "code",
      "execution_count": 3,
      "metadata": {
        "id": "TwHsQRWjz3i9",
        "outputId": "86849db3-cd2f-4cc5-ebb8-2d0caafa1a2c"
      },
      "outputs": [
        {
          "name": "stdout",
          "output_type": "stream",
          "text": [
            "Set a new current directory\n"
          ]
        }
      ],
      "source": [
        "os.chdir(os.path.dirname(current_dir))\n",
        "print(\"Set a new current directory\")"
      ]
    },
    {
      "cell_type": "markdown",
      "metadata": {
        "id": "M_xPk_Ijz3i-"
      },
      "source": [
        "Confirm the new current directory"
      ]
    },
    {
      "cell_type": "code",
      "execution_count": 4,
      "metadata": {
        "id": "vz3S-_kjz3jA",
        "outputId": "00b79ae4-75d0-4a96-d193-ac9ef9847ea2"
      },
      "outputs": [
        {
          "data": {
            "text/plain": [
              "'d:\\\\VS-projects\\\\my_first_project\\\\Project_1'"
            ]
          },
          "execution_count": 4,
          "metadata": {},
          "output_type": "execute_result"
        }
      ],
      "source": [
        "current_dir = os.getcwd()\n",
        "current_dir"
      ]
    },
    {
      "cell_type": "markdown",
      "metadata": {},
      "source": [
        "# Content"
      ]
    },
    {
      "cell_type": "markdown",
      "metadata": {},
      "source": [
        "* Extraction: loading data from a CSV file"
      ]
    },
    {
      "cell_type": "code",
      "execution_count": 5,
      "metadata": {},
      "outputs": [
        {
          "data": {
            "text/html": [
              "<div>\n",
              "<style scoped>\n",
              "    .dataframe tbody tr th:only-of-type {\n",
              "        vertical-align: middle;\n",
              "    }\n",
              "\n",
              "    .dataframe tbody tr th {\n",
              "        vertical-align: top;\n",
              "    }\n",
              "\n",
              "    .dataframe thead th {\n",
              "        text-align: right;\n",
              "    }\n",
              "</style>\n",
              "<table border=\"1\" class=\"dataframe\">\n",
              "  <thead>\n",
              "    <tr style=\"text-align: right;\">\n",
              "      <th></th>\n",
              "      <th>work_year</th>\n",
              "      <th>experience_level</th>\n",
              "      <th>employment_type</th>\n",
              "      <th>job_title</th>\n",
              "      <th>salary</th>\n",
              "      <th>salary_currency</th>\n",
              "      <th>salary_in_usd</th>\n",
              "      <th>employee_residence</th>\n",
              "      <th>remote_ratio</th>\n",
              "      <th>company_location</th>\n",
              "      <th>company_size</th>\n",
              "    </tr>\n",
              "  </thead>\n",
              "  <tbody>\n",
              "    <tr>\n",
              "      <th>0</th>\n",
              "      <td>2025</td>\n",
              "      <td>EX</td>\n",
              "      <td>FT</td>\n",
              "      <td>Head of Data</td>\n",
              "      <td>348516</td>\n",
              "      <td>USD</td>\n",
              "      <td>348516</td>\n",
              "      <td>US</td>\n",
              "      <td>0</td>\n",
              "      <td>US</td>\n",
              "      <td>M</td>\n",
              "    </tr>\n",
              "    <tr>\n",
              "      <th>1</th>\n",
              "      <td>2025</td>\n",
              "      <td>EX</td>\n",
              "      <td>FT</td>\n",
              "      <td>Head of Data</td>\n",
              "      <td>232344</td>\n",
              "      <td>USD</td>\n",
              "      <td>232344</td>\n",
              "      <td>US</td>\n",
              "      <td>0</td>\n",
              "      <td>US</td>\n",
              "      <td>M</td>\n",
              "    </tr>\n",
              "    <tr>\n",
              "      <th>2</th>\n",
              "      <td>2025</td>\n",
              "      <td>SE</td>\n",
              "      <td>FT</td>\n",
              "      <td>Data Scientist</td>\n",
              "      <td>145400</td>\n",
              "      <td>USD</td>\n",
              "      <td>145400</td>\n",
              "      <td>US</td>\n",
              "      <td>0</td>\n",
              "      <td>US</td>\n",
              "      <td>M</td>\n",
              "    </tr>\n",
              "    <tr>\n",
              "      <th>3</th>\n",
              "      <td>2025</td>\n",
              "      <td>SE</td>\n",
              "      <td>FT</td>\n",
              "      <td>Data Scientist</td>\n",
              "      <td>81600</td>\n",
              "      <td>USD</td>\n",
              "      <td>81600</td>\n",
              "      <td>US</td>\n",
              "      <td>0</td>\n",
              "      <td>US</td>\n",
              "      <td>M</td>\n",
              "    </tr>\n",
              "    <tr>\n",
              "      <th>4</th>\n",
              "      <td>2025</td>\n",
              "      <td>MI</td>\n",
              "      <td>FT</td>\n",
              "      <td>Engineer</td>\n",
              "      <td>160000</td>\n",
              "      <td>USD</td>\n",
              "      <td>160000</td>\n",
              "      <td>US</td>\n",
              "      <td>100</td>\n",
              "      <td>US</td>\n",
              "      <td>M</td>\n",
              "    </tr>\n",
              "  </tbody>\n",
              "</table>\n",
              "</div>"
            ],
            "text/plain": [
              "   work_year experience_level employment_type       job_title  salary  \\\n",
              "0       2025               EX              FT    Head of Data  348516   \n",
              "1       2025               EX              FT    Head of Data  232344   \n",
              "2       2025               SE              FT  Data Scientist  145400   \n",
              "3       2025               SE              FT  Data Scientist   81600   \n",
              "4       2025               MI              FT        Engineer  160000   \n",
              "\n",
              "  salary_currency  salary_in_usd employee_residence  remote_ratio  \\\n",
              "0             USD         348516                 US             0   \n",
              "1             USD         232344                 US             0   \n",
              "2             USD         145400                 US             0   \n",
              "3             USD          81600                 US             0   \n",
              "4             USD         160000                 US           100   \n",
              "\n",
              "  company_location company_size  \n",
              "0               US            M  \n",
              "1               US            M  \n",
              "2               US            M  \n",
              "3               US            M  \n",
              "4               US            M  "
            ]
          },
          "execution_count": 5,
          "metadata": {},
          "output_type": "execute_result"
        }
      ],
      "source": [
        "import pandas as pd\n",
        "df = pd.read_csv('dataset/raw/salaries.csv')\n",
        "df.head()"
      ]
    },
    {
      "cell_type": "markdown",
      "metadata": {},
      "source": [
        "* Dataset overview"
      ]
    },
    {
      "cell_type": "code",
      "execution_count": null,
      "metadata": {},
      "outputs": [
        {
          "name": "stdout",
          "output_type": "stream",
          "text": [
            "DataSet shape: (151445, 11)\n",
            "DataSet columns: ['work_year', 'experience_level', 'employment_type', 'job_title', 'salary', 'salary_currency', 'salary_in_usd', 'employee_residence', 'remote_ratio', 'company_location', 'company_size']\n",
            "DataSet info:\n",
            "<class 'pandas.core.frame.DataFrame'>\n",
            "RangeIndex: 151445 entries, 0 to 151444\n",
            "Data columns (total 11 columns):\n",
            " #   Column              Non-Null Count   Dtype \n",
            "---  ------              --------------   ----- \n",
            " 0   work_year           151445 non-null  int64 \n",
            " 1   experience_level    151445 non-null  object\n",
            " 2   employment_type     151445 non-null  object\n",
            " 3   job_title           151445 non-null  object\n",
            " 4   salary              151445 non-null  int64 \n",
            " 5   salary_currency     151445 non-null  object\n",
            " 6   salary_in_usd       151445 non-null  int64 \n",
            " 7   employee_residence  151445 non-null  object\n",
            " 8   remote_ratio        151445 non-null  int64 \n",
            " 9   company_location    151445 non-null  object\n",
            " 10  company_size        151445 non-null  object\n",
            "dtypes: int64(4), object(7)\n",
            "memory usage: 12.7+ MB\n"
          ]
        }
      ],
      "source": [
        "print(f\"DataSet shape: {df.shape}\")\n",
        "print(f\"DataSet columns: {df.columns.tolist()}\")\n",
        "print(f\"DataSet info:\")\n",
        "df.info()"
      ]
    },
    {
      "cell_type": "markdown",
      "metadata": {},
      "source": [
        "We can extract some valuable information from our dataset by analyzing the above output. Our dataframe contains eleven columns and 151445 rows. Four columns describe variables which represent numbers such as salary and year, and seven variables describe categorical data such as job title and location."
      ]
    },
    {
      "cell_type": "markdown",
      "metadata": {},
      "source": [
        "* Statistical overview"
      ]
    },
    {
      "cell_type": "code",
      "execution_count": null,
      "metadata": {},
      "outputs": [
        {
          "name": "stdout",
          "output_type": "stream",
          "text": [
            "DataSet description:\n",
            "           work_year        salary  salary_in_usd   remote_ratio\n",
            "count  151445.000000  1.514450e+05  151445.000000  151445.000000\n",
            "mean     2024.435313  1.628380e+05  157527.458411      20.938625\n",
            "std         0.671842  2.080124e+05   74150.772377      40.620393\n",
            "min      2020.000000  1.400000e+04   15000.000000       0.000000\n",
            "25%      2024.000000  1.060000e+05  105800.000000       0.000000\n",
            "50%      2025.000000  1.470000e+05  146100.000000       0.000000\n",
            "75%      2025.000000  1.990000e+05  198000.000000       0.000000\n",
            "max      2025.000000  3.040000e+07  800000.000000     100.000000\n"
          ]
        }
      ],
      "source": [
        "print(f\"DataSet description:\")\n",
        "print(df.describe())"
      ]
    },
    {
      "cell_type": "markdown",
      "metadata": {},
      "source": [
        "Analysing the DataSet description we can observe that entry-level roles start at 15.000 USD and rise up to 800.000 USD, while the majority of the roles show a salary of 15.7527 USD probably caused by the type of employment and experience level. \n"
      ]
    },
    {
      "cell_type": "markdown",
      "metadata": {},
      "source": [
        "**Data transformation**   \n",
        "  * Cleaning data\n",
        "     * Checking for missing values"
      ]
    },
    {
      "cell_type": "code",
      "execution_count": null,
      "metadata": {},
      "outputs": [
        {
          "name": "stdout",
          "output_type": "stream",
          "text": [
            "Missing values in each column:\n",
            "Series([], dtype: int64)\n"
          ]
        }
      ],
      "source": [
        "missing_values = df.isnull().sum()\n",
        "missing_columns = df.columns[df.isnull().any()].tolist()\n",
        "print(\"Missing values in each column:\")\n",
        "print(missing_values[missing_values > 0])"
      ]
    },
    {
      "cell_type": "markdown",
      "metadata": {},
      "source": [
        "No missing data were found in the dataset."
      ]
    },
    {
      "cell_type": "markdown",
      "metadata": {},
      "source": [
        "* Checking for duplicates"
      ]
    },
    {
      "cell_type": "code",
      "execution_count": null,
      "metadata": {},
      "outputs": [
        {
          "data": {
            "text/plain": [
              "(151445, 11)"
            ]
          },
          "execution_count": 9,
          "metadata": {},
          "output_type": "execute_result"
        }
      ],
      "source": [
        "\n",
        "df.duplicated().any\n",
        "df.shape\n"
      ]
    },
    {
      "cell_type": "markdown",
      "metadata": {},
      "source": [
        "No duplicate rows were found in the dataset."
      ]
    },
    {
      "cell_type": "markdown",
      "metadata": {},
      "source": [
        "* Checking if variables are in the correct format."
      ]
    },
    {
      "cell_type": "code",
      "execution_count": null,
      "metadata": {},
      "outputs": [
        {
          "data": {
            "text/plain": [
              "work_year              int64\n",
              "experience_level      object\n",
              "employment_type       object\n",
              "job_title             object\n",
              "salary                 int64\n",
              "salary_currency       object\n",
              "salary_in_usd          int64\n",
              "employee_residence    object\n",
              "remote_ratio           int64\n",
              "company_location      object\n",
              "company_size          object\n",
              "dtype: object"
            ]
          },
          "execution_count": 10,
          "metadata": {},
          "output_type": "execute_result"
        }
      ],
      "source": [
        "df.dtypes"
      ]
    },
    {
      "cell_type": "markdown",
      "metadata": {},
      "source": [
        "As we can notice from the above output, all the variables are of the expected data types."
      ]
    },
    {
      "cell_type": "markdown",
      "metadata": {},
      "source": [
        "* Dropping no needed columns on our DataFrame\n",
        "  For a better analysis, we will drop the following columns: employee residence, company size, salary, salary currency, and employment type."
      ]
    },
    {
      "cell_type": "code",
      "execution_count": null,
      "metadata": {},
      "outputs": [],
      "source": [
        "df.drop([\"employee_residence\", \"company_size\", \"salary_currency\", \"salary\", \"employment_type\"], axis=1, inplace=True)"
      ]
    },
    {
      "cell_type": "markdown",
      "metadata": {},
      "source": [
        "* To make sure our DataFrame has dropped no needed columns we can check the remaining columns."
      ]
    },
    {
      "cell_type": "code",
      "execution_count": null,
      "metadata": {},
      "outputs": [
        {
          "name": "stdout",
          "output_type": "stream",
          "text": [
            "['work_year', 'experience_level', 'job_title', 'salary_in_usd', 'remote_ratio', 'company_location']\n"
          ]
        }
      ],
      "source": [
        "print(df.columns.tolist())"
      ]
    },
    {
      "cell_type": "markdown",
      "metadata": {},
      "source": [
        "* Saving processed DataFrame to a new CSV file"
      ]
    },
    {
      "cell_type": "code",
      "execution_count": null,
      "metadata": {},
      "outputs": [],
      "source": [
        "df.to_csv('dataset/processed/salaries_processed.csv', index=False)"
      ]
    },
    {
      "cell_type": "markdown",
      "metadata": {},
      "source": [
        "## Conclusion and next steps\n",
        "* We have successfully extracted, transformed, and loaded the data into a new CSV file ready for data visualisation."
      ]
    }
  ],
  "metadata": {
    "accelerator": "GPU",
    "colab": {
      "name": "Data Practitioner Jupyter Notebook.ipynb",
      "provenance": [],
      "toc_visible": true
    },
    "kernelspec": {
      "display_name": ".venv",
      "language": "python",
      "name": "python3"
    },
    "language_info": {
      "codemirror_mode": {
        "name": "ipython",
        "version": 3
      },
      "file_extension": ".py",
      "mimetype": "text/x-python",
      "name": "python",
      "nbconvert_exporter": "python",
      "pygments_lexer": "ipython3",
      "version": "3.12.8"
    },
    "orig_nbformat": 2
  },
  "nbformat": 4,
  "nbformat_minor": 2
}
